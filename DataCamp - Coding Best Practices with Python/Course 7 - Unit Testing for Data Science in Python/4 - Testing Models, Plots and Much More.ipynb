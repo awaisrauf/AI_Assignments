{
 "cells": [
  {
   "cell_type": "markdown",
   "metadata": {},
   "source": [
    "# Testing Models, Plots and Much More\n",
    "\n",
    "## Beyond Assertion: Setup and Teardown \n",
    " \n",
    "- **Setup-> Assert->Teardown**: Testing some functions may  require to create temporary files. So it is better to create them and destroy them once test is done. This is done in three way setup:\n",
    "    1. Setup: \n",
    "    2. Assert: run whatever assert function you may want\n",
    "    3. Teardown: Destory all the temporary files \n",
    "\n",
    "- **Workflow:** For this kind of setup, first create a fixture function and then give it to test function.\n",
    "\n",
    "```python\n",
    "# Add a decorator to make this function a fixture\n",
    "@pytest.fixture\n",
    "def clean_data_file():\n",
    "    # setup\n",
    "    file_path = \"clean_data_file.txt\"\n",
    "    with open(file_path, \"w\") as f:\n",
    "        f.write(\"201\\t305671\\n7892\\t298140\\n501\\t738293\\n\")\n",
    "    yield file_path\n",
    "    # teardown\n",
    "    os.remove(file_path)\n",
    "    \n",
    "# Pass the fixture function as argument\n",
    "def test_on_clean_file(clean_data_file):\n",
    "    expected = np.array([[201.0, 305671.0], [7892.0, 298140.0], [501.0, 738293.0]])\n",
    "    # Pass the clean data file path yielded by the fixture as the first argument\n",
    "    actual = get_data_as_numpy_array(clean_data_file, 2)\n",
    "    assert actual == pytest.approx(expected), \"Expected: {0}, Actual: {1}\".format(expected, actual) \n",
    "```\n",
    "\n",
    "**Fixture**: A simple fixture function to test empty file behaviour in another function \n",
    "\n",
    "```python\n",
    "@pytest.fixture\n",
    "def empty_file():\n",
    "    # Assign the file path \"empty.txt\" to the variable\n",
    "    file_path = \"empty.txt\"\n",
    "    open(file_path, \"w\").close()\n",
    "    # Yield the variable file_path\n",
    "    yield file_path\n",
    "    # Remove the file in the teardown\n",
    "    os.remove(file_path)\n",
    "```"
   ]
  },
  {
   "cell_type": "markdown",
   "metadata": {},
   "source": [
    "### Fixture Chaining \n",
    "- create temporary directory to work with files\n",
    "setup of `tempdir()`--> setup of file --> test --> tear down file --> teardown of tmpdir \n",
    "\n",
    "```python\n",
    "@pytest.fixture\n",
    "\n",
    "# tmpdir argument in the fixure function \n",
    "def empty_file(tmpdir):\n",
    "    # file path in tmpdir\n",
    "    file_path = tmpdir.join(\"empty.txt\")\n",
    "    open(file_path, \"w\").close()\n",
    "    yield file_path\n",
    "```"
   ]
  },
  {
   "cell_type": "markdown",
   "metadata": {},
   "source": [
    "## Mocking \n",
    "- to test a code without dependence on its dependencies \n",
    "- two packages require: `pytest-mock` and `unittest.mock`\n",
    "- it replaces dependencies with mock magic function durin test\n",
    "![](imgs/6.png)"
   ]
  },
  {
   "cell_type": "markdown",
   "metadata": {},
   "source": [
    "## Test for Modules that need training\n",
    "- Models are hard to test because results are uncertain. One way is to test with a data that we know the result of. \n",
    "- For example: to test a linear regression model, use a simple dataset from a linear line i.e. just sampple three data points and test model on those points. "
   ]
  },
  {
   "cell_type": "markdown",
   "metadata": {},
   "source": [
    "## Test for Plots\n",
    "- Images are hard to test. One idea is to generate a baseline in the start with all the possible test arguments, look at it and verify and then run tests to see if new images are same. To avoid differences due to different OS, use library `pytest-mpl`.\n",
    "![](imgs/7.png)\n",
    "\n",
    "- Coding part\n",
    "![](imgs/8.png)\n",
    "\n",
    "pytest baseline image to be in directory called baseline. To generate baseline run following,\n",
    "```bash\n",
    "!pytest -k \"test_plot_for_linear_data\" --mpl-generate-path visulization/baseline\n",
    "```\n",
    "To compare and teset with baseline\n",
    "```bash\n",
    "pytest -k \"test_plot_for_linear_data\" --mpl\n",
    "```\n"
   ]
  },
  {
   "cell_type": "code",
   "execution_count": null,
   "metadata": {},
   "outputs": [],
   "source": []
  }
 ],
 "metadata": {
  "kernelspec": {
   "display_name": "Python 3",
   "language": "python",
   "name": "python3"
  },
  "language_info": {
   "codemirror_mode": {
    "name": "ipython",
    "version": 3
   },
   "file_extension": ".py",
   "mimetype": "text/x-python",
   "name": "python",
   "nbconvert_exporter": "python",
   "pygments_lexer": "ipython3",
   "version": "3.8.2"
  }
 },
 "nbformat": 4,
 "nbformat_minor": 4
}
