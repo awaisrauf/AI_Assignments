{
 "cells": [
  {
   "cell_type": "markdown",
   "metadata": {},
   "source": [
    "# Intermediate unit testing\n",
    "\n",
    "## Mastering assert statements\n",
    "- adding messages in assertions can be helpful\n",
    "- float tests may fail due to approximation error so we should use `assert test == pytest.approx(float_ans)`\n",
    "- isinstance() checks if returned values are of certain type\n",
    "\n",
    "```python\n",
    "import pytest\n",
    "from preprocessing_helpers import convert_to_int\n",
    "\n",
    "def test_on_string_with_one_comma():\n",
    "    test_argument = \"2,081\"\n",
    "    expected = 2081\n",
    "    actual = convert_to_int(test_argument)\n",
    "    # Format the string with the actual return value\n",
    "    message = \"convert_to_int('2,081') should return the int 2081, but it actually returned {0}\".format(actual)\n",
    "    # Write the assert statement which prints message on failure\n",
    "    assert actual==expected, message\n",
    "```"
   ]
  },
  {
   "cell_type": "markdown",
   "metadata": {},
   "source": [
    "### Testing Erros with Context Manager\n",
    "With context manger, we can check raising error behaviour of a function. \n",
    "\n",
    "\n",
    "```python\n",
    "def raise_error():\n",
    "    raise(\"ValueError\")\n",
    "\n",
    "def test_check_error():\n",
    "    with pytest.raises(ValueError):\n",
    "          raise_error()\n",
    "```"
   ]
  },
  {
   "cell_type": "markdown",
   "metadata": {},
   "source": [
    "### Test Cases\n",
    "we can't test for each type of cases, so pick from following type of arguments to pass:\n",
    "1. Bad Arguements\n",
    "2. Special Arguments\n",
    "    - boundary values: boundary where values changes \n",
    "    - arguments that trigger special logic\n",
    "3. Normal Arguments\n",
    "    Test for 2-3 normal arguments"
   ]
  },
  {
   "cell_type": "markdown",
   "metadata": {},
   "source": [
    "## Test Driven Developement\n",
    "Write test first and then write the function \n"
   ]
  }
 ],
 "metadata": {
  "kernelspec": {
   "display_name": "Python 3",
   "language": "python",
   "name": "python3"
  },
  "language_info": {
   "codemirror_mode": {
    "name": "ipython",
    "version": 3
   },
   "file_extension": ".py",
   "mimetype": "text/x-python",
   "name": "python",
   "nbconvert_exporter": "python",
   "pygments_lexer": "ipython3",
   "version": "3.8.2"
  }
 },
 "nbformat": 4,
 "nbformat_minor": 4
}
