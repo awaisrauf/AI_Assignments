{
 "cells": [
  {
   "cell_type": "markdown",
   "metadata": {},
   "source": [
    "# Data manipulation using .groupby()"
   ]
  },
  {
   "cell_type": "code",
   "execution_count": 3,
   "metadata": {},
   "outputs": [],
   "source": [
    "import pandas as pd\n",
    "restaurant_data = pd.read_csv(\"data/restaurant_data.csv\")"
   ]
  },
  {
   "cell_type": "markdown",
   "metadata": {},
   "source": [
    "## Data transformation using .groupby().transform\n"
   ]
  },
  {
   "cell_type": "markdown",
   "metadata": {},
   "source": [
    "### The min-max normalization using .transform()\n",
    "A very common operation is the min-max normalization. It consists in rescaling our value of interest by deducting the minimum value and dividing the result by the difference between the maximum and the minimum value. For example, to rescale student's weight data spanning from 160 pounds to 200 pounds, you subtract 160 from each student's weight and divide the result by 40 (200 - 160).\n",
    "\n",
    "You're going to define and apply the min-max normalization to all the numerical variables in the restaurant data. You will first group the entries by the time the meal took place (Lunch or Dinner) and then apply the normalization to each group separately.\n",
    "\n",
    "Remember you can always explore the dataset and see how it changes in the IPython Shell, and refer to the slides in the Slides tab."
   ]
  },
  {
   "cell_type": "code",
   "execution_count": 11,
   "metadata": {},
   "outputs": [
    {
     "name": "stdout",
     "output_type": "stream",
     "text": [
      "   total_bill       tip  size\n",
      "0    0.291579  0.001111   0.2\n",
      "1    0.152283  0.073333   0.4\n",
      "2    0.375786  0.277778   0.4\n",
      "3    0.431713  0.256667   0.2\n",
      "4    0.450775  0.290000   0.6\n"
     ]
    }
   ],
   "source": [
    "# Define the min-max transformation\n",
    "min_max_tr = lambda x: (x - x.min()) / (x.max() - x.min())\n",
    "\n",
    "# Group the data according to the time\n",
    "restaurant_grouped = restaurant_data.groupby('time')\n",
    "\n",
    "# Apply the transformation\n",
    "restaurant_min_max_group = restaurant_grouped.transform(min_max_tr)\n",
    "print(restaurant_min_max_group.head())"
   ]
  },
  {
   "cell_type": "markdown",
   "metadata": {},
   "source": [
    "### Transforming values to probabilities\n",
    "In this exercise, we will apply a probability distribution function to a pandas DataFrame with group related parameters by transforming the tip variable to probabilities.\n",
    "\n",
    "The transformation will be a exponential transformation. The exponential distribution is defined as\n",
    "\n",
    "$$e^{−λ∗x}∗λ$$\n",
    "where λ (lambda) is the mean of the group that the observation x belongs to."
   ]
  },
  {
   "cell_type": "code",
   "execution_count": 14,
   "metadata": {},
   "outputs": [
    {
     "name": "stdout",
     "output_type": "stream",
     "text": [
      "0    0.135141\n",
      "1    0.017986\n",
      "2    0.000060\n",
      "3    0.000108\n",
      "4    0.000042\n",
      "Name: tip, dtype: float64\n"
     ]
    }
   ],
   "source": [
    "import numpy as np\n",
    "\n",
    "\n",
    "# Define the exponential transformation\n",
    "exp_tr = lambda x: np.exp(-x.mean()*x) * x.mean()\n",
    "\n",
    "# Group the data according to the time\n",
    "restaurant_grouped = restaurant_data.groupby('time')\n",
    "\n",
    "# Apply the transformation\n",
    "restaurant_exp_group = restaurant_grouped['tip'].transform(exp_tr)\n",
    "print(restaurant_exp_group.head())"
   ]
  },
  {
   "cell_type": "markdown",
   "metadata": {},
   "source": [
    "### Validation of normalization\n",
    "For this exercise, we will perform a z-score normalization and verify that it was performed correctly.\n",
    "\n",
    "A distinct characteristic of normalized values is that they have a mean equal to zero and standard deviation equal to one.\n",
    "\n",
    "After you apply the normalization transformation, you can group again on the same variable, and then check the mean and the standard deviation of each group.\n",
    "\n",
    "You will apply the normalization transformation to every numeric variable in the poker_grouped dataset, which is the poker_hands dataset grouped by Class."
   ]
  },
  {
   "cell_type": "code",
   "execution_count": 19,
   "metadata": {},
   "outputs": [],
   "source": [
    "poker_hands = pd.read_csv(\"data/poker_hand.csv\")\n",
    "poker_grouped = poker_hands.groupby('Class')\n"
   ]
  },
  {
   "cell_type": "code",
   "execution_count": 20,
   "metadata": {},
   "outputs": [
    {
     "name": "stdout",
     "output_type": "stream",
     "text": [
      "        S1   R1   S2   R2   S3   R3   S4   R4   S5   R5\n",
      "Class                                                  \n",
      "0     -0.0 -0.0  0.0 -0.0  0.0  0.0  0.0  0.0 -0.0  0.0\n",
      "1      0.0  0.0 -0.0  0.0 -0.0  0.0  0.0  0.0 -0.0  0.0\n",
      "2     -0.0 -0.0  0.0 -0.0 -0.0  0.0  0.0 -0.0 -0.0  0.0\n",
      "3      0.0  0.0  0.0 -0.0 -0.0 -0.0 -0.0 -0.0  0.0 -0.0\n",
      "4     -0.0 -0.0 -0.0 -0.0  0.0 -0.0 -0.0  0.0  0.0  0.0\n",
      "5     -0.0 -0.0 -0.0  0.0 -0.0  0.0 -0.0 -0.0 -0.0  0.0\n",
      "6     -0.0 -0.0 -0.0  0.0  0.0 -0.0  0.0  0.0 -0.0  0.0\n",
      "7      0.0 -0.0 -0.0  0.0 -0.0  0.0  0.0 -0.0 -0.0 -0.0\n",
      "8     -0.0  0.0 -0.0  0.0 -0.0  0.0 -0.0  0.0 -0.0 -0.0\n",
      "9      0.0 -0.0  0.0 -0.0  0.0 -0.0  0.0  0.0  0.0 -0.0\n",
      "        S1   R1   S2   R2   S3   R3   S4   R4   S5   R5\n",
      "Class                                                  \n",
      "0      1.0  1.0  1.0  1.0  1.0  1.0  1.0  1.0  1.0  1.0\n",
      "1      1.0  1.0  1.0  1.0  1.0  1.0  1.0  1.0  1.0  1.0\n",
      "2      1.0  1.0  1.0  1.0  1.0  1.0  1.0  1.0  1.0  1.0\n",
      "3      1.0  1.0  1.0  1.0  1.0  1.0  1.0  1.0  1.0  1.0\n",
      "4      1.0  1.0  1.0  1.0  1.0  1.0  1.0  1.0  1.0  1.0\n",
      "5      1.0  1.0  1.0  1.0  1.0  1.0  1.0  1.0  1.0  1.0\n",
      "6      1.0  1.0  1.0  1.0  1.0  1.0  1.0  1.0  1.0  1.0\n",
      "7      1.0  1.0  1.0  1.0  1.0  1.0  1.0  1.0  1.0  1.0\n",
      "8      1.0  1.0  1.0  1.0  1.0  1.0  1.0  1.0  1.0  1.0\n",
      "9      1.0  1.0  1.0  1.0  1.0  1.0  1.0  1.0  1.0  1.0\n"
     ]
    }
   ],
   "source": [
    "zscore = lambda x: (x - x.mean()) / x.std()\n",
    "\n",
    "# Apply the transformation\n",
    "poker_trans = poker_grouped.transform(zscore)\n",
    "\n",
    "# Re-group the grouped object and print each group's means and standard deviation\n",
    "poker_regrouped = poker_trans.groupby(poker_hands['Class'])\n",
    "\n",
    "print(np.round(poker_regrouped.mean(), 3))\n",
    "print(poker_regrouped.var())"
   ]
  },
  {
   "cell_type": "markdown",
   "metadata": {},
   "source": [
    "## Missing value imputation using transform()\n",
    "- can count missing values\n",
    "- replace them wiht fillna"
   ]
  },
  {
   "cell_type": "markdown",
   "metadata": {},
   "source": [
    "### Identifying missing values\n",
    "The first step before missing value imputation is to identify if there are missing values in our data, and if so, from which group they arise.\n",
    "\n",
    "For the same restaurant_data data you encountered in the lesson, an employee erased by mistake the tips left in 65 tables. The question at stake is how many missing entries came from tables that smokers where present vs tables with no-smokers present.\n",
    "\n",
    "Your task is to group both datasets according to the smoker variable, count the number or present values and then calculate the difference.\n",
    "\n",
    "We're imputing tips to get you to practice the concepts taught in the lesson. From an ethical standpoint, you should not impute financial data in real life, as it could be considered fraud."
   ]
  },
  {
   "cell_type": "code",
   "execution_count": 23,
   "metadata": {},
   "outputs": [
    {
     "data": {
      "text/html": [
       "<div>\n",
       "<style scoped>\n",
       "    .dataframe tbody tr th:only-of-type {\n",
       "        vertical-align: middle;\n",
       "    }\n",
       "\n",
       "    .dataframe tbody tr th {\n",
       "        vertical-align: top;\n",
       "    }\n",
       "\n",
       "    .dataframe thead th {\n",
       "        text-align: right;\n",
       "    }\n",
       "</style>\n",
       "<table border=\"1\" class=\"dataframe\">\n",
       "  <thead>\n",
       "    <tr style=\"text-align: right;\">\n",
       "      <th></th>\n",
       "      <th>total_bill</th>\n",
       "      <th>tip</th>\n",
       "      <th>sex</th>\n",
       "      <th>smoker</th>\n",
       "      <th>day</th>\n",
       "      <th>time</th>\n",
       "      <th>size</th>\n",
       "    </tr>\n",
       "  </thead>\n",
       "  <tbody>\n",
       "    <tr>\n",
       "      <th>0</th>\n",
       "      <td>16.99</td>\n",
       "      <td>1.01</td>\n",
       "      <td>Female</td>\n",
       "      <td>No</td>\n",
       "      <td>Sun</td>\n",
       "      <td>Dinner</td>\n",
       "      <td>2</td>\n",
       "    </tr>\n",
       "    <tr>\n",
       "      <th>1</th>\n",
       "      <td>10.34</td>\n",
       "      <td>1.66</td>\n",
       "      <td>Male</td>\n",
       "      <td>No</td>\n",
       "      <td>Sun</td>\n",
       "      <td>Dinner</td>\n",
       "      <td>3</td>\n",
       "    </tr>\n",
       "    <tr>\n",
       "      <th>2</th>\n",
       "      <td>21.01</td>\n",
       "      <td>3.50</td>\n",
       "      <td>Male</td>\n",
       "      <td>No</td>\n",
       "      <td>Sun</td>\n",
       "      <td>Dinner</td>\n",
       "      <td>3</td>\n",
       "    </tr>\n",
       "    <tr>\n",
       "      <th>3</th>\n",
       "      <td>23.68</td>\n",
       "      <td>3.31</td>\n",
       "      <td>Male</td>\n",
       "      <td>No</td>\n",
       "      <td>Sun</td>\n",
       "      <td>Dinner</td>\n",
       "      <td>2</td>\n",
       "    </tr>\n",
       "    <tr>\n",
       "      <th>4</th>\n",
       "      <td>24.59</td>\n",
       "      <td>3.61</td>\n",
       "      <td>Female</td>\n",
       "      <td>No</td>\n",
       "      <td>Sun</td>\n",
       "      <td>Dinner</td>\n",
       "      <td>4</td>\n",
       "    </tr>\n",
       "  </tbody>\n",
       "</table>\n",
       "</div>"
      ],
      "text/plain": [
       "   total_bill   tip     sex smoker  day    time  size\n",
       "0       16.99  1.01  Female     No  Sun  Dinner     2\n",
       "1       10.34  1.66    Male     No  Sun  Dinner     3\n",
       "2       21.01  3.50    Male     No  Sun  Dinner     3\n",
       "3       23.68  3.31    Male     No  Sun  Dinner     2\n",
       "4       24.59  3.61  Female     No  Sun  Dinner     4"
      ]
     },
     "execution_count": 23,
     "metadata": {},
     "output_type": "execute_result"
    }
   ],
   "source": [
    "restaurant_data.head()"
   ]
  },
  {
   "cell_type": "code",
   "execution_count": 25,
   "metadata": {},
   "outputs": [
    {
     "name": "stdout",
     "output_type": "stream",
     "text": [
      "smoker\n",
      "No     0\n",
      "Yes    0\n",
      "dtype: int64\n"
     ]
    }
   ],
   "source": [
    "# Group both objects according to smoke condition\n",
    "restaurant_nan_grouped = restaurant_data.groupby('smoker')\n",
    "\n",
    "# Store the number of present values\n",
    "restaurant_nan_nval = restaurant_nan_grouped['tip'].count()\n",
    "\n",
    "# Print the group-wise missing entries\n",
    "print(restaurant_nan_grouped['total_bill'].count() -restaurant_nan_nval )\n"
   ]
  },
  {
   "cell_type": "markdown",
   "metadata": {},
   "source": [
    "### Missing value imputation\n",
    "As the majority of the real world data contain missing entries, replacing these entries with sensible values can increase the insight you can get from our data.\n",
    "\n",
    "In the restaurant dataset, the \"total_bill\" column has some missing entries, meaning that you have not recorded how much some tables have paid. Your task in this exercise is to replace the missing entries with the median value of the amount paid, according to whether the entry was recorded on lunch or dinner (time variable)."
   ]
  },
  {
   "cell_type": "code",
   "execution_count": 26,
   "metadata": {},
   "outputs": [
    {
     "name": "stdout",
     "output_type": "stream",
     "text": [
      "   total_bill   tip  size\n",
      "0       16.99  1.01     2\n",
      "1       10.34  1.66     3\n",
      "2       21.01  3.50     3\n",
      "3       23.68  3.31     2\n",
      "4       24.59  3.61     4\n"
     ]
    }
   ],
   "source": [
    "# Define the lambda function\n",
    "missing_trans = lambda x: x.fillna(x.median())\n",
    "\n",
    "# Group the data according to time\n",
    "restaurant_grouped = restaurant_data.groupby('time')\n",
    "\n",
    "# Apply the transformation\n",
    "restaurant_impute = restaurant_grouped.transform(missing_trans)\n",
    "print(restaurant_impute.head())"
   ]
  },
  {
   "cell_type": "markdown",
   "metadata": {},
   "source": [
    "## Data filtration using the filter() function\n"
   ]
  },
  {
   "cell_type": "markdown",
   "metadata": {},
   "source": [
    "### Data filtration\n",
    "As you noticed in the video lesson, you may need to filter your data for various reasons.\n",
    "\n",
    "In this exercise, you will use filtering to select a specific part of our DataFrame:\n",
    "\n",
    "by the number of entries recorded in each day of the week\n",
    "by the mean amount of money the customers paid to the restaurant each day of the week"
   ]
  },
  {
   "cell_type": "code",
   "execution_count": 28,
   "metadata": {},
   "outputs": [
    {
     "name": "stdout",
     "output_type": "stream",
     "text": [
      "Days of the week that have a mean total_bill greater than $20: ['Sun' 'Sat']\n"
     ]
    }
   ],
   "source": [
    "# Filter the days where the count of total_bill is greater than $40\n",
    "total_bill_40 = restaurant_data.groupby('day').filter(lambda x: x['total_bill'].count() > 40)\n",
    "\n",
    "# Select only the entries that have a mean total_bill greater than $20\n",
    "total_bill_20 = total_bill_40.groupby('day').filter(lambda x : x['total_bill'].mean() > 20)\n",
    "\n",
    "# Print days of the week that have a mean total_bill greater than $20\n",
    "print('Days of the week that have a mean total_bill greater than $20:', total_bill_20.day.unique())"
   ]
  },
  {
   "cell_type": "code",
   "execution_count": 30,
   "metadata": {},
   "outputs": [
    {
     "data": {
      "text/plain": [
       "total_bill    163\n",
       "tip           163\n",
       "sex           163\n",
       "smoker        163\n",
       "day           163\n",
       "time          163\n",
       "size          163\n",
       "dtype: int64"
      ]
     },
     "execution_count": 30,
     "metadata": {},
     "output_type": "execute_result"
    }
   ],
   "source": [
    "total_bill_20.count()"
   ]
  }
 ],
 "metadata": {
  "kernelspec": {
   "display_name": "Python 3",
   "language": "python",
   "name": "python3"
  },
  "language_info": {
   "codemirror_mode": {
    "name": "ipython",
    "version": 3
   },
   "file_extension": ".py",
   "mimetype": "text/x-python",
   "name": "python",
   "nbconvert_exporter": "python",
   "pygments_lexer": "ipython3",
   "version": "3.8.2"
  }
 },
 "nbformat": 4,
 "nbformat_minor": 4
}
