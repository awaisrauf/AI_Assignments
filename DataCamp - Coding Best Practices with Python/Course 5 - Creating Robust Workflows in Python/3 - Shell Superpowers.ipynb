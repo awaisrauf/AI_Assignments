{
 "cells": [
  {
   "cell_type": "markdown",
   "metadata": {},
   "source": [
    "# Shell superpowers\n",
    "\n",
    "- argparse\n",
    "    -\n",
    "\n",
    "- docparse\n",
    " - also stores "
   ]
  },
  {
   "cell_type": "markdown",
   "metadata": {},
   "source": [
    "### Argparse nbuild()\n",
    "We will use the standard library argparse module to make a general command-line interface (CLI) function called argparse_cli() and apply this function to the nbuild() function from the previous chapter.\n",
    "\n",
    "If you do not remember how nbuild() works, call help(nbuild).\n",
    "\n",
    "In short, nbuild() returns a notebook object that contains one cell for each input file it receives.\n",
    "\n",
    "We want argparse_cli() to be able to handle an indeterminate number of shell arguments.\n",
    "\n",
    "To do this with argparse, we need to pass nargs='*' to the add_argument() method of an instance of the ArgumentParser class.\n",
    "\n",
    "We will use our CLI to pass shell arguments to nbuild(), so that we can focus on CLI design and not on how the shell arguments are used."
   ]
  },
  {
   "cell_type": "code",
   "execution_count": 4,
   "metadata": {},
   "outputs": [],
   "source": [
    "from typing import List\n",
    "import pprint\n",
    "from nbformat.v4 import new_notebook, new_markdown_cell\n",
    "import nbformat\n",
    "from pathlib import Path\n",
    "\n",
    "\n",
    "def nbuild(filenames: List[str]) -> nbformat.notebooknode.NotebookNode:\n",
    "    \"\"\"Create a Jupyter notebook from text files and Python scripts.\"\"\"\n",
    "    nb = new_notebook()\n",
    "    nb.cells = [\n",
    "        # Create new code cells from files that end in .py\n",
    "        new_code_cell(Path(name).read_text()) \n",
    "        if name.endswith(\".py\")\n",
    "        # Create new markdown cells from all other files\n",
    "        else new_markdown_cell(Path(name).read_text()) \n",
    "        for name in filenames\n",
    "    ]\n",
    "    return nb\n",
    "    \n",
    "# pprint(nbuild([\"intro.md\", \"plot.py\", \"discussion.md\"]))"
   ]
  },
  {
   "cell_type": "code",
   "execution_count": 22,
   "metadata": {},
   "outputs": [
    {
     "name": "stderr",
     "output_type": "stream",
     "text": [
      "usage: ipykernel_launcher.py [-h] [in_files [in_files ...]]\n",
      "ipykernel_launcher.py: error: unrecognized arguments: -f\n"
     ]
    },
    {
     "ename": "SystemExit",
     "evalue": "2",
     "output_type": "error",
     "traceback": [
      "An exception has occurred, use %tb to see the full traceback.\n",
      "\u001b[1;31mSystemExit\u001b[0m\u001b[1;31m:\u001b[0m 2\n"
     ]
    },
    {
     "name": "stderr",
     "output_type": "stream",
     "text": [
      "c:\\python38\\lib\\site-packages\\IPython\\core\\interactiveshell.py:3339: UserWarning: To exit: use 'exit', 'quit', or Ctrl-D.\n",
      "  warn(\"To exit: use 'exit', 'quit', or Ctrl-D.\", stacklevel=1)\n"
     ]
    }
   ],
   "source": [
    "import argparse\n",
    "from typing import Callable\n",
    "\n",
    "\n",
    "def argparse_cli(func: Callable) -> None:\n",
    "    # Instantiate the parser object\n",
    "    parser = argparse.ArgumentParser()\n",
    "    # Add an argument called in_files to the parser object\n",
    "    parser.add_argument(\"in_files\", nargs=\"*\")\n",
    "    args = parser.parse_args()\n",
    "    print(func(args.in_files))\n",
    "\n",
    "if __name__ == \"__main__\":\n",
    "    argparse_cli(nbuild)"
   ]
  },
  {
   "cell_type": "markdown",
   "metadata": {},
   "source": [
    "### Docopt nbuild()\n",
    "If you love docstrings, you are likely to be a fan of docopt CLIs.\n",
    "\n",
    "The docstring in our docopt_cli.py file is only one line, but it includes all the details we need to pass a list of shell arguments to any function.\n",
    "\n",
    "More specifically, the docstring determines that our IN_FILES variable is\n",
    "\n",
    "optional and\n",
    "represents a list of arguments\n",
    "In docopt docstrings, optional arguments are wrapped in square brackets ([]), while lists of arguments are followed by ellipses (...).\n",
    "\n",
    "We have already imported the docopt() function from the docopt module for use in our docopt_cli() function."
   ]
  },
  {
   "cell_type": "code",
   "execution_count": 5,
   "metadata": {
    "collapsed": true
   },
   "outputs": [
    {
     "ename": "TypeError",
     "evalue": "'module' object is not callable",
     "output_type": "error",
     "traceback": [
      "\u001b[1;31m---------------------------------------------------------------------------\u001b[0m",
      "\u001b[1;31mTypeError\u001b[0m                                 Traceback (most recent call last)",
      "\u001b[1;32m<ipython-input-5-ae95335f98d8>\u001b[0m in \u001b[0;36m<module>\u001b[1;34m\u001b[0m\n\u001b[0;32m     12\u001b[0m \u001b[1;33m\u001b[0m\u001b[0m\n\u001b[0;32m     13\u001b[0m \u001b[1;32mif\u001b[0m \u001b[0m__name__\u001b[0m \u001b[1;33m==\u001b[0m \u001b[1;34m\"__main__\"\u001b[0m\u001b[1;33m:\u001b[0m\u001b[1;33m\u001b[0m\u001b[1;33m\u001b[0m\u001b[0m\n\u001b[1;32m---> 14\u001b[1;33m     \u001b[0mdocopt_cli\u001b[0m\u001b[1;33m(\u001b[0m\u001b[0mnbuild\u001b[0m\u001b[1;33m)\u001b[0m\u001b[1;33m\u001b[0m\u001b[1;33m\u001b[0m\u001b[0m\n\u001b[0m",
      "\u001b[1;32m<ipython-input-5-ae95335f98d8>\u001b[0m in \u001b[0;36mdocopt_cli\u001b[1;34m(func)\u001b[0m\n\u001b[0;32m      8\u001b[0m \u001b[1;32mdef\u001b[0m \u001b[0mdocopt_cli\u001b[0m\u001b[1;33m(\u001b[0m\u001b[0mfunc\u001b[0m\u001b[1;33m:\u001b[0m \u001b[0mCallable\u001b[0m\u001b[1;33m)\u001b[0m \u001b[1;33m->\u001b[0m \u001b[1;32mNone\u001b[0m\u001b[1;33m:\u001b[0m\u001b[1;33m\u001b[0m\u001b[1;33m\u001b[0m\u001b[0m\n\u001b[0;32m      9\u001b[0m     \u001b[1;31m# Assign the shell arguments to \"args\"\u001b[0m\u001b[1;33m\u001b[0m\u001b[1;33m\u001b[0m\u001b[1;33m\u001b[0m\u001b[0m\n\u001b[1;32m---> 10\u001b[1;33m     \u001b[0margs\u001b[0m \u001b[1;33m=\u001b[0m \u001b[0mdocopt\u001b[0m\u001b[1;33m(\u001b[0m\u001b[0m__doc__\u001b[0m\u001b[1;33m)\u001b[0m\u001b[1;33m\u001b[0m\u001b[1;33m\u001b[0m\u001b[0m\n\u001b[0m\u001b[0;32m     11\u001b[0m     \u001b[0mprint\u001b[0m\u001b[1;33m(\u001b[0m\u001b[0mfunc\u001b[0m\u001b[1;33m(\u001b[0m\u001b[0margs\u001b[0m\u001b[1;33m[\u001b[0m\u001b[1;34m\"IN_FILES\"\u001b[0m\u001b[1;33m]\u001b[0m\u001b[1;33m)\u001b[0m\u001b[1;33m)\u001b[0m\u001b[1;33m\u001b[0m\u001b[1;33m\u001b[0m\u001b[0m\n\u001b[0;32m     12\u001b[0m \u001b[1;33m\u001b[0m\u001b[0m\n",
      "\u001b[1;31mTypeError\u001b[0m: 'module' object is not callable"
     ]
    }
   ],
   "source": [
    "import docopt\n",
    "from typing import Callable\n",
    "\n",
    "\n",
    "# Add the section title in the docstring below\n",
    "\"\"\"Usage: docopt_cli.py [IN_FILES...]\"\"\"\n",
    "\n",
    "def docopt_cli(func: Callable) -> None:\n",
    "    # Assign the shell arguments to \"args\"\n",
    "    args = docopt(__doc__)\n",
    "    print(func(args[\"IN_FILES\"]))\n",
    "\n",
    "if __name__ == \"__main__\":\n",
    "    docopt_cli(nbuild)"
   ]
  },
  {
   "cell_type": "markdown",
   "metadata": {},
   "source": [
    "## Git Version Control\n",
    "### Commit added files\n",
    "GitPython gives us building blocks that we can use to build Python scripts that make our use of version control faster, easier, and more efficient.\n",
    "\n",
    "Version controlled projects usually start with initializing or cloning repositories.\n",
    "\n",
    "After a repository is set up, the standard cycle of commands is add and commit changes.\n",
    "\n",
    "In this exercise, we will focus on the first two steps: adding changes to the index and committing them to version control history.\n",
    "\n",
    "The commit message is created by an f-string, which evaluates the code inside curly braces ({}).\n",
    "\n",
    "With GitPython, we can initialize a new repository and instantiate the Repo class in one line of code.\n",
    "\n",
    "We can then check for untracked files, add files to the index, commit changes, and list all of the newly tracked files."
   ]
  },
  {
   "cell_type": "code",
   "execution_count": null,
   "metadata": {},
   "outputs": [],
   "source": [
    "# Initialize a new repo in the current folder\n",
    "repo = git.Repo.init()\n",
    "\n",
    "# Obtain a list of untracked files\n",
    "untracked = repo.untracked_files\n",
    "\n",
    "# Add all untracked files to the index\n",
    "repo.index.add(untracked)\n",
    "\n",
    "# Commit newly added files to version control history\n",
    "repo.index.commit(f\"Added {', '.join(untracked)}\")\n",
    "print(repo.head.commit.message)"
   ]
  },
  {
   "cell_type": "markdown",
   "metadata": {},
   "source": [
    "### Commit modified files\n",
    "Since the previous exercise, we have made some changes and now we want to get a list of the files that have changed.\n",
    "\n",
    "We will include the list of changed files in our next commit message.\n",
    "\n",
    "A major advantage of GitPython is that it allows us to programmatically access information on the status of our repositories.\n",
    "\n",
    "Here, we will use the diff() method to obtain a list of files with changes since the latest commit.\n",
    "\n",
    "Our code should work regardless of how many or which files have been modified.\n",
    "\n",
    "For an example of how GitPython can be applied in the real world, take a look at the Gitone Python package."
   ]
  },
  {
   "cell_type": "markdown",
   "metadata": {},
   "source": [
    "## Virtual Enviornments \n",
    "- four packages for virtual envs\n",
    "    - venv\n",
    "    - virtualenv\n",
    "    - pipenv\n",
    "    - conda\n",
    " #### Minimal Make File to create , update virtual env and test it \n",
    "![](imgs/3.png)"
   ]
  },
  {
   "cell_type": "markdown",
   "metadata": {},
   "source": [
    "### List installed packages\n",
    "In this exercise, we will create a venv virtual environment and then make sure we are using a relatively recent of version pandas.\n",
    "\n",
    "We will use the pip list command to pick out pandas from a list of all the packages available in our virtual environment.\n",
    "\n",
    "#### Creating Virtual Env from Bash\n",
    "\n",
    "```bash\n",
    "python -m venv .venv\n",
    "\n",
    "source .venv/Scripts/activate\n",
    "# For windows\n",
    ".venv\\Scripts\\activate\n",
    "\n",
    "pip freeze > requirements.txt\n",
    "\n",
    "pip install --requirement requirements.txt\n",
    "\n",
    "```"
   ]
  },
  {
   "cell_type": "code",
   "execution_count": null,
   "metadata": {},
   "outputs": [],
   "source": [
    "import venv\n",
    "import subprocess\n",
    "\n",
    "# Create an virtual environment\n",
    "venv.create(\".venv\")\n",
    "\n",
    "# Run pip list and obtain a CompletedProcess instance\n",
    "cp = subprocess.run([\".venv/Scripts/python\", \"-m\", \"pip\", \"list\"], stdout=-1)\n",
    "\n",
    "for line in cp.stdout.decode().split(\"\\n\"):\n",
    "    print(line)\n",
    "    if \"pandas\" in line:\n",
    "        print(line)"
   ]
  },
  {
   "cell_type": "markdown",
   "metadata": {},
   "source": [
    "### Show package information\n",
    "In this exercise, we will use the pip install command to install a local package called aadvark.\n",
    "\n",
    "The requirements.txt file in the current working directory is already set up to install any local packages that can be found.\n",
    "\n",
    "To confirm that the installation worked, and the pip show command to access information on the aadvark package.\n",
    "\n",
    "The code in this exercise can be used as part of a script to set up a virtual environment and install local packages in any directory."
   ]
  },
  {
   "cell_type": "code",
   "execution_count": null,
   "metadata": {},
   "outputs": [],
   "source": [
    "print(run(\n",
    "    # Install project dependencies\n",
    "    [\".venv/bin/python\", \"-m\", \"pip\", \"install\", \"-r\", \"requirements.txt\"],\n",
    "    stdout=-1\n",
    ").stdout.decode())\n",
    "\n",
    "print(run(\n",
    "    # Show information on the aardvark package\n",
    "    [\".venv/bin/python\", \"-m\", \"pip\", \"show\", \"aardvark\"], stdout=-1\n",
    ").stdout.decode())"
   ]
  },
  {
   "cell_type": "markdown",
   "metadata": {},
   "source": [
    "## Prsistence and packaging\n",
    "- to save files thorughout data analysis\n",
    "    - porcessed data\n",
    "    - plots\n",
    "    - trained model\n",
    "- pandas use\n",
    "    - to_csv() and read_csv()\n",
    "    - to_json() and read_..\n",
    "    - to_excel() and read_..\n",
    "    - to_pickle() and read_..\n",
    "- Pickle was creaed to pressit python objects\n",
    "    - on-the-fly compression/decompression\n",
    "    `df.to_pickle('df.pkl.xz')`\n",
    "- pakcages\n",
    "    - pip install mypkg\n",
    "    ![](imgs/4.png)\n",
    "\n",
    "### Pickle dataframes\n",
    "In this exercise, we will\n",
    "\n",
    "create a Pandas dataframe from the diabetes dataset,\n",
    "add column names based on the dataset documentation, and then\n",
    "pickle and unpickle the dataframe using Pandas methods.\n",
    "Finally, we will create a Pandas scatterplot to look at the relationship between a diabetes dataset predictor and the target variable."
   ]
  },
  {
   "cell_type": "code",
   "execution_count": 19,
   "metadata": {
    "collapsed": true
   },
   "outputs": [
    {
     "ename": "AttributeError",
     "evalue": "'DataFrame' object has no attribute 'data'",
     "output_type": "error",
     "traceback": [
      "\u001b[1;31m---------------------------------------------------------------------------\u001b[0m",
      "\u001b[1;31mAttributeError\u001b[0m                            Traceback (most recent call last)",
      "\u001b[1;32m<ipython-input-19-60e0da43295d>\u001b[0m in \u001b[0;36m<module>\u001b[1;34m\u001b[0m\n\u001b[0;32m      6\u001b[0m \u001b[0mdiabetes\u001b[0m\u001b[1;33m.\u001b[0m\u001b[0mhead\u001b[0m\u001b[1;33m(\u001b[0m\u001b[1;33m)\u001b[0m\u001b[1;33m\u001b[0m\u001b[1;33m\u001b[0m\u001b[0m\n\u001b[0;32m      7\u001b[0m pd.DataFrame(\n\u001b[1;32m----> 8\u001b[1;33m     \u001b[0mnp\u001b[0m\u001b[1;33m.\u001b[0m\u001b[0mc_\u001b[0m\u001b[1;33m[\u001b[0m\u001b[1;33m(\u001b[0m\u001b[0mdiabetes\u001b[0m\u001b[1;33m.\u001b[0m\u001b[0mdata\u001b[0m\u001b[1;33m,\u001b[0m \u001b[0mdiabetes\u001b[0m\u001b[1;33m.\u001b[0m\u001b[0mtarget\u001b[0m\u001b[1;33m)\u001b[0m\u001b[1;33m]\u001b[0m\u001b[1;33m,\u001b[0m\u001b[1;33m\u001b[0m\u001b[1;33m\u001b[0m\u001b[0m\n\u001b[0m\u001b[0;32m      9\u001b[0m     \u001b[0mcolumns\u001b[0m\u001b[1;33m=\u001b[0m\u001b[1;34m\"age sex bmi map tc ldl hdl tch ltg glu target\"\u001b[0m\u001b[1;33m.\u001b[0m\u001b[0msplit\u001b[0m\u001b[1;33m(\u001b[0m\u001b[1;33m)\u001b[0m\u001b[1;33m\u001b[0m\u001b[1;33m\u001b[0m\u001b[0m\n\u001b[0;32m     10\u001b[0m     \u001b[1;31m# Pickle the diabetes dataframe with zip compression\u001b[0m\u001b[1;33m\u001b[0m\u001b[1;33m\u001b[0m\u001b[1;33m\u001b[0m\u001b[0m\n",
      "\u001b[1;32mc:\\python38\\lib\\site-packages\\pandas\\core\\generic.py\u001b[0m in \u001b[0;36m__getattr__\u001b[1;34m(self, name)\u001b[0m\n\u001b[0;32m   5272\u001b[0m             \u001b[1;32mif\u001b[0m \u001b[0mself\u001b[0m\u001b[1;33m.\u001b[0m\u001b[0m_info_axis\u001b[0m\u001b[1;33m.\u001b[0m\u001b[0m_can_hold_identifiers_and_holds_name\u001b[0m\u001b[1;33m(\u001b[0m\u001b[0mname\u001b[0m\u001b[1;33m)\u001b[0m\u001b[1;33m:\u001b[0m\u001b[1;33m\u001b[0m\u001b[1;33m\u001b[0m\u001b[0m\n\u001b[0;32m   5273\u001b[0m                 \u001b[1;32mreturn\u001b[0m \u001b[0mself\u001b[0m\u001b[1;33m[\u001b[0m\u001b[0mname\u001b[0m\u001b[1;33m]\u001b[0m\u001b[1;33m\u001b[0m\u001b[1;33m\u001b[0m\u001b[0m\n\u001b[1;32m-> 5274\u001b[1;33m             \u001b[1;32mreturn\u001b[0m \u001b[0mobject\u001b[0m\u001b[1;33m.\u001b[0m\u001b[0m__getattribute__\u001b[0m\u001b[1;33m(\u001b[0m\u001b[0mself\u001b[0m\u001b[1;33m,\u001b[0m \u001b[0mname\u001b[0m\u001b[1;33m)\u001b[0m\u001b[1;33m\u001b[0m\u001b[1;33m\u001b[0m\u001b[0m\n\u001b[0m\u001b[0;32m   5275\u001b[0m \u001b[1;33m\u001b[0m\u001b[0m\n\u001b[0;32m   5276\u001b[0m     \u001b[1;32mdef\u001b[0m \u001b[0m__setattr__\u001b[0m\u001b[1;33m(\u001b[0m\u001b[0mself\u001b[0m\u001b[1;33m,\u001b[0m \u001b[0mname\u001b[0m\u001b[1;33m:\u001b[0m \u001b[0mstr\u001b[0m\u001b[1;33m,\u001b[0m \u001b[0mvalue\u001b[0m\u001b[1;33m)\u001b[0m \u001b[1;33m->\u001b[0m \u001b[1;32mNone\u001b[0m\u001b[1;33m:\u001b[0m\u001b[1;33m\u001b[0m\u001b[1;33m\u001b[0m\u001b[0m\n",
      "\u001b[1;31mAttributeError\u001b[0m: 'DataFrame' object has no attribute 'data'"
     ]
    }
   ],
   "source": [
    "import pandas as pd\n",
    "import numpy as np\n",
    "\n",
    "\n",
    "diabetes = pd.read_csv(\"data/diabetes.txt\")\n",
    "pd.DataFrame(\n",
    "    np.c_[(diabetes.data, diabetes.target)],\n",
    "    columns=\"age sex bmi map tc ldl hdl tch ltg glu target\".split()\n",
    "    # Pickle the diabetes dataframe with zip compression\n",
    "    ).to_pickle(\"diabetes.pkl.zip\")\n",
    "                  \n",
    "# Unpickle the diabetes dataframe\n",
    "df = pd.read_pickle(\"diabetes.pkl.zip\")\n",
    "df.plot.scatter(x=\"ltg\", y=\"target\", c=\"age\", colormap=\"viridis\")\n",
    "plt.show()"
   ]
  },
  {
   "cell_type": "markdown",
   "metadata": {},
   "source": [
    "### Pickle models\n",
    "In our final persistence exercise, we will pickle and unpickle a scikit-learn model with joblib.\n",
    "\n",
    "The training and test sets we will need to train the model and make predictions are already loaded.\n",
    "\n",
    "Once we have the predictions, we will plot them against the measured values to assess model fit."
   ]
  },
  {
   "cell_type": "code",
   "execution_count": null,
   "metadata": {},
   "outputs": [],
   "source": [
    "# Train and pickle a linear model\n",
    "joblib.dump(LinearRegression().fit(x_train, y_train), \"linear.pkl\")\n",
    "\n",
    "# Unpickle the linear model\n",
    "linear = joblib.load(\"linear.pkl\")\n",
    "predictions = linear.predict(x_test)\n",
    "plt.scatter(y_test, predictions, edgecolors=(0, 0, 0))\n",
    "min_max = [y_test.min(), y_test.max()]\n",
    "plt.plot(min_max, min_max, \"--\", lw=3)\n",
    "plt.xlabel(\"Measured\")\n",
    "plt.ylabel(\"Predicted\")\n",
    "plt.show()"
   ]
  }
 ],
 "metadata": {
  "kernelspec": {
   "display_name": "Python 3",
   "language": "python",
   "name": "python3"
  },
  "language_info": {
   "codemirror_mode": {
    "name": "ipython",
    "version": 3
   },
   "file_extension": ".py",
   "mimetype": "text/x-python",
   "name": "python",
   "nbconvert_exporter": "python",
   "pygments_lexer": "ipython3",
   "version": "3.8.2"
  }
 },
 "nbformat": 4,
 "nbformat_minor": 4
}
