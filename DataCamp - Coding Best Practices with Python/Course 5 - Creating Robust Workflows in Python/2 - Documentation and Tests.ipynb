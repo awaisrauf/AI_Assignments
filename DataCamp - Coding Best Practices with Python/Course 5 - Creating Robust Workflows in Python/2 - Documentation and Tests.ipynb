{
 "cells": [
  {
   "cell_type": "markdown",
   "metadata": {},
   "source": [
    "# Documentation and Tests\n",
    "- python is dynamic typing which can create ambiguity \n",
    "\n",
    "## Type Hints"
   ]
  },
  {
   "cell_type": "code",
   "execution_count": 1,
   "metadata": {},
   "outputs": [
    {
     "name": "stdout",
     "output_type": "stream",
     "text": [
      "Requirement already satisfied: pytest in c:\\python38\\lib\\site-packages (5.4.1)\n",
      "Requirement already satisfied: atomicwrites>=1.0; sys_platform == \"win32\" in c:\\python38\\lib\\site-packages (from pytest) (1.3.0)\n",
      "Requirement already satisfied: attrs>=17.4.0 in c:\\python38\\lib\\site-packages (from pytest) (19.3.0)\n",
      "Requirement already satisfied: py>=1.5.0 in c:\\python38\\lib\\site-packages (from pytest) (1.8.1)\n",
      "Requirement already satisfied: colorama; sys_platform == \"win32\" in c:\\python38\\lib\\site-packages (from pytest) (0.4.3)\n",
      "Requirement already satisfied: pluggy<1.0,>=0.12 in c:\\python38\\lib\\site-packages (from pytest) (0.13.1)\n",
      "Requirement already satisfied: more-itertools>=4.0.0 in c:\\python38\\lib\\site-packages (from pytest) (8.2.0)\n",
      "Requirement already satisfied: packaging in c:\\python38\\lib\\site-packages (from pytest) (20.3)\n",
      "Requirement already satisfied: wcwidth in c:\\python38\\lib\\site-packages (from pytest) (0.1.9)\n",
      "Requirement already satisfied: pyparsing>=2.0.2 in c:\\python38\\lib\\site-packages (from packaging->pytest) (2.4.7)\n",
      "Requirement already satisfied: six in c:\\python38\\lib\\site-packages (from packaging->pytest) (1.14.0)\n"
     ]
    },
    {
     "name": "stderr",
     "output_type": "stream",
     "text": [
      "WARNING: You are using pip version 20.1; however, version 20.1.1 is available.\n",
      "You should consider upgrading via the 'c:\\python38\\python.exe -m pip install --upgrade pip' command.\n"
     ]
    }
   ],
   "source": [
    "!pip install pytest"
   ]
  },
  {
   "cell_type": "markdown",
   "metadata": {},
   "source": [
    "### TextFile hints\n",
    "In this exercise, we will go back to the example of a TextFile class that can represent any text file.\n",
    "\n",
    "As in the previous chapter, TextFile stores file contents in an instance variable called text.\n",
    "\n",
    "This time our TextFile class will have a get_lines() method that returns all of the lines from the text file used to instantiate the TextFile class.\n",
    "\n",
    "The TextFile class definition is ready, but we want to add type hints, so that calling help() on the TextFile class will provide type annotation information to users.\n",
    "\n",
    "To help getting things started, we've already imported the List class from the typing module."
   ]
  },
  {
   "cell_type": "code",
   "execution_count": 3,
   "metadata": {},
   "outputs": [
    {
     "name": "stdout",
     "output_type": "stream",
     "text": [
      "Help on class TextFile in module __main__:\n",
      "\n",
      "class TextFile(builtins.object)\n",
      " |  TextFile(name: str) -> None\n",
      " |  \n",
      " |  Methods defined here:\n",
      " |  \n",
      " |  __init__(self, name: str) -> None\n",
      " |      Initialize self.  See help(type(self)) for accurate signature.\n",
      " |  \n",
      " |  get_lines(self) -> List[str]\n",
      " |  \n",
      " |  ----------------------------------------------------------------------\n",
      " |  Data descriptors defined here:\n",
      " |  \n",
      " |  __dict__\n",
      " |      dictionary for instance variables (if defined)\n",
      " |  \n",
      " |  __weakref__\n",
      " |      list of weak references to the object (if defined)\n",
      "\n"
     ]
    }
   ],
   "source": [
    "from typing import List, Set, Dict, Tuple, Optional\n",
    "\n",
    "class TextFile:\n",
    "  \t# Add type hints to TextFile\"s __init__() method\n",
    "    def __init__(self, name: str) -> None:\n",
    "        self.text = Path(name).read_text()\n",
    "\n",
    "\t# Type annotate TextFile\"s get_lines() method\n",
    "    def get_lines(self) -> List[str]:\n",
    "        return self.text.split(\"\\n\")\n",
    "\n",
    "help(TextFile)"
   ]
  },
  {
   "cell_type": "markdown",
   "metadata": {},
   "source": [
    "### MatchFinder hints\n",
    "In the video, we discussed how we can introduce flexibility into type hints with the Optional (None and one of any other type) class.\n",
    "\n",
    "In this exercise, we'll design a class called MatchFinder that has a method called get_matches().\n",
    "\n",
    "MatchFinder should only accept a list of strings as its strings argument and then store the input list in an instance variable called strings.\n",
    "\n",
    "The get_matches() method returns a list of either\n",
    "\n",
    "- every string in strings that contains the query argument or\n",
    "- all strings in strings if the match argument is None.\n",
    "\n",
    "The typing module's List and Optional classes have already been imported."
   ]
  },
  {
   "cell_type": "code",
   "execution_count": 5,
   "metadata": {},
   "outputs": [
    {
     "name": "stdout",
     "output_type": "stream",
     "text": [
      "Help on class MatchFinder in module __main__:\n",
      "\n",
      "class MatchFinder(builtins.object)\n",
      " |  MatchFinder(strings: List[str]) -> None\n",
      " |  \n",
      " |  Methods defined here:\n",
      " |  \n",
      " |  __init__(self, strings: List[str]) -> None\n",
      " |      Initialize self.  See help(type(self)) for accurate signature.\n",
      " |  \n",
      " |  get_matches(self, query: Union[str, NoneType] = None) -> List[str]\n",
      " |      # Type annotate the query argument and return value\n",
      " |  \n",
      " |  ----------------------------------------------------------------------\n",
      " |  Data descriptors defined here:\n",
      " |  \n",
      " |  __dict__\n",
      " |      dictionary for instance variables (if defined)\n",
      " |  \n",
      " |  __weakref__\n",
      " |      list of weak references to the object (if defined)\n",
      "\n"
     ]
    }
   ],
   "source": [
    "class MatchFinder:\n",
    "    # Add type hints to the __init__()'s strings argument\n",
    "    def __init__(self, strings: List[str]) -> None:\n",
    "        self.strings = strings\n",
    "\n",
    "    # Type annotate the query argument and return value\n",
    "    def get_matches(self, query: Optional[str] = None) -> List[str]:\n",
    "        return [s for s in self.strings if query in s] if query else self.strings\n",
    "\n",
    "help(MatchFinder)"
   ]
  },
  {
   "cell_type": "markdown",
   "metadata": {},
   "source": [
    "## Docstrings\n",
    "\n",
    "-examples in docstirng serve the purpose of example as well as test case\n",
    "\n",
    "![](imgs/2.png)"
   ]
  },
  {
   "cell_type": "markdown",
   "metadata": {},
   "source": [
    "### Get matches docstring\n",
    "We'll add a docstring with doctest examples to the get_matches() function.\n",
    "\n",
    "This time, we've built the docstring from multiple single-quoted strings.\n",
    "\n",
    "The three strings that will be combined thanks to the wrapping parentheses.\n",
    "\n",
    "The superpowers of docstrings stem from their location, not from triple quotes!\n",
    "\n",
    "The doctest examples will show how to use get_matches() to find a matching character in a list of strings.\n",
    "\n",
    "Call help() on get_matches() if you want to view the final docstring without the newline ('\\n') and tab ('\\t') characters and interspersed code comments.\n",
    "\n",
    "If you get stuck, run the example code in the IPython console!"
   ]
  },
  {
   "cell_type": "code",
   "execution_count": 6,
   "metadata": {},
   "outputs": [
    {
     "name": "stdout",
     "output_type": "stream",
     "text": [
      "Help on function get_matches in module __main__:\n",
      "\n",
      "get_matches(word_list: List[str], query: str) -> List[str]\n",
      "    Find lines containing the query string.\n",
      "    Examples:\n",
      "            >>> get_matches(['a', 'list', 'of', 'words'], 's')\n",
      "            ['list', 'words']\n",
      "\n"
     ]
    }
   ],
   "source": [
    "def get_matches(word_list: List[str], query:str) -> List[str]:\n",
    "    (\"Find lines containing the query string.\\nExamples:\\n\\t\"\n",
    "     # Complete the docstring example below\n",
    "     \">>> get_matches(['a', 'list', 'of', 'words'], 's')\\n\\t\"\n",
    "     # Fill in the expected result of the function call\n",
    "     \"['list', 'words']\")\n",
    "    return [line for line in word_list if query in line]\n",
    "\n",
    "help(get_matches)"
   ]
  },
  {
   "cell_type": "code",
   "execution_count": 8,
   "metadata": {},
   "outputs": [
    {
     "name": "stdout",
     "output_type": "stream",
     "text": [
      "Help on function obtain_words in module __main__:\n",
      "\n",
      "obtain_words(string: str) -> List[str]\n",
      "    Get the top words in a word list.\n",
      "    Examples:\n",
      "            >>> from this import s\n",
      "            >>> from codecs import decode\n",
      "            >>> obtain_words(decode(s, encoding='rot13'))[:4]\n",
      "            ['The', 'Zen', 'of', 'Python']\n",
      "\n"
     ]
    }
   ],
   "source": [
    "def obtain_words(string: str) -> List[str]:\n",
    "    (\"Get the top words in a word list.\\nExamples:\\n\\t\"\n",
    "     \">>> from this import s\\n\\t>>> from codecs import decode\\n\\t\"\n",
    "     # Use obtain_words() in the docstring example below\n",
    "     \">>> obtain_words(decode(s, encoding='rot13'))[:4]\\n\\t\"\n",
    "     # Fill in the expected result of the function call\n",
    "     \"['The', 'Zen', 'of', 'Python']\") \n",
    "    return ''.join(char if char.isalpha() else ' ' for char in string).split()\n",
    "  \n",
    "help(obtain_words)"
   ]
  },
  {
   "cell_type": "markdown",
   "metadata": {},
   "source": [
    "## Reports\n",
    "- diff\n",
    "\n",
    "### Build notebooks\n",
    "The first function we will define for our new Python package is called nbuild().\n",
    "\n",
    "nbuild() will\n",
    "\n",
    "Create a new notebook with the new_notebook() function from the v4 module of nbformat\n",
    "Read the file contents from a list of source files with the read_file() function that we have used in previous exercises\n",
    "Pass the file contents to the new_code_cell() or new_markdown_cell() functions from the v4 module of nbformat\n",
    "Assign a list of the resulting cells to the 'cells' key in the new notebook\n",
    "Return the notebook instance\n",
    "We've already imported nbformat and all of the above functions.\n",
    "\n",
    "With nbuild(), we will be able to create Jupyter notebooks from small, modular files!"
   ]
  },
  {
   "cell_type": "code",
   "execution_count": null,
   "metadata": {},
   "outputs": [],
   "source": [
    "def nbuild(filenames: List[str]) -> nbformat.notebooknode.NotebookNode:\n",
    "    \"\"\"Create a Jupyter notebook from text files and Python scripts.\"\"\"\n",
    "    nb = new_notebook()\n",
    "    nb.cells = [\n",
    "        # Create new code cells from files that end in .py\n",
    "        new_code_cell(Path(name).read_text()) \n",
    "        if name.endswith(\".py\")\n",
    "        # Create new markdown cells from all other files\n",
    "        else new_markdown_cell(Path(name).read_text()) \n",
    "        for name in filenames\n",
    "    ]\n",
    "    return nb\n",
    "    \n",
    "pprint(nbuild([\"intro.md\", \"plot.py\", \"discussion.md\"]))"
   ]
  },
  {
   "cell_type": "markdown",
   "metadata": {},
   "source": [
    "### Convert notebooks\n",
    "nbconvert is very flexible and includes exporter classes that can convert notebooks into many formats, including: 'asciidoc', 'custom', 'html', 'latex', 'markdown', 'notebook', 'pdf', 'python', 'rst', 'script', and 'slides'.\n",
    "\n",
    "We'll write a single function, called nbconv(), that can export to any of these formats.\n",
    "\n",
    "To do this, we'll use the get_exporter() function from the exporters module of nbconvert.\n",
    "\n",
    "After instantiating an exporter, we'll use its from_filename() method to obtain the contents of the converted file that will be returned by nbconv().\n",
    "\n",
    "The from_filename() method also produces a dictionary of metadata that we will not use in this exercise.\n",
    "\n",
    "Unlike nbuild(), nbconv() will return a string, rather than a NotebookNode object."
   ]
  },
  {
   "cell_type": "code",
   "execution_count": null,
   "metadata": {},
   "outputs": [],
   "source": [
    "def nbconv(nb_name: str, exporter: str = \"script\") -> str:\n",
    "    \"\"\"Convert a notebook into various formats using different exporters.\"\"\"\n",
    "    # Instantiate the specified exporter class\n",
    "    exp = get_exporter(exporter)()\n",
    "    # Return the converted file\"s contents string \n",
    "    return exp.from_filename(nb_name)[0]\n",
    "    \n",
    "pprint(nbconv(nb_name=\"mynotebook.ipynb\", exporter=\"html\"))"
   ]
  },
  {
   "cell_type": "markdown",
   "metadata": {},
   "source": [
    "## Pytest\n",
    "### Parametrize\n",
    "Docstring examples are great, because they are included in Sphinx documentation and testable with doctest, but now we are ready to take our testing to the next level with pytest.\n",
    "\n",
    "Writing pytest tests\n",
    "\n",
    "- is less cumbersome than writing docstring examples (no need for >>> or ...)\n",
    "- allows us to leverage awesome features like the parametrize decorator.\n",
    "\n",
    "The arguments we will pass to parametrize are\n",
    "\n",
    "- a name for the list of arguments and\n",
    "- the list of arguments itself.\n",
    "In this exercise, we will define a test_nbuild() function to pass three different file types to the nbuild() function and confirm that the output notebook contains the input file in its first cell.\n",
    "\n",
    "We will use a custom function called show_test_output() to see the test output."
   ]
  },
  {
   "cell_type": "code",
   "execution_count": 11,
   "metadata": {
    "collapsed": true
   },
   "outputs": [
    {
     "name": "stdout",
     "output_type": "stream",
     "text": [
      "Requirement already satisfied: pytest in c:\\python38\\lib\\site-packages (5.4.1)\n",
      "Requirement already satisfied: more-itertools>=4.0.0 in c:\\python38\\lib\\site-packages (from pytest) (8.2.0)\n",
      "Requirement already satisfied: pluggy<1.0,>=0.12 in c:\\python38\\lib\\site-packages (from pytest) (0.13.1)\n",
      "Requirement already satisfied: packaging in c:\\python38\\lib\\site-packages (from pytest) (20.3)\n",
      "Requirement already satisfied: py>=1.5.0 in c:\\python38\\lib\\site-packages (from pytest) (1.8.1)\n",
      "Requirement already satisfied: atomicwrites>=1.0; sys_platform == \"win32\" in c:\\python38\\lib\\site-packages (from pytest) (1.3.0)\n",
      "Requirement already satisfied: colorama; sys_platform == \"win32\" in c:\\python38\\lib\\site-packages (from pytest) (0.4.3)\n",
      "Requirement already satisfied: wcwidth in c:\\python38\\lib\\site-packages (from pytest) (0.1.9)\n",
      "Requirement already satisfied: attrs>=17.4.0 in c:\\python38\\lib\\site-packages (from pytest) (19.3.0)\n",
      "Requirement already satisfied: pyparsing>=2.0.2 in c:\\python38\\lib\\site-packages (from packaging->pytest) (2.4.7)\n",
      "Requirement already satisfied: six in c:\\python38\\lib\\site-packages (from packaging->pytest) (1.14.0)\n"
     ]
    },
    {
     "name": "stderr",
     "output_type": "stream",
     "text": [
      "WARNING: You are using pip version 20.1; however, version 20.1.1 is available.\n",
      "You should consider upgrading via the 'c:\\python38\\python.exe -m pip install --upgrade pip' command.\n"
     ]
    },
    {
     "ename": "NameError",
     "evalue": "name 'show_test_output' is not defined",
     "output_type": "error",
     "traceback": [
      "\u001b[1;31m---------------------------------------------------------------------------\u001b[0m",
      "\u001b[1;31mNameError\u001b[0m                                 Traceback (most recent call last)",
      "\u001b[1;32m<ipython-input-11-10bbbd37db78>\u001b[0m in \u001b[0;36m<module>\u001b[1;34m\u001b[0m\n\u001b[0;32m      7\u001b[0m     \u001b[1;32massert\u001b[0m \u001b[0mnbuild\u001b[0m\u001b[1;33m(\u001b[0m\u001b[1;33m[\u001b[0m\u001b[0minputs\u001b[0m\u001b[1;33m]\u001b[0m\u001b[1;33m)\u001b[0m\u001b[1;33m.\u001b[0m\u001b[0mcells\u001b[0m\u001b[1;33m[\u001b[0m\u001b[1;36m0\u001b[0m\u001b[1;33m]\u001b[0m\u001b[1;33m.\u001b[0m\u001b[0msource\u001b[0m \u001b[1;33m==\u001b[0m \u001b[0mPath\u001b[0m\u001b[1;33m(\u001b[0m\u001b[0minputs\u001b[0m\u001b[1;33m)\u001b[0m\u001b[1;33m.\u001b[0m\u001b[0mread_text\u001b[0m\u001b[1;33m(\u001b[0m\u001b[1;33m)\u001b[0m\u001b[1;33m\u001b[0m\u001b[1;33m\u001b[0m\u001b[0m\n\u001b[0;32m      8\u001b[0m \u001b[1;33m\u001b[0m\u001b[0m\n\u001b[1;32m----> 9\u001b[1;33m \u001b[0mshow_test_output\u001b[0m\u001b[1;33m(\u001b[0m\u001b[0mtest_nbuild\u001b[0m\u001b[1;33m)\u001b[0m\u001b[1;33m\u001b[0m\u001b[1;33m\u001b[0m\u001b[0m\n\u001b[0m",
      "\u001b[1;31mNameError\u001b[0m: name 'show_test_output' is not defined"
     ]
    }
   ],
   "source": [
    "!pip install pytest\n",
    "import pytest\n",
    "# Fill in the decorator for the test_nbuild() function \n",
    "@pytest.mark.parametrize(\"inputs\", [\"intro.md\", \"plot.py\", \"discussion.md\"])\n",
    "# Pass the argument set to the test_nbuild() function\n",
    "def test_nbuild(inputs):\n",
    "    assert nbuild([inputs]).cells[0].source == Path(inputs).read_text()\n",
    "\n",
    "show_test_output(test_nbuild)"
   ]
  },
  {
   "cell_type": "markdown",
   "metadata": {},
   "source": [
    "### Raises\n",
    "In this coding exercise, we will define a test function called test_nbconv() that will use the\n",
    "\n",
    "@parametrize decorator to pass three unsupported arguments to our nbconv() function\n",
    "raises() function to make sure that passing each incorrect argument to nbconv() results in a ValueError\n",
    "As in the previous exercise, we will use show_test_output() to see the test output.\n",
    "\n",
    "To see an implementation of this test and others, checkout the Nbless package documentation."
   ]
  },
  {
   "cell_type": "code",
   "execution_count": 12,
   "metadata": {
    "collapsed": true
   },
   "outputs": [
    {
     "ename": "NameError",
     "evalue": "name 'show_test_output' is not defined",
     "output_type": "error",
     "traceback": [
      "\u001b[1;31m---------------------------------------------------------------------------\u001b[0m",
      "\u001b[1;31mNameError\u001b[0m                                 Traceback (most recent call last)",
      "\u001b[1;32m<ipython-input-12-de6e3b1f07e0>\u001b[0m in \u001b[0;36m<module>\u001b[1;34m\u001b[0m\n\u001b[0;32m      6\u001b[0m         \u001b[0mnbconv\u001b[0m\u001b[1;33m(\u001b[0m\u001b[0mnb_name\u001b[0m\u001b[1;33m=\u001b[0m\u001b[1;34m\"mynotebook.ipynb\"\u001b[0m\u001b[1;33m,\u001b[0m \u001b[0mexporter\u001b[0m\u001b[1;33m=\u001b[0m\u001b[0mnot_exporters\u001b[0m\u001b[1;33m)\u001b[0m\u001b[1;33m\u001b[0m\u001b[1;33m\u001b[0m\u001b[0m\n\u001b[0;32m      7\u001b[0m \u001b[1;33m\u001b[0m\u001b[0m\n\u001b[1;32m----> 8\u001b[1;33m \u001b[0mshow_test_output\u001b[0m\u001b[1;33m(\u001b[0m\u001b[0mtest_nbconv\u001b[0m\u001b[1;33m)\u001b[0m\u001b[1;33m\u001b[0m\u001b[1;33m\u001b[0m\u001b[0m\n\u001b[0m",
      "\u001b[1;31mNameError\u001b[0m: name 'show_test_output' is not defined"
     ]
    }
   ],
   "source": [
    "@pytest.mark.parametrize(\"not_exporters\", [\"htm\", \"ipython\", \"markup\"])\n",
    "# Pass the argument set to the test_nbconv() function\n",
    "def test_nbconv(not_exporters):\n",
    "     # Use pytest to confirm that a ValueError is raised\n",
    "    with pytest.raises(ValueError):\n",
    "        nbconv(nb_name=\"mynotebook.ipynb\", exporter=not_exporters)\n",
    "\n",
    "show_test_output(test_nbconv)"
   ]
  },
  {
   "cell_type": "code",
   "execution_count": null,
   "metadata": {},
   "outputs": [],
   "source": []
  }
 ],
 "metadata": {
  "kernelspec": {
   "display_name": "Python 3",
   "language": "python",
   "name": "python3"
  },
  "language_info": {
   "codemirror_mode": {
    "name": "ipython",
    "version": 3
   },
   "file_extension": ".py",
   "mimetype": "text/x-python",
   "name": "python",
   "nbconvert_exporter": "python",
   "pygments_lexer": "ipython3",
   "version": "3.8.2"
  }
 },
 "nbformat": 4,
 "nbformat_minor": 4
}
