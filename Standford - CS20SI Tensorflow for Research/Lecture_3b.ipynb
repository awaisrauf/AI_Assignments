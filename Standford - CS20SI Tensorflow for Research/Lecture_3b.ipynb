{
 "cells": [
  {
   "cell_type": "markdown",
   "metadata": {},
   "source": [
    "# Lecture 3b"
   ]
  },
  {
   "cell_type": "code",
   "execution_count": 2,
   "metadata": {
    "collapsed": false
   },
   "outputs": [],
   "source": [
    "import tensorflow as tf\n",
    "import matplotlib.pyplot as plt\n",
    "%matplotlib inline\n",
    "import numpy as np\n",
    "import xlrd\n",
    "import time\n"
   ]
  },
  {
   "cell_type": "code",
   "execution_count": 3,
   "metadata": {
    "collapsed": true
   },
   "outputs": [],
   "source": [
    "# These functions are to visulize graph inline\n",
    "from IPython.display import clear_output, Image, display, HTML\n",
    "def strip_consts(graph_def, max_const_size=32):\n",
    "    \"\"\"Strip large constant values from graph_def.\"\"\"\n",
    "    strip_def = tf.GraphDef()\n",
    "    for n0 in graph_def.node:\n",
    "        n = strip_def.node.add() \n",
    "        n.MergeFrom(n0)\n",
    "        if n.op == 'Const':\n",
    "            tensor = n.attr['value'].tensor\n",
    "            size = len(tensor.tensor_content)\n",
    "            if size > max_const_size:\n",
    "                tensor.tensor_content = \"<stripped %d bytes>\"%size\n",
    "    return strip_def\n",
    "\n",
    "def show_graph(graph_def, max_const_size=32):\n",
    "    \"\"\"Visualize TensorFlow graph.\"\"\"\n",
    "    if hasattr(graph_def, 'as_graph_def'):\n",
    "        graph_def = graph_def.as_graph_def()\n",
    "    strip_def = strip_consts(graph_def, max_const_size=max_const_size)\n",
    "    code = \"\"\"\n",
    "        <script>\n",
    "          function load() {{\n",
    "            document.getElementById(\"{id}\").pbtxt = {data};\n",
    "          }}\n",
    "        </script>\n",
    "        <link rel=\"import\" href=\"https://tensorboard.appspot.com/tf-graph-basic.build.html\" onload=load()>\n",
    "        <div style=\"height:600px\">\n",
    "          <tf-graph-basic id=\"{id}\"></tf-graph-basic>\n",
    "        </div>\n",
    "    \"\"\".format(data=repr(str(strip_def)), id='graph'+str(np.random.rand()))\n",
    "\n",
    "    iframe = \"\"\"\n",
    "        <iframe seamless style=\"width:1200px;height:620px;border:0\" srcdoc=\"{}\"></iframe>\n",
    "    \"\"\".format(code.replace('\"', '&quot;'))\n",
    "    display(HTML(iframe))"
   ]
  },
  {
   "cell_type": "markdown",
   "metadata": {},
   "source": [
    "## Logistic Regression "
   ]
  },
  {
   "cell_type": "code",
   "execution_count": 4,
   "metadata": {
    "collapsed": true
   },
   "outputs": [],
   "source": [
    "# For MNIST Dataset\n",
    "# logits = X*w + b\n",
    "# Y_predicted = softmax(logits)\n",
    "# loss = cross_entropy(Y,Y_predicted)"
   ]
  },
  {
   "cell_type": "markdown",
   "metadata": {},
   "source": [
    "### Graph "
   ]
  },
  {
   "cell_type": "code",
   "execution_count": 5,
   "metadata": {
    "collapsed": false
   },
   "outputs": [
    {
     "name": "stdout",
     "output_type": "stream",
     "text": [
      "Extracting /data/mnist\\train-images-idx3-ubyte.gz\n",
      "Extracting /data/mnist\\train-labels-idx1-ubyte.gz\n",
      "Extracting /data/mnist\\t10k-images-idx3-ubyte.gz\n",
      "Extracting /data/mnist\\t10k-labels-idx1-ubyte.gz\n"
     ]
    }
   ],
   "source": [
    "# Step 1: Read in Data\n",
    "from tensorflow.examples.tutorials.mnist import input_data\n",
    "mnist = input_data.read_data_sets('/data/mnist',one_hot=True)"
   ]
  },
  {
   "cell_type": "code",
   "execution_count": 6,
   "metadata": {
    "collapsed": false
   },
   "outputs": [],
   "source": [
    "# Defing Model\n",
    "# Define parameters \n",
    "tf.reset_default_graph()\n",
    "learning_rate = 0.1\n",
    "batch_size = 128\n",
    "n_epochs = 30\n",
    "\n",
    "\n",
    "#Step 2: \n",
    "X = tf.placeholder(tf.float32,[batch_size,784],name='X_placeholder')\n",
    "Y = tf.placeholder(tf.float32,[batch_size,10],name='Y_placeholder')\n",
    "#Step 3:\n",
    "weights = tf.Variable(tf.random_normal(shape=[784,10],stddev=0.01),name='weights') \n",
    "bias = tf.Variable(tf.zeros([1,10]),name='bias')\n",
    "\n",
    "#Step 4:\n",
    "logits = tf.matmul(X,weights) + bias\n",
    "\n",
    "#Step 5: \n",
    "entropy = tf.nn.softmax_cross_entropy_with_logits(labels=Y,logits=logits,name='loss')\n",
    "loss = tf.reduce_mean(entropy)\n",
    "# Step 6:\n",
    "optimizer = tf.train.GradientDescentOptimizer(learning_rate).minimize(loss)"
   ]
  },
  {
   "cell_type": "code",
   "execution_count": 7,
   "metadata": {
    "collapsed": false,
    "scrolled": true
   },
   "outputs": [
    {
     "name": "stdout",
     "output_type": "stream",
     "text": [
      "Average loss epoch 0:0.5895985464255015\n",
      "Average loss epoch 1:0.38229307681669444\n",
      "Average loss epoch 2:0.3491351484627157\n",
      "Average loss epoch 3:0.3309470740231601\n",
      "Average loss epoch 4:0.3210917798789231\n",
      "Average loss epoch 5:0.31225927754159855\n",
      "Average loss epoch 6:0.3057634740164786\n",
      "Average loss epoch 7:0.3011438046301995\n",
      "Average loss epoch 8:0.2975122494783713\n",
      "Average loss epoch 9:0.29388150850653927\n",
      "Average loss epoch 10:0.2919832657336633\n",
      "Average loss epoch 11:0.2877503954620906\n",
      "Average loss epoch 12:0.28473833161634166\n",
      "Average loss epoch 13:0.28498443872570156\n",
      "Average loss epoch 14:0.28234671052797133\n",
      "Average loss epoch 15:0.2792661496392497\n",
      "Average loss epoch 16:0.28001140801361946\n",
      "Average loss epoch 17:0.2785054968196751\n",
      "Average loss epoch 18:0.2752267465794281\n",
      "Average loss epoch 19:0.2753134447134736\n",
      "Average loss epoch 20:0.27359294934775724\n",
      "Average loss epoch 21:0.2754184245924294\n",
      "Average loss epoch 22:0.2717709303909526\n",
      "Average loss epoch 23:0.27183115477120123\n",
      "Average loss epoch 24:0.268783540176206\n",
      "Average loss epoch 25:0.2708550944125458\n",
      "Average loss epoch 26:0.26716914932766717\n",
      "Average loss epoch 27:0.2689021597757484\n",
      "Average loss epoch 28:0.2665652824448539\n",
      "Average loss epoch 29:0.2660098491814031\n",
      "Total_time:{0} seconds 61.83649468421936\n",
      "Accuracy0.9212\n"
     ]
    }
   ],
   "source": [
    "# Run Session\n",
    "with tf.Session() as sess:\n",
    "    writer = tf.summary.FileWriter('./graphs/lect_3',sess.graph)\n",
    "    start_time = time.time()\n",
    "    sess.run(tf.global_variables_initializer())\n",
    "    n_batches = int(mnist.train.num_examples/batch_size)\n",
    "    for i in range(n_epochs):\n",
    "        total_loss = 0\n",
    "        for j in range(n_batches):\n",
    "            X_batch,Y_batch = mnist.train.next_batch(batch_size)\n",
    "            _,loss_batch = sess.run([optimizer,loss],feed_dict\n",
    "                                    ={X:X_batch,Y:Y_batch})\n",
    "            total_loss +=loss_batch\n",
    "        print('Average loss epoch {0}:{1}'.format(i,total_loss/n_batches))    \n",
    "    print('Total_time:{0} seconds',format(time.time()-start_time))\n",
    "# Test The model\n",
    "    n_batches = int(mnist.test.num_examples/batch_size)\n",
    "    total_correct_preds = 0\n",
    "    for i in range(n_batches):\n",
    "        X_batch, Y_batch = mnist.test.next_batch(batch_size)\n",
    "        loss_batch,logits_batch = sess.run([loss,logits],feed_dict={X:X_batch,Y:Y_batch})\n",
    "        probs = tf.nn.softmax(logits_batch)\n",
    "        correct_preds = tf.equal(tf.argmax(probs,1),tf.argmax(Y_batch,1))\n",
    "        n_correct_preds = tf.reduce_sum(tf.cast(correct_preds,tf.float32))\n",
    "        total_correct_preds += sess.run(n_correct_preds)\n",
    "    print('Accuracy{0}'.format(total_correct_preds/mnist.test.num_examples))    \n",
    "writer.close()           "
   ]
  },
  {
   "cell_type": "code",
   "execution_count": 8,
   "metadata": {
    "collapsed": false
   },
   "outputs": [
    {
     "ename": "TypeError",
     "evalue": "'<stripped 5120 bytes>' has type <class 'str'>, but expected one of: ((<class 'bytes'>,),)",
     "output_type": "error",
     "traceback": [
      "\u001b[1;31m---------------------------------------------------------------------------\u001b[0m",
      "\u001b[1;31mTypeError\u001b[0m                                 Traceback (most recent call last)",
      "\u001b[1;32m<ipython-input-8-05763ab98063>\u001b[0m in \u001b[0;36m<module>\u001b[1;34m()\u001b[0m\n\u001b[1;32m----> 1\u001b[1;33m \u001b[0mshow_graph\u001b[0m\u001b[1;33m(\u001b[0m\u001b[0mtf\u001b[0m\u001b[1;33m.\u001b[0m\u001b[0mget_default_graph\u001b[0m\u001b[1;33m(\u001b[0m\u001b[1;33m)\u001b[0m\u001b[1;33m.\u001b[0m\u001b[0mas_graph_def\u001b[0m\u001b[1;33m(\u001b[0m\u001b[1;33m)\u001b[0m\u001b[1;33m)\u001b[0m\u001b[1;33m\u001b[0m\u001b[0m\n\u001b[0m",
      "\u001b[1;32m<ipython-input-3-73116b46617e>\u001b[0m in \u001b[0;36mshow_graph\u001b[1;34m(graph_def, max_const_size)\u001b[0m\n\u001b[0;32m     18\u001b[0m     \u001b[1;32mif\u001b[0m \u001b[0mhasattr\u001b[0m\u001b[1;33m(\u001b[0m\u001b[0mgraph_def\u001b[0m\u001b[1;33m,\u001b[0m \u001b[1;34m'as_graph_def'\u001b[0m\u001b[1;33m)\u001b[0m\u001b[1;33m:\u001b[0m\u001b[1;33m\u001b[0m\u001b[0m\n\u001b[0;32m     19\u001b[0m         \u001b[0mgraph_def\u001b[0m \u001b[1;33m=\u001b[0m \u001b[0mgraph_def\u001b[0m\u001b[1;33m.\u001b[0m\u001b[0mas_graph_def\u001b[0m\u001b[1;33m(\u001b[0m\u001b[1;33m)\u001b[0m\u001b[1;33m\u001b[0m\u001b[0m\n\u001b[1;32m---> 20\u001b[1;33m     \u001b[0mstrip_def\u001b[0m \u001b[1;33m=\u001b[0m \u001b[0mstrip_consts\u001b[0m\u001b[1;33m(\u001b[0m\u001b[0mgraph_def\u001b[0m\u001b[1;33m,\u001b[0m \u001b[0mmax_const_size\u001b[0m\u001b[1;33m=\u001b[0m\u001b[0mmax_const_size\u001b[0m\u001b[1;33m)\u001b[0m\u001b[1;33m\u001b[0m\u001b[0m\n\u001b[0m\u001b[0;32m     21\u001b[0m     code = \"\"\"\n\u001b[0;32m     22\u001b[0m         \u001b[1;33m<\u001b[0m\u001b[0mscript\u001b[0m\u001b[1;33m>\u001b[0m\u001b[1;33m\u001b[0m\u001b[0m\n",
      "\u001b[1;32m<ipython-input-3-73116b46617e>\u001b[0m in \u001b[0;36mstrip_consts\u001b[1;34m(graph_def, max_const_size)\u001b[0m\n\u001b[0;32m     11\u001b[0m             \u001b[0msize\u001b[0m \u001b[1;33m=\u001b[0m \u001b[0mlen\u001b[0m\u001b[1;33m(\u001b[0m\u001b[0mtensor\u001b[0m\u001b[1;33m.\u001b[0m\u001b[0mtensor_content\u001b[0m\u001b[1;33m)\u001b[0m\u001b[1;33m\u001b[0m\u001b[0m\n\u001b[0;32m     12\u001b[0m             \u001b[1;32mif\u001b[0m \u001b[0msize\u001b[0m \u001b[1;33m>\u001b[0m \u001b[0mmax_const_size\u001b[0m\u001b[1;33m:\u001b[0m\u001b[1;33m\u001b[0m\u001b[0m\n\u001b[1;32m---> 13\u001b[1;33m                 \u001b[0mtensor\u001b[0m\u001b[1;33m.\u001b[0m\u001b[0mtensor_content\u001b[0m \u001b[1;33m=\u001b[0m \u001b[1;34m\"<stripped %d bytes>\"\u001b[0m\u001b[1;33m%\u001b[0m\u001b[0msize\u001b[0m\u001b[1;33m\u001b[0m\u001b[0m\n\u001b[0m\u001b[0;32m     14\u001b[0m     \u001b[1;32mreturn\u001b[0m \u001b[0mstrip_def\u001b[0m\u001b[1;33m\u001b[0m\u001b[0m\n\u001b[0;32m     15\u001b[0m \u001b[1;33m\u001b[0m\u001b[0m\n",
      "\u001b[1;32m~\\AppData\\Local\\conda\\conda\\envs\\tensorflow\\lib\\site-packages\\google\\protobuf\\internal\\python_message.py\u001b[0m in \u001b[0;36mfield_setter\u001b[1;34m(self, new_value)\u001b[0m\n\u001b[0;32m    658\u001b[0m     \u001b[1;31m# Testing the value for truthiness captures all of the proto3 defaults\u001b[0m\u001b[1;33m\u001b[0m\u001b[1;33m\u001b[0m\u001b[0m\n\u001b[0;32m    659\u001b[0m     \u001b[1;31m# (0, 0.0, enum 0, and False).\u001b[0m\u001b[1;33m\u001b[0m\u001b[1;33m\u001b[0m\u001b[0m\n\u001b[1;32m--> 660\u001b[1;33m     \u001b[0mnew_value\u001b[0m \u001b[1;33m=\u001b[0m \u001b[0mtype_checker\u001b[0m\u001b[1;33m.\u001b[0m\u001b[0mCheckValue\u001b[0m\u001b[1;33m(\u001b[0m\u001b[0mnew_value\u001b[0m\u001b[1;33m)\u001b[0m\u001b[1;33m\u001b[0m\u001b[0m\n\u001b[0m\u001b[0;32m    661\u001b[0m     \u001b[1;32mif\u001b[0m \u001b[0mclear_when_set_to_default\u001b[0m \u001b[1;32mand\u001b[0m \u001b[1;32mnot\u001b[0m \u001b[0mnew_value\u001b[0m\u001b[1;33m:\u001b[0m\u001b[1;33m\u001b[0m\u001b[0m\n\u001b[0;32m    662\u001b[0m       \u001b[0mself\u001b[0m\u001b[1;33m.\u001b[0m\u001b[0m_fields\u001b[0m\u001b[1;33m.\u001b[0m\u001b[0mpop\u001b[0m\u001b[1;33m(\u001b[0m\u001b[0mfield\u001b[0m\u001b[1;33m,\u001b[0m \u001b[1;32mNone\u001b[0m\u001b[1;33m)\u001b[0m\u001b[1;33m\u001b[0m\u001b[0m\n",
      "\u001b[1;32m~\\AppData\\Local\\conda\\conda\\envs\\tensorflow\\lib\\site-packages\\google\\protobuf\\internal\\type_checkers.py\u001b[0m in \u001b[0;36mCheckValue\u001b[1;34m(self, proposed_value)\u001b[0m\n\u001b[0;32m    107\u001b[0m       message = ('%.1024r has type %s, but expected one of: %s' %\n\u001b[0;32m    108\u001b[0m                  (proposed_value, type(proposed_value), self._acceptable_types))\n\u001b[1;32m--> 109\u001b[1;33m       \u001b[1;32mraise\u001b[0m \u001b[0mTypeError\u001b[0m\u001b[1;33m(\u001b[0m\u001b[0mmessage\u001b[0m\u001b[1;33m)\u001b[0m\u001b[1;33m\u001b[0m\u001b[0m\n\u001b[0m\u001b[0;32m    110\u001b[0m     \u001b[1;32mreturn\u001b[0m \u001b[0mproposed_value\u001b[0m\u001b[1;33m\u001b[0m\u001b[0m\n\u001b[0;32m    111\u001b[0m \u001b[1;33m\u001b[0m\u001b[0m\n",
      "\u001b[1;31mTypeError\u001b[0m: '<stripped 5120 bytes>' has type <class 'str'>, but expected one of: ((<class 'bytes'>,),)"
     ]
    }
   ],
   "source": [
    "show_graph(tf.get_default_graph().as_graph_def())"
   ]
  },
  {
   "cell_type": "code",
   "execution_count": null,
   "metadata": {
    "collapsed": true
   },
   "outputs": [],
   "source": []
  }
 ],
 "metadata": {
  "kernelspec": {
   "display_name": "Python (tensorflow)",
   "language": "python",
   "name": "tensorflow"
  },
  "language_info": {
   "codemirror_mode": {
    "name": "ipython",
    "version": 3
   },
   "file_extension": ".py",
   "mimetype": "text/x-python",
   "name": "python",
   "nbconvert_exporter": "python",
   "pygments_lexer": "ipython3",
   "version": "3.5.4"
  }
 },
 "nbformat": 4,
 "nbformat_minor": 2
}
