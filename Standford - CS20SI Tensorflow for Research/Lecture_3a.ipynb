{
 "cells": [
  {
   "cell_type": "markdown",
   "metadata": {},
   "source": [
    "# Lecture 3a"
   ]
  },
  {
   "cell_type": "code",
   "execution_count": 2,
   "metadata": {
    "collapsed": false
   },
   "outputs": [],
   "source": [
    "import tensorflow as tf\n",
    "import matplotlib.pyplot as plt\n",
    "%matplotlib inline\n",
    "import numpy as np\n",
    "import xlrd"
   ]
  },
  {
   "cell_type": "code",
   "execution_count": 3,
   "metadata": {
    "collapsed": true
   },
   "outputs": [],
   "source": [
    "# These functions are to visulize graph inline\n",
    "from IPython.display import clear_output, Image, display, HTML\n",
    "def strip_consts(graph_def, max_const_size=32):\n",
    "    \"\"\"Strip large constant values from graph_def.\"\"\"\n",
    "    strip_def = tf.GraphDef()\n",
    "    for n0 in graph_def.node:\n",
    "        n = strip_def.node.add() \n",
    "        n.MergeFrom(n0)\n",
    "        if n.op == 'Const':\n",
    "            tensor = n.attr['value'].tensor\n",
    "            size = len(tensor.tensor_content)\n",
    "            if size > max_const_size:\n",
    "                tensor.tensor_content = \"<stripped %d bytes>\"%size\n",
    "    return strip_def\n",
    "\n",
    "def show_graph(graph_def, max_const_size=32):\n",
    "    \"\"\"Visualize TensorFlow graph.\"\"\"\n",
    "    if hasattr(graph_def, 'as_graph_def'):\n",
    "        graph_def = graph_def.as_graph_def()\n",
    "    strip_def = strip_consts(graph_def, max_const_size=max_const_size)\n",
    "    code = \"\"\"\n",
    "        <script>\n",
    "          function load() {{\n",
    "            document.getElementById(\"{id}\").pbtxt = {data};\n",
    "          }}\n",
    "        </script>\n",
    "        <link rel=\"import\" href=\"https://tensorboard.appspot.com/tf-graph-basic.build.html\" onload=load()>\n",
    "        <div style=\"height:600px\">\n",
    "          <tf-graph-basic id=\"{id}\"></tf-graph-basic>\n",
    "        </div>\n",
    "    \"\"\".format(data=repr(str(strip_def)), id='graph'+str(np.random.rand()))\n",
    "\n",
    "    iframe = \"\"\"\n",
    "        <iframe seamless style=\"width:1200px;height:620px;border:0\" srcdoc=\"{}\"></iframe>\n",
    "    \"\"\".format(code.replace('\"', '&quot;'))\n",
    "    display(HTML(iframe))"
   ]
  },
  {
   "cell_type": "code",
   "execution_count": 3,
   "metadata": {
    "collapsed": true
   },
   "outputs": [],
   "source": [
    "# Data\n",
    "DATA_FILE = 'E:/Semester 3/Coursera/CS20SI/data/fire_theft.xls'\n",
    "\n",
    "# Step 1: Read in data\n",
    "book = xlrd.open_workbook(DATA_FILE,encoding_override='utf_8')\n",
    "sheet = book.sheet_by_index(0)\n",
    "data = np.asarray([sheet.row_values(i) for i in \n",
    "                   range(1,sheet.nrows)])\n",
    "n_samples = sheet.nrows -1 "
   ]
  },
  {
   "cell_type": "markdown",
   "metadata": {},
   "source": [
    "## Linear Regression"
   ]
  },
  {
   "cell_type": "code",
   "execution_count": 4,
   "metadata": {
    "collapsed": false,
    "scrolled": true
   },
   "outputs": [],
   "source": [
    "# Prdict Y from X via learning from given data (X,Y)\n",
    "#Phase 1: Assemble Graph\n",
    "\n",
    "tf.reset_default_graph()\n",
    "# Step 2: create placeholder for input X and Y\n",
    "X = tf.placeholder(tf.float32,name='X')\n",
    "Y = tf.placeholder(tf.float32,name='Y')\n",
    "\n",
    "#Step 3: Weights and bias\n",
    "w = tf.Variable(0.0,name='weights')\n",
    "b = tf.Variable(0.0, name='bias')\n",
    "\n",
    "# Step 4: Build model \n",
    "Y_predicted = X*w + b\n",
    "\n",
    "# Step 5: Loss\n",
    "loss = tf.square(Y-Y_predicted,name='loss')\n",
    "\n",
    "#Step 6: Optimizer Gradient Descent \n",
    "optimizer = tf.train.GradientDescentOptimizer(\n",
    "    learning_rate=0.001).minimize(loss)\n"
   ]
  },
  {
   "cell_type": "code",
   "execution_count": 5,
   "metadata": {
    "collapsed": false,
    "scrolled": true
   },
   "outputs": [
    {
     "name": "stdout",
     "output_type": "stream",
     "text": [
      "Epoch0:2069.6319333978354\n",
      "Epoch1:2117.0123581953535\n",
      "Epoch2:2092.302723001866\n",
      "Epoch3:2068.5080461938464\n",
      "Epoch4:2045.591184088162\n",
      "Epoch5:2023.5146448101316\n",
      "Epoch6:2002.2447619835536\n",
      "Epoch7:1981.748338803649\n",
      "Epoch8:1961.9944411260742\n",
      "Epoch9:1942.9520116143283\n",
      "Epoch10:1924.5930823644712\n",
      "Epoch11:1906.8898800636332\n",
      "Epoch12:1889.8164505837929\n",
      "Epoch13:1873.347133841543\n",
      "Epoch14:1857.4588400604468\n",
      "Epoch15:1842.1278742424079\n",
      "Epoch16:1827.332495119955\n",
      "Epoch17:1813.0520579712022\n",
      "Epoch18:1799.2660847636982\n",
      "Epoch19:1785.9562132299961\n",
      "Epoch20:1773.1024853109072\n",
      "Epoch21:1760.689129482884\n",
      "Epoch22:1748.6984157081515\n",
      "Epoch23:1737.1138680398553\n",
      "Epoch24:1725.920873066732\n",
      "Epoch25:1715.1046249579008\n",
      "Epoch26:1704.6500954309377\n",
      "Epoch27:1694.5447134910141\n",
      "Epoch28:1684.7746311347667\n",
      "Epoch29:1675.328450968245\n",
      "Epoch30:1666.1935385839038\n",
      "Epoch31:1657.3584002084322\n",
      "Epoch32:1648.8122658529207\n",
      "Epoch33:1640.5440742547091\n",
      "Epoch34:1632.5446836102221\n",
      "Epoch35:1624.8043315147183\n",
      "Epoch36:1617.3126799958602\n",
      "Epoch37:1610.0622532456405\n",
      "Epoch38:1603.0433557207386\n",
      "Epoch39:1596.2479176106197\n",
      "Epoch40:1589.668056331575\n",
      "Epoch41:1583.2965242617897\n",
      "Epoch42:1577.126371285745\n",
      "Epoch43:1571.1501190634\n",
      "Epoch44:1565.360979151513\n",
      "Epoch45:1559.7523780798629\n",
      "Epoch46:1554.3184364555138\n",
      "Epoch47:1549.0529469620615\n",
      "Epoch48:1543.950059985476\n",
      "Epoch49:1539.0050282141283\n",
      "Epoch50:1534.211797797609\n",
      "Epoch51:1529.56534988646\n",
      "Epoch52:1525.0607591186251\n",
      "Epoch53:1520.6934648507852\n",
      "Epoch54:1516.4585935090713\n",
      "Epoch55:1512.3524023861364\n",
      "Epoch56:1508.3695780125756\n",
      "Epoch57:1504.5066588066873\n",
      "Epoch58:1500.7606269073274\n",
      "Epoch59:1497.126336559476\n",
      "Epoch60:1493.600210891061\n",
      "Epoch61:1490.1794991287668\n",
      "Epoch62:1486.8605145300749\n",
      "Epoch63:1483.639419928193\n",
      "Epoch64:1480.5144186365596\n",
      "Epoch65:1477.4811065652452\n",
      "Epoch66:1474.5376660533782\n",
      "Epoch67:1471.6799176652871\n",
      "Epoch68:1468.9063155567717\n",
      "Epoch69:1466.2136880280007\n",
      "Epoch70:1463.5996563179153\n",
      "Epoch71:1461.0614086978492\n",
      "Epoch72:1458.597208841216\n",
      "Epoch73:1456.2043069711044\n",
      "Epoch74:1453.8807724802089\n",
      "Epoch75:1451.6242183893032\n",
      "Epoch76:1449.432753210976\n",
      "Epoch77:1447.3042320180018\n",
      "Epoch78:1445.237068621615\n",
      "Epoch79:1443.228872676177\n",
      "Epoch80:1441.2782130186733\n",
      "Epoch81:1439.3831422174615\n",
      "Epoch82:1437.542224922173\n",
      "Epoch83:1435.7540219968096\n",
      "Epoch84:1434.0160684508405\n",
      "Epoch85:1432.3276573866606\n",
      "Epoch86:1430.687153330871\n",
      "Epoch87:1429.093016880254\n",
      "Epoch88:1427.543719962062\n",
      "Epoch89:1426.038033108981\n",
      "Epoch90:1424.5748210840281\n",
      "Epoch91:1423.1531702368743\n",
      "Epoch92:1421.771026852585\n",
      "Epoch93:1420.4274983895677\n",
      "Epoch94:1419.121967994741\n",
      "Epoch95:1417.85251878131\n",
      "Epoch96:1416.618930517208\n",
      "Epoch97:1415.4196022436731\n",
      "Epoch98:1414.2534379121803\n",
      "Epoch99:1413.1202843011845\n"
     ]
    }
   ],
   "source": [
    "#Step Session \n",
    "with tf.Session() as sess:\n",
    "    sess.run(tf.global_variables_initializer())\n",
    "    writer = tf.summary.FileWriter('/graphs/Lecture3_linear_reg'\n",
    "                                   ,sess.graph)\n",
    "    #Step 8: Train Model\n",
    "    for i in range(100):\n",
    "        total_loss=0\n",
    "        for x,y in data: \n",
    "            # Session runs train_op and fetch values of loss\n",
    "            _,l = sess.run([optimizer,loss],\n",
    "                           feed_dict={X:x,Y:y})\n",
    "            total_loss +=l\n",
    "        print('Epoch{0}:{1}'.format(i,total_loss/n_samples))\n",
    "    writer.close()    \n",
    "    w_value,b_value = sess.run([w,b])\n",
    "\n"
   ]
  },
  {
   "cell_type": "code",
   "execution_count": 4,
   "metadata": {
    "collapsed": false,
    "scrolled": true
   },
   "outputs": [
    {
     "data": {
      "text/html": [
       "\n",
       "        <iframe seamless style=\"width:1200px;height:620px;border:0\" srcdoc=\"\n",
       "        <script>\n",
       "          function load() {\n",
       "            document.getElementById(&quot;graph0.18792884711704239&quot;).pbtxt = '';\n",
       "          }\n",
       "        </script>\n",
       "        <link rel=&quot;import&quot; href=&quot;https://tensorboard.appspot.com/tf-graph-basic.build.html&quot; onload=load()>\n",
       "        <div style=&quot;height:600px&quot;>\n",
       "          <tf-graph-basic id=&quot;graph0.18792884711704239&quot;></tf-graph-basic>\n",
       "        </div>\n",
       "    \"></iframe>\n",
       "    "
      ],
      "text/plain": [
       "<IPython.core.display.HTML object>"
      ]
     },
     "metadata": {},
     "output_type": "display_data"
    }
   ],
   "source": [
    "show_graph(tf.get_default_graph().as_graph_def())"
   ]
  },
  {
   "cell_type": "code",
   "execution_count": 7,
   "metadata": {
    "collapsed": false,
    "scrolled": true
   },
   "outputs": [
    {
     "data": {
      "image/png": "[encoded data removed]",
      "text/plain": [
       "<matplotlib.figure.Figure at 0xd3d0a1c0b8>"
      ]
     },
     "metadata": {},
     "output_type": "display_data"
    }
   ],
   "source": [
    "#pLot results\n",
    "X_np,Y_np = data.T[0],data.T[1]\n",
    "plt.plot(X_np,Y_np,'bo',label = 'Real Data')\n",
    "plt.plot(X_np,X_np*w_value+b_value,'r',label='Predicted Data')\n",
    "plt.legend()\n",
    "plt.show()"
   ]
  },
  {
   "cell_type": "markdown",
   "metadata": {},
   "source": [
    "# Linear Regression with Customized Loss Function"
   ]
  },
  {
   "cell_type": "markdown",
   "metadata": {},
   "source": [
    "### Huber Loss "
   ]
  },
  {
   "cell_type": "code",
   "execution_count": 8,
   "metadata": {
    "collapsed": true
   },
   "outputs": [],
   "source": [
    "# Use Huber Loss instead as it is roboust\n",
    "# But we can't write conditions in tesnroflow optimizer\n",
    "def Huber_loss(labels,predictions,delta=0.1):\n",
    "    residual = tf.abs(predictions-labels)\n",
    "    condition = tf.less(residual,delta)\n",
    "    small_res = 0.5 * tf.square(delta)\n",
    "    large_res = delta * residual - 0.5*tf.square(delta) \n",
    "    return tf.where(condition,small_res,large_res)\n"
   ]
  },
  {
   "cell_type": "code",
   "execution_count": 9,
   "metadata": {
    "collapsed": false
   },
   "outputs": [],
   "source": [
    "tf.reset_default_graph()\n",
    "# Step 2: create placeholder for input X and Y\n",
    "X = tf.placeholder(tf.float32,name='X')\n",
    "Y = tf.placeholder(tf.float32,name='Y')\n",
    "\n",
    "#Step 3: Weights and bias\n",
    "w = tf.Variable(0.0,name='weights')\n",
    "b = tf.Variable(0.0, name='bias')\n",
    "\n",
    "# Step 4: Build model \n",
    "Y_predicted = X*w + b\n",
    "\n",
    "\n",
    "loss_huber = Huber_loss(Y,Y_predicted)\n",
    "optimizer_huber = tf.train.GradientDescentOptimizer(learning_rate=0.001).minimize(loss_huber)"
   ]
  },
  {
   "cell_type": "code",
   "execution_count": 10,
   "metadata": {
    "collapsed": false,
    "scrolled": true
   },
   "outputs": [
    {
     "name": "stdout",
     "output_type": "stream",
     "text": [
      "Epoch0:3.328890554252125\n",
      "Epoch1:3.2608048947794095\n",
      "Epoch2:3.192719233532747\n",
      "Epoch3:3.1275756508111954\n",
      "Epoch4:3.0701447015716914\n",
      "Epoch5:3.012713640573479\n",
      "Epoch6:2.9552825270664123\n",
      "Epoch7:2.897851437330246\n",
      "Epoch8:2.8404203071480705\n",
      "Epoch9:2.7829892223789576\n",
      "Epoch10:2.7255582255976543\n",
      "Epoch11:2.668127254361198\n",
      "Epoch12:2.6106963015737987\n",
      "Epoch13:2.553265306211653\n",
      "Epoch14:2.4958343349751972\n",
      "Epoch15:2.4384033722536906\n",
      "Epoch16:2.3809723995980763\n",
      "Epoch17:2.323541455325626\n",
      "Epoch18:2.2661104395630813\n",
      "Epoch19:2.2152137394462312\n",
      "Epoch20:2.170374059606166\n",
      "Epoch21:2.1255342804250263\n",
      "Epoch22:2.080694506388335\n",
      "Epoch23:2.0402851525605437\n",
      "Epoch24:2.0107697308218726\n",
      "Epoch25:1.9905038884441768\n",
      "Epoch26:1.9735777643287467\n",
      "Epoch27:1.959116554020771\n",
      "Epoch28:1.9475767037698202\n",
      "Epoch29:1.9360368276635807\n",
      "Epoch30:1.9244969465902872\n",
      "Epoch31:1.912957065516994\n",
      "Epoch32:1.9014171663494337\n",
      "Epoch33:1.889877305499145\n",
      "Epoch34:1.8783374221197195\n",
      "Epoch35:1.8671963152231736\n",
      "Epoch36:1.8587426794692874\n",
      "Epoch37:1.8512726204381103\n",
      "Epoch38:1.843802645625103\n",
      "Epoch39:1.836332601805528\n",
      "Epoch40:1.8288626120913596\n",
      "Epoch41:1.821392596477554\n",
      "Epoch42:1.8139225609955334\n",
      "Epoch43:1.8064525716361546\n",
      "Epoch44:1.7989825164633138\n",
      "Epoch45:1.7915125350866998\n",
      "Epoch46:1.7840424916219144\n",
      "Epoch47:1.776572490332737\n",
      "Epoch48:1.7700788615870156\n",
      "Epoch49:1.7649326180329634\n",
      "Epoch50:1.7597864404143322\n",
      "Epoch51:1.7546402159191312\n",
      "Epoch52:1.7494939963466354\n",
      "Epoch53:1.7444882466834748\n",
      "Epoch54:1.7407650235330774\n",
      "Epoch55:1.7378558531580937\n",
      "Epoch56:1.734946677816056\n",
      "Epoch57:1.7320375572003068\n",
      "Epoch58:1.7291283878896917\n",
      "Epoch59:1.7262192506875311\n",
      "Epoch60:1.723310144529456\n",
      "Epoch61:1.720400956681087\n",
      "Epoch62:1.717491826042533\n",
      "Epoch63:1.7150660881306976\n",
      "Epoch64:1.7133776616925995\n",
      "Epoch65:1.711990143172443\n",
      "Epoch66:1.7106026128555338\n",
      "Epoch67:1.709215093803193\n",
      "Epoch68:1.7078275877006708\n",
      "Epoch69:1.7064741932720477\n",
      "Epoch70:1.7052875751341205\n",
      "Epoch71:1.7041009727843284\n",
      "Epoch72:1.7029143675962197\n",
      "Epoch73:1.7017277223168916\n",
      "Epoch74:1.7005814572330564\n",
      "Epoch75:1.699579837022438\n",
      "Epoch76:1.6985782077979474\n",
      "Epoch77:1.6975766206603675\n",
      "Epoch78:1.6965749282833367\n",
      "Epoch79:1.695573297196201\n",
      "Epoch80:1.6945717067768176\n",
      "Epoch81:1.6935700537370784\n",
      "Epoch82:1.6925684324066554\n",
      "Epoch83:1.6915612646844238\n",
      "Epoch84:1.690958345253464\n",
      "Epoch85:1.6903553302954173\n",
      "Epoch86:1.6897868024007905\n",
      "Epoch87:1.689473417898019\n",
      "Epoch88:1.6891600542058725\n",
      "Epoch89:1.6887254227019315\n",
      "Epoch90:1.6886549972862537\n",
      "Epoch91:1.6885845794985515\n",
      "Epoch92:1.688514148406241\n",
      "Epoch93:1.6884437468945093\n",
      "Epoch94:1.6883733233414768\n",
      "Epoch95:1.6883029802369751\n",
      "Epoch96:1.6882325669728397\n",
      "Epoch97:1.6881621128635569\n",
      "Epoch98:1.6880917257651509\n",
      "Epoch99:1.6880212824326009\n"
     ]
    }
   ],
   "source": [
    "#Step Session \n",
    "with tf.Session() as sess:\n",
    "    sess.run(tf.global_variables_initializer())\n",
    "    writer = tf.summary.FileWriter('/graphs/Lecture3_linear_reg'\n",
    "                                   ,sess.graph)\n",
    "    #Step 8: Train Model\n",
    "    for i in range(100):\n",
    "        total_loss=0\n",
    "        for x,y in data: \n",
    "            # Session runs train_op and fetch values of loss\n",
    "            _,l = sess.run([optimizer_huber,loss_huber],\n",
    "                           feed_dict={X:x,Y:y})\n",
    "            total_loss +=l\n",
    "        print('Epoch{0}:{1}'.format(i,total_loss/n_samples))\n",
    "    writer.close()    \n",
    "    w_value,b_value = sess.run([w,b])"
   ]
  },
  {
   "cell_type": "code",
   "execution_count": 11,
   "metadata": {
    "collapsed": false
   },
   "outputs": [
    {
     "data": {
      "text/html": [
       "\n",
       "        <iframe seamless style=\"width:1200px;height:620px;border:0\" srcdoc=\"\n",
       "        <script>\n",
       "          function load() {\n",
       "            document.getElementById(&quot;graph0.3735275978173319&quot;).pbtxt = 'node {\\n  name: &quot;X&quot;\\n  op: &quot;Placeholder&quot;\\n  attr {\\n    key: &quot;dtype&quot;\\n    value {\\n      type: DT_FLOAT\\n    }\\n  }\\n  attr {\\n    key: &quot;shape&quot;\\n    value {\\n      shape {\\n        unknown_rank: true\\n      }\\n    }\\n  }\\n}\\nnode {\\n  name: &quot;Y&quot;\\n  op: &quot;Placeholder&quot;\\n  attr {\\n    key: &quot;dtype&quot;\\n    value {\\n      type: DT_FLOAT\\n    }\\n  }\\n  attr {\\n    key: &quot;shape&quot;\\n    value {\\n      shape {\\n        unknown_rank: true\\n      }\\n    }\\n  }\\n}\\nnode {\\n  name: &quot;weights/initial_value&quot;\\n  op: &quot;Const&quot;\\n  attr {\\n    key: &quot;dtype&quot;\\n    value {\\n      type: DT_FLOAT\\n    }\\n  }\\n  attr {\\n    key: &quot;value&quot;\\n    value {\\n      tensor {\\n        dtype: DT_FLOAT\\n        tensor_shape {\\n        }\\n        float_val: 0.0\\n      }\\n    }\\n  }\\n}\\nnode {\\n  name: &quot;weights&quot;\\n  op: &quot;VariableV2&quot;\\n  attr {\\n    key: &quot;container&quot;\\n    value {\\n      s: &quot;&quot;\\n    }\\n  }\\n  attr {\\n    key: &quot;dtype&quot;\\n    value {\\n      type: DT_FLOAT\\n    }\\n  }\\n  attr {\\n    key: &quot;shape&quot;\\n    value {\\n      shape {\\n      }\\n    }\\n  }\\n  attr {\\n    key: &quot;shared_name&quot;\\n    value {\\n      s: &quot;&quot;\\n    }\\n  }\\n}\\nnode {\\n  name: &quot;weights/Assign&quot;\\n  op: &quot;Assign&quot;\\n  input: &quot;weights&quot;\\n  input: &quot;weights/initial_value&quot;\\n  attr {\\n    key: &quot;T&quot;\\n    value {\\n      type: DT_FLOAT\\n    }\\n  }\\n  attr {\\n    key: &quot;_class&quot;\\n    value {\\n      list {\\n        s: &quot;loc:@weights&quot;\\n      }\\n    }\\n  }\\n  attr {\\n    key: &quot;use_locking&quot;\\n    value {\\n      b: true\\n    }\\n  }\\n  attr {\\n    key: &quot;validate_shape&quot;\\n    value {\\n      b: true\\n    }\\n  }\\n}\\nnode {\\n  name: &quot;weights/read&quot;\\n  op: &quot;Identity&quot;\\n  input: &quot;weights&quot;\\n  attr {\\n    key: &quot;T&quot;\\n    value {\\n      type: DT_FLOAT\\n    }\\n  }\\n  attr {\\n    key: &quot;_class&quot;\\n    value {\\n      list {\\n        s: &quot;loc:@weights&quot;\\n      }\\n    }\\n  }\\n}\\nnode {\\n  name: &quot;bias/initial_value&quot;\\n  op: &quot;Const&quot;\\n  attr {\\n    key: &quot;dtype&quot;\\n    value {\\n      type: DT_FLOAT\\n    }\\n  }\\n  attr {\\n    key: &quot;value&quot;\\n    value {\\n      tensor {\\n        dtype: DT_FLOAT\\n        tensor_shape {\\n        }\\n        float_val: 0.0\\n      }\\n    }\\n  }\\n}\\nnode {\\n  name: &quot;bias&quot;\\n  op: &quot;VariableV2&quot;\\n  attr {\\n    key: &quot;container&quot;\\n    value {\\n      s: &quot;&quot;\\n    }\\n  }\\n  attr {\\n    key: &quot;dtype&quot;\\n    value {\\n      type: DT_FLOAT\\n    }\\n  }\\n  attr {\\n    key: &quot;shape&quot;\\n    value {\\n      shape {\\n      }\\n    }\\n  }\\n  attr {\\n    key: &quot;shared_name&quot;\\n    value {\\n      s: &quot;&quot;\\n    }\\n  }\\n}\\nnode {\\n  name: &quot;bias/Assign&quot;\\n  op: &quot;Assign&quot;\\n  input: &quot;bias&quot;\\n  input: &quot;bias/initial_value&quot;\\n  attr {\\n    key: &quot;T&quot;\\n    value {\\n      type: DT_FLOAT\\n    }\\n  }\\n  attr {\\n    key: &quot;_class&quot;\\n    value {\\n      list {\\n        s: &quot;loc:@bias&quot;\\n      }\\n    }\\n  }\\n  attr {\\n    key: &quot;use_locking&quot;\\n    value {\\n      b: true\\n    }\\n  }\\n  attr {\\n    key: &quot;validate_shape&quot;\\n    value {\\n      b: true\\n    }\\n  }\\n}\\nnode {\\n  name: &quot;bias/read&quot;\\n  op: &quot;Identity&quot;\\n  input: &quot;bias&quot;\\n  attr {\\n    key: &quot;T&quot;\\n    value {\\n      type: DT_FLOAT\\n    }\\n  }\\n  attr {\\n    key: &quot;_class&quot;\\n    value {\\n      list {\\n        s: &quot;loc:@bias&quot;\\n      }\\n    }\\n  }\\n}\\nnode {\\n  name: &quot;mul&quot;\\n  op: &quot;Mul&quot;\\n  input: &quot;X&quot;\\n  input: &quot;weights/read&quot;\\n  attr {\\n    key: &quot;T&quot;\\n    value {\\n      type: DT_FLOAT\\n    }\\n  }\\n}\\nnode {\\n  name: &quot;add&quot;\\n  op: &quot;Add&quot;\\n  input: &quot;mul&quot;\\n  input: &quot;bias/read&quot;\\n  attr {\\n    key: &quot;T&quot;\\n    value {\\n      type: DT_FLOAT\\n    }\\n  }\\n}\\nnode {\\n  name: &quot;sub&quot;\\n  op: &quot;Sub&quot;\\n  input: &quot;add&quot;\\n  input: &quot;Y&quot;\\n  attr {\\n    key: &quot;T&quot;\\n    value {\\n      type: DT_FLOAT\\n    }\\n  }\\n}\\nnode {\\n  name: &quot;Abs&quot;\\n  op: &quot;Abs&quot;\\n  input: &quot;sub&quot;\\n  attr {\\n    key: &quot;T&quot;\\n    value {\\n      type: DT_FLOAT\\n    }\\n  }\\n}\\nnode {\\n  name: &quot;Less/y&quot;\\n  op: &quot;Const&quot;\\n  attr {\\n    key: &quot;dtype&quot;\\n    value {\\n      type: DT_FLOAT\\n    }\\n  }\\n  attr {\\n    key: &quot;value&quot;\\n    value {\\n      tensor {\\n        dtype: DT_FLOAT\\n        tensor_shape {\\n        }\\n        float_val: 0.10000000149011612\\n      }\\n    }\\n  }\\n}\\nnode {\\n  name: &quot;Less&quot;\\n  op: &quot;Less&quot;\\n  input: &quot;Abs&quot;\\n  input: &quot;Less/y&quot;\\n  attr {\\n    key: &quot;T&quot;\\n    value {\\n      type: DT_FLOAT\\n    }\\n  }\\n}\\nnode {\\n  name: &quot;Square/x&quot;\\n  op: &quot;Const&quot;\\n  attr {\\n    key: &quot;dtype&quot;\\n    value {\\n      type: DT_FLOAT\\n    }\\n  }\\n  attr {\\n    key: &quot;value&quot;\\n    value {\\n      tensor {\\n        dtype: DT_FLOAT\\n        tensor_shape {\\n        }\\n        float_val: 0.10000000149011612\\n      }\\n    }\\n  }\\n}\\nnode {\\n  name: &quot;Square&quot;\\n  op: &quot;Square&quot;\\n  input: &quot;Square/x&quot;\\n  attr {\\n    key: &quot;T&quot;\\n    value {\\n      type: DT_FLOAT\\n    }\\n  }\\n}\\nnode {\\n  name: &quot;mul_1/x&quot;\\n  op: &quot;Const&quot;\\n  attr {\\n    key: &quot;dtype&quot;\\n    value {\\n      type: DT_FLOAT\\n    }\\n  }\\n  attr {\\n    key: &quot;value&quot;\\n    value {\\n      tensor {\\n        dtype: DT_FLOAT\\n        tensor_shape {\\n        }\\n        float_val: 0.5\\n      }\\n    }\\n  }\\n}\\nnode {\\n  name: &quot;mul_1&quot;\\n  op: &quot;Mul&quot;\\n  input: &quot;mul_1/x&quot;\\n  input: &quot;Square&quot;\\n  attr {\\n    key: &quot;T&quot;\\n    value {\\n      type: DT_FLOAT\\n    }\\n  }\\n}\\nnode {\\n  name: &quot;mul_2/x&quot;\\n  op: &quot;Const&quot;\\n  attr {\\n    key: &quot;dtype&quot;\\n    value {\\n      type: DT_FLOAT\\n    }\\n  }\\n  attr {\\n    key: &quot;value&quot;\\n    value {\\n      tensor {\\n        dtype: DT_FLOAT\\n        tensor_shape {\\n        }\\n        float_val: 0.10000000149011612\\n      }\\n    }\\n  }\\n}\\nnode {\\n  name: &quot;mul_2&quot;\\n  op: &quot;Mul&quot;\\n  input: &quot;mul_2/x&quot;\\n  input: &quot;Abs&quot;\\n  attr {\\n    key: &quot;T&quot;\\n    value {\\n      type: DT_FLOAT\\n    }\\n  }\\n}\\nnode {\\n  name: &quot;Square_1/x&quot;\\n  op: &quot;Const&quot;\\n  attr {\\n    key: &quot;dtype&quot;\\n    value {\\n      type: DT_FLOAT\\n    }\\n  }\\n  attr {\\n    key: &quot;value&quot;\\n    value {\\n      tensor {\\n        dtype: DT_FLOAT\\n        tensor_shape {\\n        }\\n        float_val: 0.10000000149011612\\n      }\\n    }\\n  }\\n}\\nnode {\\n  name: &quot;Square_1&quot;\\n  op: &quot;Square&quot;\\n  input: &quot;Square_1/x&quot;\\n  attr {\\n    key: &quot;T&quot;\\n    value {\\n      type: DT_FLOAT\\n    }\\n  }\\n}\\nnode {\\n  name: &quot;mul_3/x&quot;\\n  op: &quot;Const&quot;\\n  attr {\\n    key: &quot;dtype&quot;\\n    value {\\n      type: DT_FLOAT\\n    }\\n  }\\n  attr {\\n    key: &quot;value&quot;\\n    value {\\n      tensor {\\n        dtype: DT_FLOAT\\n        tensor_shape {\\n        }\\n        float_val: 0.5\\n      }\\n    }\\n  }\\n}\\nnode {\\n  name: &quot;mul_3&quot;\\n  op: &quot;Mul&quot;\\n  input: &quot;mul_3/x&quot;\\n  input: &quot;Square_1&quot;\\n  attr {\\n    key: &quot;T&quot;\\n    value {\\n      type: DT_FLOAT\\n    }\\n  }\\n}\\nnode {\\n  name: &quot;sub_1&quot;\\n  op: &quot;Sub&quot;\\n  input: &quot;mul_2&quot;\\n  input: &quot;mul_3&quot;\\n  attr {\\n    key: &quot;T&quot;\\n    value {\\n      type: DT_FLOAT\\n    }\\n  }\\n}\\nnode {\\n  name: &quot;Select&quot;\\n  op: &quot;Select&quot;\\n  input: &quot;Less&quot;\\n  input: &quot;mul_1&quot;\\n  input: &quot;sub_1&quot;\\n  attr {\\n    key: &quot;T&quot;\\n    value {\\n      type: DT_FLOAT\\n    }\\n  }\\n}\\nnode {\\n  name: &quot;gradients/Shape&quot;\\n  op: &quot;Const&quot;\\n  attr {\\n    key: &quot;dtype&quot;\\n    value {\\n      type: DT_INT32\\n    }\\n  }\\n  attr {\\n    key: &quot;value&quot;\\n    value {\\n      tensor {\\n        dtype: DT_INT32\\n        tensor_shape {\\n          dim {\\n          }\\n        }\\n      }\\n    }\\n  }\\n}\\nnode {\\n  name: &quot;gradients/Const&quot;\\n  op: &quot;Const&quot;\\n  attr {\\n    key: &quot;dtype&quot;\\n    value {\\n      type: DT_FLOAT\\n    }\\n  }\\n  attr {\\n    key: &quot;value&quot;\\n    value {\\n      tensor {\\n        dtype: DT_FLOAT\\n        tensor_shape {\\n        }\\n        float_val: 1.0\\n      }\\n    }\\n  }\\n}\\nnode {\\n  name: &quot;gradients/Fill&quot;\\n  op: &quot;Fill&quot;\\n  input: &quot;gradients/Shape&quot;\\n  input: &quot;gradients/Const&quot;\\n  attr {\\n    key: &quot;T&quot;\\n    value {\\n      type: DT_FLOAT\\n    }\\n  }\\n}\\nnode {\\n  name: &quot;gradients/Select_grad/zeros_like&quot;\\n  op: &quot;Const&quot;\\n  attr {\\n    key: &quot;dtype&quot;\\n    value {\\n      type: DT_FLOAT\\n    }\\n  }\\n  attr {\\n    key: &quot;value&quot;\\n    value {\\n      tensor {\\n        dtype: DT_FLOAT\\n        tensor_shape {\\n        }\\n        float_val: 0.0\\n      }\\n    }\\n  }\\n}\\nnode {\\n  name: &quot;gradients/Select_grad/Select&quot;\\n  op: &quot;Select&quot;\\n  input: &quot;Less&quot;\\n  input: &quot;gradients/Fill&quot;\\n  input: &quot;gradients/Select_grad/zeros_like&quot;\\n  attr {\\n    key: &quot;T&quot;\\n    value {\\n      type: DT_FLOAT\\n    }\\n  }\\n}\\nnode {\\n  name: &quot;gradients/Select_grad/Select_1&quot;\\n  op: &quot;Select&quot;\\n  input: &quot;Less&quot;\\n  input: &quot;gradients/Select_grad/zeros_like&quot;\\n  input: &quot;gradients/Fill&quot;\\n  attr {\\n    key: &quot;T&quot;\\n    value {\\n      type: DT_FLOAT\\n    }\\n  }\\n}\\nnode {\\n  name: &quot;gradients/Select_grad/tuple/group_deps&quot;\\n  op: &quot;NoOp&quot;\\n  input: &quot;^gradients/Select_grad/Select&quot;\\n  input: &quot;^gradients/Select_grad/Select_1&quot;\\n}\\nnode {\\n  name: &quot;gradients/Select_grad/tuple/control_dependency&quot;\\n  op: &quot;Identity&quot;\\n  input: &quot;gradients/Select_grad/Select&quot;\\n  input: &quot;^gradients/Select_grad/tuple/group_deps&quot;\\n  attr {\\n    key: &quot;T&quot;\\n    value {\\n      type: DT_FLOAT\\n    }\\n  }\\n  attr {\\n    key: &quot;_class&quot;\\n    value {\\n      list {\\n        s: &quot;loc:@gradients/Select_grad/Select&quot;\\n      }\\n    }\\n  }\\n}\\nnode {\\n  name: &quot;gradients/Select_grad/tuple/control_dependency_1&quot;\\n  op: &quot;Identity&quot;\\n  input: &quot;gradients/Select_grad/Select_1&quot;\\n  input: &quot;^gradients/Select_grad/tuple/group_deps&quot;\\n  attr {\\n    key: &quot;T&quot;\\n    value {\\n      type: DT_FLOAT\\n    }\\n  }\\n  attr {\\n    key: &quot;_class&quot;\\n    value {\\n      list {\\n        s: &quot;loc:@gradients/Select_grad/Select_1&quot;\\n      }\\n    }\\n  }\\n}\\nnode {\\n  name: &quot;gradients/sub_1_grad/Shape&quot;\\n  op: &quot;Shape&quot;\\n  input: &quot;mul_2&quot;\\n  attr {\\n    key: &quot;T&quot;\\n    value {\\n      type: DT_FLOAT\\n    }\\n  }\\n  attr {\\n    key: &quot;out_type&quot;\\n    value {\\n      type: DT_INT32\\n    }\\n  }\\n}\\nnode {\\n  name: &quot;gradients/sub_1_grad/Shape_1&quot;\\n  op: &quot;Const&quot;\\n  attr {\\n    key: &quot;dtype&quot;\\n    value {\\n      type: DT_INT32\\n    }\\n  }\\n  attr {\\n    key: &quot;value&quot;\\n    value {\\n      tensor {\\n        dtype: DT_INT32\\n        tensor_shape {\\n          dim {\\n          }\\n        }\\n      }\\n    }\\n  }\\n}\\nnode {\\n  name: &quot;gradients/sub_1_grad/BroadcastGradientArgs&quot;\\n  op: &quot;BroadcastGradientArgs&quot;\\n  input: &quot;gradients/sub_1_grad/Shape&quot;\\n  input: &quot;gradients/sub_1_grad/Shape_1&quot;\\n  attr {\\n    key: &quot;T&quot;\\n    value {\\n      type: DT_INT32\\n    }\\n  }\\n}\\nnode {\\n  name: &quot;gradients/sub_1_grad/Sum&quot;\\n  op: &quot;Sum&quot;\\n  input: &quot;gradients/Select_grad/tuple/control_dependency_1&quot;\\n  input: &quot;gradients/sub_1_grad/BroadcastGradientArgs&quot;\\n  attr {\\n    key: &quot;T&quot;\\n    value {\\n      type: DT_FLOAT\\n    }\\n  }\\n  attr {\\n    key: &quot;Tidx&quot;\\n    value {\\n      type: DT_INT32\\n    }\\n  }\\n  attr {\\n    key: &quot;keep_dims&quot;\\n    value {\\n      b: false\\n    }\\n  }\\n}\\nnode {\\n  name: &quot;gradients/sub_1_grad/Reshape&quot;\\n  op: &quot;Reshape&quot;\\n  input: &quot;gradients/sub_1_grad/Sum&quot;\\n  input: &quot;gradients/sub_1_grad/Shape&quot;\\n  attr {\\n    key: &quot;T&quot;\\n    value {\\n      type: DT_FLOAT\\n    }\\n  }\\n  attr {\\n    key: &quot;Tshape&quot;\\n    value {\\n      type: DT_INT32\\n    }\\n  }\\n}\\nnode {\\n  name: &quot;gradients/sub_1_grad/Sum_1&quot;\\n  op: &quot;Sum&quot;\\n  input: &quot;gradients/Select_grad/tuple/control_dependency_1&quot;\\n  input: &quot;gradients/sub_1_grad/BroadcastGradientArgs:1&quot;\\n  attr {\\n    key: &quot;T&quot;\\n    value {\\n      type: DT_FLOAT\\n    }\\n  }\\n  attr {\\n    key: &quot;Tidx&quot;\\n    value {\\n      type: DT_INT32\\n    }\\n  }\\n  attr {\\n    key: &quot;keep_dims&quot;\\n    value {\\n      b: false\\n    }\\n  }\\n}\\nnode {\\n  name: &quot;gradients/sub_1_grad/Neg&quot;\\n  op: &quot;Neg&quot;\\n  input: &quot;gradients/sub_1_grad/Sum_1&quot;\\n  attr {\\n    key: &quot;T&quot;\\n    value {\\n      type: DT_FLOAT\\n    }\\n  }\\n}\\nnode {\\n  name: &quot;gradients/sub_1_grad/Reshape_1&quot;\\n  op: &quot;Reshape&quot;\\n  input: &quot;gradients/sub_1_grad/Neg&quot;\\n  input: &quot;gradients/sub_1_grad/Shape_1&quot;\\n  attr {\\n    key: &quot;T&quot;\\n    value {\\n      type: DT_FLOAT\\n    }\\n  }\\n  attr {\\n    key: &quot;Tshape&quot;\\n    value {\\n      type: DT_INT32\\n    }\\n  }\\n}\\nnode {\\n  name: &quot;gradients/sub_1_grad/tuple/group_deps&quot;\\n  op: &quot;NoOp&quot;\\n  input: &quot;^gradients/sub_1_grad/Reshape&quot;\\n  input: &quot;^gradients/sub_1_grad/Reshape_1&quot;\\n}\\nnode {\\n  name: &quot;gradients/sub_1_grad/tuple/control_dependency&quot;\\n  op: &quot;Identity&quot;\\n  input: &quot;gradients/sub_1_grad/Reshape&quot;\\n  input: &quot;^gradients/sub_1_grad/tuple/group_deps&quot;\\n  attr {\\n    key: &quot;T&quot;\\n    value {\\n      type: DT_FLOAT\\n    }\\n  }\\n  attr {\\n    key: &quot;_class&quot;\\n    value {\\n      list {\\n        s: &quot;loc:@gradients/sub_1_grad/Reshape&quot;\\n      }\\n    }\\n  }\\n}\\nnode {\\n  name: &quot;gradients/sub_1_grad/tuple/control_dependency_1&quot;\\n  op: &quot;Identity&quot;\\n  input: &quot;gradients/sub_1_grad/Reshape_1&quot;\\n  input: &quot;^gradients/sub_1_grad/tuple/group_deps&quot;\\n  attr {\\n    key: &quot;T&quot;\\n    value {\\n      type: DT_FLOAT\\n    }\\n  }\\n  attr {\\n    key: &quot;_class&quot;\\n    value {\\n      list {\\n        s: &quot;loc:@gradients/sub_1_grad/Reshape_1&quot;\\n      }\\n    }\\n  }\\n}\\nnode {\\n  name: &quot;gradients/mul_2_grad/Shape&quot;\\n  op: &quot;Const&quot;\\n  attr {\\n    key: &quot;dtype&quot;\\n    value {\\n      type: DT_INT32\\n    }\\n  }\\n  attr {\\n    key: &quot;value&quot;\\n    value {\\n      tensor {\\n        dtype: DT_INT32\\n        tensor_shape {\\n          dim {\\n          }\\n        }\\n      }\\n    }\\n  }\\n}\\nnode {\\n  name: &quot;gradients/mul_2_grad/Shape_1&quot;\\n  op: &quot;Shape&quot;\\n  input: &quot;Abs&quot;\\n  attr {\\n    key: &quot;T&quot;\\n    value {\\n      type: DT_FLOAT\\n    }\\n  }\\n  attr {\\n    key: &quot;out_type&quot;\\n    value {\\n      type: DT_INT32\\n    }\\n  }\\n}\\nnode {\\n  name: &quot;gradients/mul_2_grad/BroadcastGradientArgs&quot;\\n  op: &quot;BroadcastGradientArgs&quot;\\n  input: &quot;gradients/mul_2_grad/Shape&quot;\\n  input: &quot;gradients/mul_2_grad/Shape_1&quot;\\n  attr {\\n    key: &quot;T&quot;\\n    value {\\n      type: DT_INT32\\n    }\\n  }\\n}\\nnode {\\n  name: &quot;gradients/mul_2_grad/mul&quot;\\n  op: &quot;Mul&quot;\\n  input: &quot;gradients/sub_1_grad/tuple/control_dependency&quot;\\n  input: &quot;Abs&quot;\\n  attr {\\n    key: &quot;T&quot;\\n    value {\\n      type: DT_FLOAT\\n    }\\n  }\\n}\\nnode {\\n  name: &quot;gradients/mul_2_grad/Sum&quot;\\n  op: &quot;Sum&quot;\\n  input: &quot;gradients/mul_2_grad/mul&quot;\\n  input: &quot;gradients/mul_2_grad/BroadcastGradientArgs&quot;\\n  attr {\\n    key: &quot;T&quot;\\n    value {\\n      type: DT_FLOAT\\n    }\\n  }\\n  attr {\\n    key: &quot;Tidx&quot;\\n    value {\\n      type: DT_INT32\\n    }\\n  }\\n  attr {\\n    key: &quot;keep_dims&quot;\\n    value {\\n      b: false\\n    }\\n  }\\n}\\nnode {\\n  name: &quot;gradients/mul_2_grad/Reshape&quot;\\n  op: &quot;Reshape&quot;\\n  input: &quot;gradients/mul_2_grad/Sum&quot;\\n  input: &quot;gradients/mul_2_grad/Shape&quot;\\n  attr {\\n    key: &quot;T&quot;\\n    value {\\n      type: DT_FLOAT\\n    }\\n  }\\n  attr {\\n    key: &quot;Tshape&quot;\\n    value {\\n      type: DT_INT32\\n    }\\n  }\\n}\\nnode {\\n  name: &quot;gradients/mul_2_grad/mul_1&quot;\\n  op: &quot;Mul&quot;\\n  input: &quot;mul_2/x&quot;\\n  input: &quot;gradients/sub_1_grad/tuple/control_dependency&quot;\\n  attr {\\n    key: &quot;T&quot;\\n    value {\\n      type: DT_FLOAT\\n    }\\n  }\\n}\\nnode {\\n  name: &quot;gradients/mul_2_grad/Sum_1&quot;\\n  op: &quot;Sum&quot;\\n  input: &quot;gradients/mul_2_grad/mul_1&quot;\\n  input: &quot;gradients/mul_2_grad/BroadcastGradientArgs:1&quot;\\n  attr {\\n    key: &quot;T&quot;\\n    value {\\n      type: DT_FLOAT\\n    }\\n  }\\n  attr {\\n    key: &quot;Tidx&quot;\\n    value {\\n      type: DT_INT32\\n    }\\n  }\\n  attr {\\n    key: &quot;keep_dims&quot;\\n    value {\\n      b: false\\n    }\\n  }\\n}\\nnode {\\n  name: &quot;gradients/mul_2_grad/Reshape_1&quot;\\n  op: &quot;Reshape&quot;\\n  input: &quot;gradients/mul_2_grad/Sum_1&quot;\\n  input: &quot;gradients/mul_2_grad/Shape_1&quot;\\n  attr {\\n    key: &quot;T&quot;\\n    value {\\n      type: DT_FLOAT\\n    }\\n  }\\n  attr {\\n    key: &quot;Tshape&quot;\\n    value {\\n      type: DT_INT32\\n    }\\n  }\\n}\\nnode {\\n  name: &quot;gradients/mul_2_grad/tuple/group_deps&quot;\\n  op: &quot;NoOp&quot;\\n  input: &quot;^gradients/mul_2_grad/Reshape&quot;\\n  input: &quot;^gradients/mul_2_grad/Reshape_1&quot;\\n}\\nnode {\\n  name: &quot;gradients/mul_2_grad/tuple/control_dependency&quot;\\n  op: &quot;Identity&quot;\\n  input: &quot;gradients/mul_2_grad/Reshape&quot;\\n  input: &quot;^gradients/mul_2_grad/tuple/group_deps&quot;\\n  attr {\\n    key: &quot;T&quot;\\n    value {\\n      type: DT_FLOAT\\n    }\\n  }\\n  attr {\\n    key: &quot;_class&quot;\\n    value {\\n      list {\\n        s: &quot;loc:@gradients/mul_2_grad/Reshape&quot;\\n      }\\n    }\\n  }\\n}\\nnode {\\n  name: &quot;gradients/mul_2_grad/tuple/control_dependency_1&quot;\\n  op: &quot;Identity&quot;\\n  input: &quot;gradients/mul_2_grad/Reshape_1&quot;\\n  input: &quot;^gradients/mul_2_grad/tuple/group_deps&quot;\\n  attr {\\n    key: &quot;T&quot;\\n    value {\\n      type: DT_FLOAT\\n    }\\n  }\\n  attr {\\n    key: &quot;_class&quot;\\n    value {\\n      list {\\n        s: &quot;loc:@gradients/mul_2_grad/Reshape_1&quot;\\n      }\\n    }\\n  }\\n}\\nnode {\\n  name: &quot;gradients/Abs_grad/Sign&quot;\\n  op: &quot;Sign&quot;\\n  input: &quot;sub&quot;\\n  attr {\\n    key: &quot;T&quot;\\n    value {\\n      type: DT_FLOAT\\n    }\\n  }\\n}\\nnode {\\n  name: &quot;gradients/Abs_grad/mul&quot;\\n  op: &quot;Mul&quot;\\n  input: &quot;gradients/mul_2_grad/tuple/control_dependency_1&quot;\\n  input: &quot;gradients/Abs_grad/Sign&quot;\\n  attr {\\n    key: &quot;T&quot;\\n    value {\\n      type: DT_FLOAT\\n    }\\n  }\\n}\\nnode {\\n  name: &quot;gradients/sub_grad/Shape&quot;\\n  op: &quot;Shape&quot;\\n  input: &quot;add&quot;\\n  attr {\\n    key: &quot;T&quot;\\n    value {\\n      type: DT_FLOAT\\n    }\\n  }\\n  attr {\\n    key: &quot;out_type&quot;\\n    value {\\n      type: DT_INT32\\n    }\\n  }\\n}\\nnode {\\n  name: &quot;gradients/sub_grad/Shape_1&quot;\\n  op: &quot;Shape&quot;\\n  input: &quot;Y&quot;\\n  attr {\\n    key: &quot;T&quot;\\n    value {\\n      type: DT_FLOAT\\n    }\\n  }\\n  attr {\\n    key: &quot;out_type&quot;\\n    value {\\n      type: DT_INT32\\n    }\\n  }\\n}\\nnode {\\n  name: &quot;gradients/sub_grad/BroadcastGradientArgs&quot;\\n  op: &quot;BroadcastGradientArgs&quot;\\n  input: &quot;gradients/sub_grad/Shape&quot;\\n  input: &quot;gradients/sub_grad/Shape_1&quot;\\n  attr {\\n    key: &quot;T&quot;\\n    value {\\n      type: DT_INT32\\n    }\\n  }\\n}\\nnode {\\n  name: &quot;gradients/sub_grad/Sum&quot;\\n  op: &quot;Sum&quot;\\n  input: &quot;gradients/Abs_grad/mul&quot;\\n  input: &quot;gradients/sub_grad/BroadcastGradientArgs&quot;\\n  attr {\\n    key: &quot;T&quot;\\n    value {\\n      type: DT_FLOAT\\n    }\\n  }\\n  attr {\\n    key: &quot;Tidx&quot;\\n    value {\\n      type: DT_INT32\\n    }\\n  }\\n  attr {\\n    key: &quot;keep_dims&quot;\\n    value {\\n      b: false\\n    }\\n  }\\n}\\nnode {\\n  name: &quot;gradients/sub_grad/Reshape&quot;\\n  op: &quot;Reshape&quot;\\n  input: &quot;gradients/sub_grad/Sum&quot;\\n  input: &quot;gradients/sub_grad/Shape&quot;\\n  attr {\\n    key: &quot;T&quot;\\n    value {\\n      type: DT_FLOAT\\n    }\\n  }\\n  attr {\\n    key: &quot;Tshape&quot;\\n    value {\\n      type: DT_INT32\\n    }\\n  }\\n}\\nnode {\\n  name: &quot;gradients/sub_grad/Sum_1&quot;\\n  op: &quot;Sum&quot;\\n  input: &quot;gradients/Abs_grad/mul&quot;\\n  input: &quot;gradients/sub_grad/BroadcastGradientArgs:1&quot;\\n  attr {\\n    key: &quot;T&quot;\\n    value {\\n      type: DT_FLOAT\\n    }\\n  }\\n  attr {\\n    key: &quot;Tidx&quot;\\n    value {\\n      type: DT_INT32\\n    }\\n  }\\n  attr {\\n    key: &quot;keep_dims&quot;\\n    value {\\n      b: false\\n    }\\n  }\\n}\\nnode {\\n  name: &quot;gradients/sub_grad/Neg&quot;\\n  op: &quot;Neg&quot;\\n  input: &quot;gradients/sub_grad/Sum_1&quot;\\n  attr {\\n    key: &quot;T&quot;\\n    value {\\n      type: DT_FLOAT\\n    }\\n  }\\n}\\nnode {\\n  name: &quot;gradients/sub_grad/Reshape_1&quot;\\n  op: &quot;Reshape&quot;\\n  input: &quot;gradients/sub_grad/Neg&quot;\\n  input: &quot;gradients/sub_grad/Shape_1&quot;\\n  attr {\\n    key: &quot;T&quot;\\n    value {\\n      type: DT_FLOAT\\n    }\\n  }\\n  attr {\\n    key: &quot;Tshape&quot;\\n    value {\\n      type: DT_INT32\\n    }\\n  }\\n}\\nnode {\\n  name: &quot;gradients/sub_grad/tuple/group_deps&quot;\\n  op: &quot;NoOp&quot;\\n  input: &quot;^gradients/sub_grad/Reshape&quot;\\n  input: &quot;^gradients/sub_grad/Reshape_1&quot;\\n}\\nnode {\\n  name: &quot;gradients/sub_grad/tuple/control_dependency&quot;\\n  op: &quot;Identity&quot;\\n  input: &quot;gradients/sub_grad/Reshape&quot;\\n  input: &quot;^gradients/sub_grad/tuple/group_deps&quot;\\n  attr {\\n    key: &quot;T&quot;\\n    value {\\n      type: DT_FLOAT\\n    }\\n  }\\n  attr {\\n    key: &quot;_class&quot;\\n    value {\\n      list {\\n        s: &quot;loc:@gradients/sub_grad/Reshape&quot;\\n      }\\n    }\\n  }\\n}\\nnode {\\n  name: &quot;gradients/sub_grad/tuple/control_dependency_1&quot;\\n  op: &quot;Identity&quot;\\n  input: &quot;gradients/sub_grad/Reshape_1&quot;\\n  input: &quot;^gradients/sub_grad/tuple/group_deps&quot;\\n  attr {\\n    key: &quot;T&quot;\\n    value {\\n      type: DT_FLOAT\\n    }\\n  }\\n  attr {\\n    key: &quot;_class&quot;\\n    value {\\n      list {\\n        s: &quot;loc:@gradients/sub_grad/Reshape_1&quot;\\n      }\\n    }\\n  }\\n}\\nnode {\\n  name: &quot;gradients/add_grad/Shape&quot;\\n  op: &quot;Shape&quot;\\n  input: &quot;mul&quot;\\n  attr {\\n    key: &quot;T&quot;\\n    value {\\n      type: DT_FLOAT\\n    }\\n  }\\n  attr {\\n    key: &quot;out_type&quot;\\n    value {\\n      type: DT_INT32\\n    }\\n  }\\n}\\nnode {\\n  name: &quot;gradients/add_grad/Shape_1&quot;\\n  op: &quot;Const&quot;\\n  attr {\\n    key: &quot;dtype&quot;\\n    value {\\n      type: DT_INT32\\n    }\\n  }\\n  attr {\\n    key: &quot;value&quot;\\n    value {\\n      tensor {\\n        dtype: DT_INT32\\n        tensor_shape {\\n          dim {\\n          }\\n        }\\n      }\\n    }\\n  }\\n}\\nnode {\\n  name: &quot;gradients/add_grad/BroadcastGradientArgs&quot;\\n  op: &quot;BroadcastGradientArgs&quot;\\n  input: &quot;gradients/add_grad/Shape&quot;\\n  input: &quot;gradients/add_grad/Shape_1&quot;\\n  attr {\\n    key: &quot;T&quot;\\n    value {\\n      type: DT_INT32\\n    }\\n  }\\n}\\nnode {\\n  name: &quot;gradients/add_grad/Sum&quot;\\n  op: &quot;Sum&quot;\\n  input: &quot;gradients/sub_grad/tuple/control_dependency&quot;\\n  input: &quot;gradients/add_grad/BroadcastGradientArgs&quot;\\n  attr {\\n    key: &quot;T&quot;\\n    value {\\n      type: DT_FLOAT\\n    }\\n  }\\n  attr {\\n    key: &quot;Tidx&quot;\\n    value {\\n      type: DT_INT32\\n    }\\n  }\\n  attr {\\n    key: &quot;keep_dims&quot;\\n    value {\\n      b: false\\n    }\\n  }\\n}\\nnode {\\n  name: &quot;gradients/add_grad/Reshape&quot;\\n  op: &quot;Reshape&quot;\\n  input: &quot;gradients/add_grad/Sum&quot;\\n  input: &quot;gradients/add_grad/Shape&quot;\\n  attr {\\n    key: &quot;T&quot;\\n    value {\\n      type: DT_FLOAT\\n    }\\n  }\\n  attr {\\n    key: &quot;Tshape&quot;\\n    value {\\n      type: DT_INT32\\n    }\\n  }\\n}\\nnode {\\n  name: &quot;gradients/add_grad/Sum_1&quot;\\n  op: &quot;Sum&quot;\\n  input: &quot;gradients/sub_grad/tuple/control_dependency&quot;\\n  input: &quot;gradients/add_grad/BroadcastGradientArgs:1&quot;\\n  attr {\\n    key: &quot;T&quot;\\n    value {\\n      type: DT_FLOAT\\n    }\\n  }\\n  attr {\\n    key: &quot;Tidx&quot;\\n    value {\\n      type: DT_INT32\\n    }\\n  }\\n  attr {\\n    key: &quot;keep_dims&quot;\\n    value {\\n      b: false\\n    }\\n  }\\n}\\nnode {\\n  name: &quot;gradients/add_grad/Reshape_1&quot;\\n  op: &quot;Reshape&quot;\\n  input: &quot;gradients/add_grad/Sum_1&quot;\\n  input: &quot;gradients/add_grad/Shape_1&quot;\\n  attr {\\n    key: &quot;T&quot;\\n    value {\\n      type: DT_FLOAT\\n    }\\n  }\\n  attr {\\n    key: &quot;Tshape&quot;\\n    value {\\n      type: DT_INT32\\n    }\\n  }\\n}\\nnode {\\n  name: &quot;gradients/add_grad/tuple/group_deps&quot;\\n  op: &quot;NoOp&quot;\\n  input: &quot;^gradients/add_grad/Reshape&quot;\\n  input: &quot;^gradients/add_grad/Reshape_1&quot;\\n}\\nnode {\\n  name: &quot;gradients/add_grad/tuple/control_dependency&quot;\\n  op: &quot;Identity&quot;\\n  input: &quot;gradients/add_grad/Reshape&quot;\\n  input: &quot;^gradients/add_grad/tuple/group_deps&quot;\\n  attr {\\n    key: &quot;T&quot;\\n    value {\\n      type: DT_FLOAT\\n    }\\n  }\\n  attr {\\n    key: &quot;_class&quot;\\n    value {\\n      list {\\n        s: &quot;loc:@gradients/add_grad/Reshape&quot;\\n      }\\n    }\\n  }\\n}\\nnode {\\n  name: &quot;gradients/add_grad/tuple/control_dependency_1&quot;\\n  op: &quot;Identity&quot;\\n  input: &quot;gradients/add_grad/Reshape_1&quot;\\n  input: &quot;^gradients/add_grad/tuple/group_deps&quot;\\n  attr {\\n    key: &quot;T&quot;\\n    value {\\n      type: DT_FLOAT\\n    }\\n  }\\n  attr {\\n    key: &quot;_class&quot;\\n    value {\\n      list {\\n        s: &quot;loc:@gradients/add_grad/Reshape_1&quot;\\n      }\\n    }\\n  }\\n}\\nnode {\\n  name: &quot;gradients/mul_grad/Shape&quot;\\n  op: &quot;Shape&quot;\\n  input: &quot;X&quot;\\n  attr {\\n    key: &quot;T&quot;\\n    value {\\n      type: DT_FLOAT\\n    }\\n  }\\n  attr {\\n    key: &quot;out_type&quot;\\n    value {\\n      type: DT_INT32\\n    }\\n  }\\n}\\nnode {\\n  name: &quot;gradients/mul_grad/Shape_1&quot;\\n  op: &quot;Const&quot;\\n  attr {\\n    key: &quot;dtype&quot;\\n    value {\\n      type: DT_INT32\\n    }\\n  }\\n  attr {\\n    key: &quot;value&quot;\\n    value {\\n      tensor {\\n        dtype: DT_INT32\\n        tensor_shape {\\n          dim {\\n          }\\n        }\\n      }\\n    }\\n  }\\n}\\nnode {\\n  name: &quot;gradients/mul_grad/BroadcastGradientArgs&quot;\\n  op: &quot;BroadcastGradientArgs&quot;\\n  input: &quot;gradients/mul_grad/Shape&quot;\\n  input: &quot;gradients/mul_grad/Shape_1&quot;\\n  attr {\\n    key: &quot;T&quot;\\n    value {\\n      type: DT_INT32\\n    }\\n  }\\n}\\nnode {\\n  name: &quot;gradients/mul_grad/mul&quot;\\n  op: &quot;Mul&quot;\\n  input: &quot;gradients/add_grad/tuple/control_dependency&quot;\\n  input: &quot;weights/read&quot;\\n  attr {\\n    key: &quot;T&quot;\\n    value {\\n      type: DT_FLOAT\\n    }\\n  }\\n}\\nnode {\\n  name: &quot;gradients/mul_grad/Sum&quot;\\n  op: &quot;Sum&quot;\\n  input: &quot;gradients/mul_grad/mul&quot;\\n  input: &quot;gradients/mul_grad/BroadcastGradientArgs&quot;\\n  attr {\\n    key: &quot;T&quot;\\n    value {\\n      type: DT_FLOAT\\n    }\\n  }\\n  attr {\\n    key: &quot;Tidx&quot;\\n    value {\\n      type: DT_INT32\\n    }\\n  }\\n  attr {\\n    key: &quot;keep_dims&quot;\\n    value {\\n      b: false\\n    }\\n  }\\n}\\nnode {\\n  name: &quot;gradients/mul_grad/Reshape&quot;\\n  op: &quot;Reshape&quot;\\n  input: &quot;gradients/mul_grad/Sum&quot;\\n  input: &quot;gradients/mul_grad/Shape&quot;\\n  attr {\\n    key: &quot;T&quot;\\n    value {\\n      type: DT_FLOAT\\n    }\\n  }\\n  attr {\\n    key: &quot;Tshape&quot;\\n    value {\\n      type: DT_INT32\\n    }\\n  }\\n}\\nnode {\\n  name: &quot;gradients/mul_grad/mul_1&quot;\\n  op: &quot;Mul&quot;\\n  input: &quot;X&quot;\\n  input: &quot;gradients/add_grad/tuple/control_dependency&quot;\\n  attr {\\n    key: &quot;T&quot;\\n    value {\\n      type: DT_FLOAT\\n    }\\n  }\\n}\\nnode {\\n  name: &quot;gradients/mul_grad/Sum_1&quot;\\n  op: &quot;Sum&quot;\\n  input: &quot;gradients/mul_grad/mul_1&quot;\\n  input: &quot;gradients/mul_grad/BroadcastGradientArgs:1&quot;\\n  attr {\\n    key: &quot;T&quot;\\n    value {\\n      type: DT_FLOAT\\n    }\\n  }\\n  attr {\\n    key: &quot;Tidx&quot;\\n    value {\\n      type: DT_INT32\\n    }\\n  }\\n  attr {\\n    key: &quot;keep_dims&quot;\\n    value {\\n      b: false\\n    }\\n  }\\n}\\nnode {\\n  name: &quot;gradients/mul_grad/Reshape_1&quot;\\n  op: &quot;Reshape&quot;\\n  input: &quot;gradients/mul_grad/Sum_1&quot;\\n  input: &quot;gradients/mul_grad/Shape_1&quot;\\n  attr {\\n    key: &quot;T&quot;\\n    value {\\n      type: DT_FLOAT\\n    }\\n  }\\n  attr {\\n    key: &quot;Tshape&quot;\\n    value {\\n      type: DT_INT32\\n    }\\n  }\\n}\\nnode {\\n  name: &quot;gradients/mul_grad/tuple/group_deps&quot;\\n  op: &quot;NoOp&quot;\\n  input: &quot;^gradients/mul_grad/Reshape&quot;\\n  input: &quot;^gradients/mul_grad/Reshape_1&quot;\\n}\\nnode {\\n  name: &quot;gradients/mul_grad/tuple/control_dependency&quot;\\n  op: &quot;Identity&quot;\\n  input: &quot;gradients/mul_grad/Reshape&quot;\\n  input: &quot;^gradients/mul_grad/tuple/group_deps&quot;\\n  attr {\\n    key: &quot;T&quot;\\n    value {\\n      type: DT_FLOAT\\n    }\\n  }\\n  attr {\\n    key: &quot;_class&quot;\\n    value {\\n      list {\\n        s: &quot;loc:@gradients/mul_grad/Reshape&quot;\\n      }\\n    }\\n  }\\n}\\nnode {\\n  name: &quot;gradients/mul_grad/tuple/control_dependency_1&quot;\\n  op: &quot;Identity&quot;\\n  input: &quot;gradients/mul_grad/Reshape_1&quot;\\n  input: &quot;^gradients/mul_grad/tuple/group_deps&quot;\\n  attr {\\n    key: &quot;T&quot;\\n    value {\\n      type: DT_FLOAT\\n    }\\n  }\\n  attr {\\n    key: &quot;_class&quot;\\n    value {\\n      list {\\n        s: &quot;loc:@gradients/mul_grad/Reshape_1&quot;\\n      }\\n    }\\n  }\\n}\\nnode {\\n  name: &quot;GradientDescent/learning_rate&quot;\\n  op: &quot;Const&quot;\\n  attr {\\n    key: &quot;dtype&quot;\\n    value {\\n      type: DT_FLOAT\\n    }\\n  }\\n  attr {\\n    key: &quot;value&quot;\\n    value {\\n      tensor {\\n        dtype: DT_FLOAT\\n        tensor_shape {\\n        }\\n        float_val: 0.0010000000474974513\\n      }\\n    }\\n  }\\n}\\nnode {\\n  name: &quot;GradientDescent/update_weights/ApplyGradientDescent&quot;\\n  op: &quot;ApplyGradientDescent&quot;\\n  input: &quot;weights&quot;\\n  input: &quot;GradientDescent/learning_rate&quot;\\n  input: &quot;gradients/mul_grad/tuple/control_dependency_1&quot;\\n  attr {\\n    key: &quot;T&quot;\\n    value {\\n      type: DT_FLOAT\\n    }\\n  }\\n  attr {\\n    key: &quot;_class&quot;\\n    value {\\n      list {\\n        s: &quot;loc:@weights&quot;\\n      }\\n    }\\n  }\\n  attr {\\n    key: &quot;use_locking&quot;\\n    value {\\n      b: false\\n    }\\n  }\\n}\\nnode {\\n  name: &quot;GradientDescent/update_bias/ApplyGradientDescent&quot;\\n  op: &quot;ApplyGradientDescent&quot;\\n  input: &quot;bias&quot;\\n  input: &quot;GradientDescent/learning_rate&quot;\\n  input: &quot;gradients/add_grad/tuple/control_dependency_1&quot;\\n  attr {\\n    key: &quot;T&quot;\\n    value {\\n      type: DT_FLOAT\\n    }\\n  }\\n  attr {\\n    key: &quot;_class&quot;\\n    value {\\n      list {\\n        s: &quot;loc:@bias&quot;\\n      }\\n    }\\n  }\\n  attr {\\n    key: &quot;use_locking&quot;\\n    value {\\n      b: false\\n    }\\n  }\\n}\\nnode {\\n  name: &quot;GradientDescent&quot;\\n  op: &quot;NoOp&quot;\\n  input: &quot;^GradientDescent/update_weights/ApplyGradientDescent&quot;\\n  input: &quot;^GradientDescent/update_bias/ApplyGradientDescent&quot;\\n}\\nnode {\\n  name: &quot;init&quot;\\n  op: &quot;NoOp&quot;\\n  input: &quot;^weights/Assign&quot;\\n  input: &quot;^bias/Assign&quot;\\n}\\n';\n",
       "          }\n",
       "        </script>\n",
       "        <link rel=&quot;import&quot; href=&quot;https://tensorboard.appspot.com/tf-graph-basic.build.html&quot; onload=load()>\n",
       "        <div style=&quot;height:600px&quot;>\n",
       "          <tf-graph-basic id=&quot;graph0.3735275978173319&quot;></tf-graph-basic>\n",
       "        </div>\n",
       "    \"></iframe>\n",
       "    "
      ],
      "text/plain": [
       "<IPython.core.display.HTML object>"
      ]
     },
     "metadata": {},
     "output_type": "display_data"
    }
   ],
   "source": [
    "show_graph(tf.get_default_graph().as_graph_def())"
   ]
  },
  {
   "cell_type": "code",
   "execution_count": 12,
   "metadata": {
    "collapsed": false
   },
   "outputs": [
    {
     "data": {
      "image/png": "[encoded data removed]",
      "text/plain": [
       "<matplotlib.figure.Figure at 0xd3d1c99ba8>"
      ]
     },
     "metadata": {},
     "output_type": "display_data"
    }
   ],
   "source": [
    "#pLot results\n",
    "X_np,Y_np = data.T[0],data.T[1]\n",
    "plt.plot(X_np,Y_np,'bo',label = 'Real Data')\n",
    "plt.plot(X_np,X_np*w_value+b_value,'r',label='Predicted Data')\n",
    "plt.legend()\n",
    "plt.show()"
   ]
  },
  {
   "cell_type": "markdown",
   "metadata": {},
   "source": [
    "# Qudratic Regression"
   ]
  },
  {
   "cell_type": "code",
   "execution_count": 40,
   "metadata": {
    "collapsed": false,
    "scrolled": true
   },
   "outputs": [],
   "source": [
    "tf.reset_default_graph()\n",
    "# Step 2: create placeholder for input X and Y\n",
    "X = tf.placeholder(tf.float32,name='X')\n",
    "Y = tf.placeholder(tf.float32,name='Y')\n",
    "\n",
    "#Step 3: Weights and bias\n",
    "w = tf.Variable(0.01,name='weight1')\n",
    "u = tf.Variable(0.01,name='weight2')\n",
    "b = tf.Variable(0.0, name='bias')\n",
    "\n",
    "# Step 4: Build model \n",
    "Y_predicted = X*X*u + X*w + b\n",
    "\n",
    "# Step 5: Loss\n",
    "loss = tf.abs(Y-Y_predicted,name='loss')\n",
    "\n",
    "#Step 6: Optimizer Gradient Descent \n",
    "optimizer_Q = tf.train.GradientDescentOptimizer(\n",
    "    learning_rate=0.1).minimize(loss)\n",
    "\n"
   ]
  },
  {
   "cell_type": "code",
   "execution_count": 41,
   "metadata": {
    "collapsed": false,
    "scrolled": true
   },
   "outputs": [
    {
     "name": "stdout",
     "output_type": "stream",
     "text": [
      "Epoch0:9940.278363746862\n",
      "Epoch1:9936.432004675584\n",
      "Epoch2:9947.40192823995\n",
      "Epoch3:9937.95359695202\n",
      "Epoch4:9947.40192823995\n",
      "Epoch5:9937.95359695202\n",
      "Epoch6:9947.40192823995\n",
      "Epoch7:9937.95359695202\n",
      "Epoch8:9947.40192823995\n",
      "Epoch9:9937.95359695202\n",
      "Epoch10:9947.40192823995\n",
      "Epoch11:9937.95359695202\n",
      "Epoch12:9947.40192823995\n",
      "Epoch13:9937.95359695202\n",
      "Epoch14:9947.40192823995\n",
      "Epoch15:9937.95359695202\n",
      "Epoch16:9947.40192823995\n",
      "Epoch17:9937.95359695202\n",
      "Epoch18:9947.40192823995\n",
      "Epoch19:9937.95359695202\n",
      "Epoch20:9947.40192823995\n",
      "Epoch21:9937.95359695202\n",
      "Epoch22:9947.40192823995\n",
      "Epoch23:9937.95359695202\n",
      "Epoch24:9947.40192823995\n",
      "Epoch25:9937.95359695202\n",
      "Epoch26:9947.40192823995\n",
      "Epoch27:9937.95359695202\n",
      "Epoch28:9947.40192823995\n",
      "Epoch29:9937.95359695202\n",
      "Epoch30:9947.40192823995\n",
      "Epoch31:9937.95359695202\n",
      "Epoch32:9947.40192823995\n",
      "Epoch33:9937.95359695202\n",
      "Epoch34:9947.40192823995\n",
      "Epoch35:9937.95359695202\n",
      "Epoch36:9947.40192823995\n",
      "Epoch37:9937.95359695202\n",
      "Epoch38:9947.40192823995\n",
      "Epoch39:9937.95359695202\n",
      "Epoch40:9947.40192823995\n",
      "Epoch41:9937.95359695202\n",
      "Epoch42:9947.40192823995\n",
      "Epoch43:9937.95359695202\n",
      "Epoch44:9947.40192823995\n",
      "Epoch45:9937.95359695202\n",
      "Epoch46:9947.40192823995\n",
      "Epoch47:9937.95359695202\n",
      "Epoch48:9947.40192823995\n",
      "Epoch49:9937.95359695202\n",
      "Epoch50:9947.40192823995\n",
      "Epoch51:9937.95359695202\n",
      "Epoch52:9947.40192823995\n",
      "Epoch53:9937.95359695202\n",
      "Epoch54:9947.40192823995\n",
      "Epoch55:9937.95359695202\n",
      "Epoch56:9947.40192823995\n",
      "Epoch57:9937.95359695202\n",
      "Epoch58:9947.40192823995\n",
      "Epoch59:9937.95359695202\n",
      "Epoch60:9947.40192823995\n",
      "Epoch61:9937.95359695202\n",
      "Epoch62:9947.40192823995\n",
      "Epoch63:9937.95359695202\n",
      "Epoch64:9947.40192823995\n",
      "Epoch65:9937.95359695202\n",
      "Epoch66:9947.40192823995\n",
      "Epoch67:9937.95359695202\n",
      "Epoch68:9947.40192823995\n",
      "Epoch69:9937.95359695202\n",
      "Epoch70:9947.40192823995\n",
      "Epoch71:9937.95359695202\n",
      "Epoch72:9947.40192823995\n",
      "Epoch73:9937.95359695202\n",
      "Epoch74:9947.40192823995\n",
      "Epoch75:9937.95359695202\n",
      "Epoch76:9947.40192823995\n",
      "Epoch77:9937.95359695202\n",
      "Epoch78:9947.40192823995\n",
      "Epoch79:9937.95359695202\n",
      "Epoch80:9947.40192823995\n",
      "Epoch81:9937.95359695202\n",
      "Epoch82:9947.40192823995\n",
      "Epoch83:9937.95359695202\n",
      "Epoch84:9947.40192823995\n",
      "Epoch85:9937.95359695202\n",
      "Epoch86:9947.40192823995\n",
      "Epoch87:9937.95359695202\n",
      "Epoch88:9947.40192823995\n",
      "Epoch89:9937.95359695202\n",
      "Epoch90:9947.40192823995\n",
      "Epoch91:9937.95359695202\n",
      "Epoch92:9947.40192823995\n",
      "Epoch93:9937.95359695202\n",
      "Epoch94:9947.40192823995\n",
      "Epoch95:9937.95359695202\n",
      "Epoch96:9947.40192823995\n",
      "Epoch97:9937.95359695202\n",
      "Epoch98:9947.40192823995\n",
      "Epoch99:9937.95359695202\n"
     ]
    }
   ],
   "source": [
    "#Step Session \n",
    "with tf.Session() as sess:\n",
    "    sess.run(tf.global_variables_initializer())\n",
    "    writer = tf.summary.FileWriter('/graphs/Lecture3_linear_reg'\n",
    "                                   ,sess.graph)\n",
    "    #Step 8: Train Model\n",
    "    for i in range(100):\n",
    "        total_loss=0.0001\n",
    "        for x,y in data: \n",
    "            # Session runs train_op and fetch values of loss\n",
    "            _,l = sess.run([optimizer_Q,loss],\n",
    "                           feed_dict={X:x,Y:y})\n",
    "            total_loss +=l\n",
    "        print('Epoch{0}:{1}'.format(i,total_loss/n_samples))\n",
    "    writer.close()    \n",
    "    u_value,w_value,b_value = sess.run([u,w,b])\n",
    "\n"
   ]
  },
  {
   "cell_type": "code",
   "execution_count": 5,
   "metadata": {
    "collapsed": false,
    "scrolled": false
   },
   "outputs": [
    {
     "data": {
      "text/html": [
       "\n",
       "        <iframe seamless style=\"width:1200px;height:620px;border:0\" srcdoc=\"\n",
       "        <script>\n",
       "          function load() {\n",
       "            document.getElementById(&quot;graph0.038514984118045326&quot;).pbtxt = '';\n",
       "          }\n",
       "        </script>\n",
       "        <link rel=&quot;import&quot; href=&quot;https://tensorboard.appspot.com/tf-graph-basic.build.html&quot; onload=load()>\n",
       "        <div style=&quot;height:600px&quot;>\n",
       "          <tf-graph-basic id=&quot;graph0.038514984118045326&quot;></tf-graph-basic>\n",
       "        </div>\n",
       "    \"></iframe>\n",
       "    "
      ],
      "text/plain": [
       "<IPython.core.display.HTML object>"
      ]
     },
     "metadata": {},
     "output_type": "display_data"
    }
   ],
   "source": [
    "show_graph(tf.get_default_graph().as_graph_def())"
   ]
  },
  {
   "cell_type": "code",
   "execution_count": 43,
   "metadata": {
    "collapsed": false,
    "scrolled": true
   },
   "outputs": [
    {
     "data": {
      "image/png": "[encoded data removed]",
      "text/plain": [
       "<matplotlib.figure.Figure at 0xd3d20b4668>"
      ]
     },
     "metadata": {},
     "output_type": "display_data"
    }
   ],
   "source": [
    "#pLot results\n",
    "X_np,Y_np = data.T[0],data.T[1]\n",
    "plt.plot(X_np,Y_np,'bo',label = 'Real Data')\n",
    "plt.plot(X_np,X_np*w_value+b_value,'r',label='Predicted Data')\n",
    "plt.legend()\n",
    "plt.show()"
   ]
  },
  {
   "cell_type": "code",
   "execution_count": null,
   "metadata": {
    "collapsed": true
   },
   "outputs": [],
   "source": []
  }
 ],
 "metadata": {
  "kernelspec": {
   "display_name": "Python (tensorflow)",
   "language": "python",
   "name": "tensorflow"
  },
  "language_info": {
   "codemirror_mode": {
    "name": "ipython",
    "version": 3
   },
   "file_extension": ".py",
   "mimetype": "text/x-python",
   "name": "python",
   "nbconvert_exporter": "python",
   "pygments_lexer": "ipython3",
   "version": "3.5.4"
  }
 },
 "nbformat": 4,
 "nbformat_minor": 2
}
