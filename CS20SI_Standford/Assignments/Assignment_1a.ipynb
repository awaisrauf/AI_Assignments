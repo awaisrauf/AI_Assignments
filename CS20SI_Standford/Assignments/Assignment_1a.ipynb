{
 "cells": [
  {
   "cell_type": "code",
   "execution_count": 19,
   "metadata": {
    "collapsed": true
   },
   "outputs": [],
   "source": [
    "import tensorflow as tf\n",
    "import numpy as np"
   ]
  },
  {
   "cell_type": "markdown",
   "metadata": {},
   "source": [
    "Simple TensorFlow exercises.\n",
    "You should thoroughly test your code"
   ]
  },
  {
   "cell_type": "code",
   "execution_count": 23,
   "metadata": {
    "collapsed": true
   },
   "outputs": [],
   "source": [
    "# These functions are to visulize graph inline\n",
    "from IPython.display import clear_output, Image, display, HTML\n",
    "def strip_consts(graph_def, max_const_size=32):\n",
    "    \"\"\"Strip large constant values from graph_def.\"\"\"\n",
    "    strip_def = tf.GraphDef()\n",
    "    for n0 in graph_def.node:\n",
    "        n = strip_def.node.add() \n",
    "        n.MergeFrom(n0)\n",
    "        if n.op == 'Const':\n",
    "            tensor = n.attr['value'].tensor\n",
    "            size = len(tensor.tensor_content)\n",
    "            if size > max_const_size:\n",
    "                tensor.tensor_content = \"<stripped %d bytes>\"%size\n",
    "    return strip_def\n",
    "\n",
    "def show_graph(graph_def, max_const_size=32):\n",
    "    \"\"\"Visualize TensorFlow graph.\"\"\"\n",
    "    if hasattr(graph_def, 'as_graph_def'):\n",
    "        graph_def = graph_def.as_graph_def()\n",
    "    strip_def = strip_consts(graph_def, max_const_size=max_const_size)\n",
    "    code = \"\"\"\n",
    "        <script>\n",
    "          function load() {{\n",
    "            document.getElementById(\"{id}\").pbtxt = {data};\n",
    "          }}\n",
    "        </script>\n",
    "        <link rel=\"import\" href=\"https://tensorboard.appspot.com/tf-graph-basic.build.html\" onload=load()>\n",
    "        <div style=\"height:600px\">\n",
    "          <tf-graph-basic id=\"{id}\"></tf-graph-basic>\n",
    "        </div>\n",
    "    \"\"\".format(data=repr(str(strip_def)), id='graph'+str(np.random.rand()))\n",
    "\n",
    "    iframe = \"\"\"\n",
    "        <iframe seamless style=\"width:1200px;height:620px;border:0\" srcdoc=\"{}\"></iframe>\n",
    "    \"\"\".format(code.replace('\"', '&quot;'))\n",
    "    display(HTML(iframe))"
   ]
  },
  {
   "cell_type": "markdown",
   "metadata": {},
   "source": [
    "# Questions "
   ]
  },
  {
   "cell_type": "code",
   "execution_count": 2,
   "metadata": {
    "collapsed": true
   },
   "outputs": [],
   "source": [
    "###############################################################################\n",
    "# 1a: Create two random 0-d tensors x and y of any distribution.\n",
    "# Create a TensorFlow object that returns x + y if x > y, and x - y otherwise.\n",
    "# Hint: look up tf.cond()\n",
    "# I do the first problem for you\n",
    "###############################################################################\n",
    "\n",
    "x = tf.random_uniform([])  # Empty array as shape creates a scalar.\n",
    "y = tf.random_uniform([])\n",
    "out = tf.cond(tf.greater(x, y), lambda: tf.add(x, y), lambda: tf.subtract(x, y))"
   ]
  },
  {
   "cell_type": "code",
   "execution_count": 26,
   "metadata": {
    "collapsed": false
   },
   "outputs": [
    {
     "name": "stdout",
     "output_type": "stream",
     "text": [
      "1.61092 0.457503 -0.722933\n"
     ]
    },
    {
     "data": {
      "text/html": [
       "\n",
       "        <iframe seamless style=\"width:1200px;height:620px;border:0\" srcdoc=\"\n",
       "        <script>\n",
       "          function load() {\n",
       "            document.getElementById(&quot;graph0.27128317672464&quot;).pbtxt = 'node {\\n  name: &quot;random_uniform/shape&quot;\\n  op: &quot;Const&quot;\\n  attr {\\n    key: &quot;dtype&quot;\\n    value {\\n      type: DT_INT32\\n    }\\n  }\\n  attr {\\n    key: &quot;value&quot;\\n    value {\\n      tensor {\\n        dtype: DT_INT32\\n        tensor_shape {\\n          dim {\\n          }\\n        }\\n      }\\n    }\\n  }\\n}\\nnode {\\n  name: &quot;random_uniform/min&quot;\\n  op: &quot;Const&quot;\\n  attr {\\n    key: &quot;dtype&quot;\\n    value {\\n      type: DT_FLOAT\\n    }\\n  }\\n  attr {\\n    key: &quot;value&quot;\\n    value {\\n      tensor {\\n        dtype: DT_FLOAT\\n        tensor_shape {\\n        }\\n        float_val: -1.0\\n      }\\n    }\\n  }\\n}\\nnode {\\n  name: &quot;random_uniform/max&quot;\\n  op: &quot;Const&quot;\\n  attr {\\n    key: &quot;dtype&quot;\\n    value {\\n      type: DT_FLOAT\\n    }\\n  }\\n  attr {\\n    key: &quot;value&quot;\\n    value {\\n      tensor {\\n        dtype: DT_FLOAT\\n        tensor_shape {\\n        }\\n        float_val: 1.0\\n      }\\n    }\\n  }\\n}\\nnode {\\n  name: &quot;random_uniform/RandomUniform&quot;\\n  op: &quot;RandomUniform&quot;\\n  input: &quot;random_uniform/shape&quot;\\n  attr {\\n    key: &quot;T&quot;\\n    value {\\n      type: DT_INT32\\n    }\\n  }\\n  attr {\\n    key: &quot;dtype&quot;\\n    value {\\n      type: DT_FLOAT\\n    }\\n  }\\n  attr {\\n    key: &quot;seed&quot;\\n    value {\\n      i: 0\\n    }\\n  }\\n  attr {\\n    key: &quot;seed2&quot;\\n    value {\\n      i: 0\\n    }\\n  }\\n}\\nnode {\\n  name: &quot;random_uniform/sub&quot;\\n  op: &quot;Sub&quot;\\n  input: &quot;random_uniform/max&quot;\\n  input: &quot;random_uniform/min&quot;\\n  attr {\\n    key: &quot;T&quot;\\n    value {\\n      type: DT_FLOAT\\n    }\\n  }\\n}\\nnode {\\n  name: &quot;random_uniform/mul&quot;\\n  op: &quot;Mul&quot;\\n  input: &quot;random_uniform/RandomUniform&quot;\\n  input: &quot;random_uniform/sub&quot;\\n  attr {\\n    key: &quot;T&quot;\\n    value {\\n      type: DT_FLOAT\\n    }\\n  }\\n}\\nnode {\\n  name: &quot;random_uniform&quot;\\n  op: &quot;Add&quot;\\n  input: &quot;random_uniform/mul&quot;\\n  input: &quot;random_uniform/min&quot;\\n  attr {\\n    key: &quot;T&quot;\\n    value {\\n      type: DT_FLOAT\\n    }\\n  }\\n}\\nnode {\\n  name: &quot;random_uniform_1/shape&quot;\\n  op: &quot;Const&quot;\\n  attr {\\n    key: &quot;dtype&quot;\\n    value {\\n      type: DT_INT32\\n    }\\n  }\\n  attr {\\n    key: &quot;value&quot;\\n    value {\\n      tensor {\\n        dtype: DT_INT32\\n        tensor_shape {\\n          dim {\\n          }\\n        }\\n      }\\n    }\\n  }\\n}\\nnode {\\n  name: &quot;random_uniform_1/min&quot;\\n  op: &quot;Const&quot;\\n  attr {\\n    key: &quot;dtype&quot;\\n    value {\\n      type: DT_FLOAT\\n    }\\n  }\\n  attr {\\n    key: &quot;value&quot;\\n    value {\\n      tensor {\\n        dtype: DT_FLOAT\\n        tensor_shape {\\n        }\\n        float_val: -1.0\\n      }\\n    }\\n  }\\n}\\nnode {\\n  name: &quot;random_uniform_1/max&quot;\\n  op: &quot;Const&quot;\\n  attr {\\n    key: &quot;dtype&quot;\\n    value {\\n      type: DT_FLOAT\\n    }\\n  }\\n  attr {\\n    key: &quot;value&quot;\\n    value {\\n      tensor {\\n        dtype: DT_FLOAT\\n        tensor_shape {\\n        }\\n        float_val: 1.0\\n      }\\n    }\\n  }\\n}\\nnode {\\n  name: &quot;random_uniform_1/RandomUniform&quot;\\n  op: &quot;RandomUniform&quot;\\n  input: &quot;random_uniform_1/shape&quot;\\n  attr {\\n    key: &quot;T&quot;\\n    value {\\n      type: DT_INT32\\n    }\\n  }\\n  attr {\\n    key: &quot;dtype&quot;\\n    value {\\n      type: DT_FLOAT\\n    }\\n  }\\n  attr {\\n    key: &quot;seed&quot;\\n    value {\\n      i: 0\\n    }\\n  }\\n  attr {\\n    key: &quot;seed2&quot;\\n    value {\\n      i: 0\\n    }\\n  }\\n}\\nnode {\\n  name: &quot;random_uniform_1/sub&quot;\\n  op: &quot;Sub&quot;\\n  input: &quot;random_uniform_1/max&quot;\\n  input: &quot;random_uniform_1/min&quot;\\n  attr {\\n    key: &quot;T&quot;\\n    value {\\n      type: DT_FLOAT\\n    }\\n  }\\n}\\nnode {\\n  name: &quot;random_uniform_1/mul&quot;\\n  op: &quot;Mul&quot;\\n  input: &quot;random_uniform_1/RandomUniform&quot;\\n  input: &quot;random_uniform_1/sub&quot;\\n  attr {\\n    key: &quot;T&quot;\\n    value {\\n      type: DT_FLOAT\\n    }\\n  }\\n}\\nnode {\\n  name: &quot;random_uniform_1&quot;\\n  op: &quot;Add&quot;\\n  input: &quot;random_uniform_1/mul&quot;\\n  input: &quot;random_uniform_1/min&quot;\\n  attr {\\n    key: &quot;T&quot;\\n    value {\\n      type: DT_FLOAT\\n    }\\n  }\\n}\\nnode {\\n  name: &quot;Less&quot;\\n  op: &quot;Less&quot;\\n  input: &quot;random_uniform&quot;\\n  input: &quot;random_uniform_1&quot;\\n  attr {\\n    key: &quot;T&quot;\\n    value {\\n      type: DT_FLOAT\\n    }\\n  }\\n}\\nnode {\\n  name: &quot;Greater&quot;\\n  op: &quot;Greater&quot;\\n  input: &quot;random_uniform&quot;\\n  input: &quot;random_uniform_1&quot;\\n  attr {\\n    key: &quot;T&quot;\\n    value {\\n      type: DT_FLOAT\\n    }\\n  }\\n}\\nnode {\\n  name: &quot;case/not_0/LogicalNot&quot;\\n  op: &quot;LogicalNot&quot;\\n  input: &quot;Greater&quot;\\n}\\nnode {\\n  name: &quot;case/not_1/LogicalNot&quot;\\n  op: &quot;LogicalNot&quot;\\n  input: &quot;Less&quot;\\n}\\nnode {\\n  name: &quot;case/always_true&quot;\\n  op: &quot;Const&quot;\\n  attr {\\n    key: &quot;dtype&quot;\\n    value {\\n      type: DT_BOOL\\n    }\\n  }\\n  attr {\\n    key: &quot;value&quot;\\n    value {\\n      tensor {\\n        dtype: DT_BOOL\\n        tensor_shape {\\n        }\\n        bool_val: true\\n      }\\n    }\\n  }\\n}\\nnode {\\n  name: &quot;case/and_not_0/LogicalAnd&quot;\\n  op: &quot;LogicalAnd&quot;\\n  input: &quot;case/always_true&quot;\\n  input: &quot;case/not_0/LogicalNot&quot;\\n}\\nnode {\\n  name: &quot;case/and_not_1/LogicalAnd&quot;\\n  op: &quot;LogicalAnd&quot;\\n  input: &quot;case/and_not_0/LogicalAnd&quot;\\n  input: &quot;case/not_1/LogicalNot&quot;\\n}\\nnode {\\n  name: &quot;case/case_0/LogicalAnd&quot;\\n  op: &quot;LogicalAnd&quot;\\n  input: &quot;Greater&quot;\\n  input: &quot;case/always_true&quot;\\n}\\nnode {\\n  name: &quot;case/case_1/LogicalAnd&quot;\\n  op: &quot;LogicalAnd&quot;\\n  input: &quot;Less&quot;\\n  input: &quot;case/and_not_0/LogicalAnd&quot;\\n}\\nnode {\\n  name: &quot;case/preds_c&quot;\\n  op: &quot;Pack&quot;\\n  input: &quot;Greater&quot;\\n  input: &quot;Less&quot;\\n  attr {\\n    key: &quot;N&quot;\\n    value {\\n      i: 2\\n    }\\n  }\\n  attr {\\n    key: &quot;T&quot;\\n    value {\\n      type: DT_BOOL\\n    }\\n  }\\n  attr {\\n    key: &quot;axis&quot;\\n    value {\\n      i: 0\\n    }\\n  }\\n}\\nnode {\\n  name: &quot;case/Cast&quot;\\n  op: &quot;Cast&quot;\\n  input: &quot;case/preds_c&quot;\\n  attr {\\n    key: &quot;DstT&quot;\\n    value {\\n      type: DT_INT32\\n    }\\n  }\\n  attr {\\n    key: &quot;SrcT&quot;\\n    value {\\n      type: DT_BOOL\\n    }\\n  }\\n}\\nnode {\\n  name: &quot;case/Const&quot;\\n  op: &quot;Const&quot;\\n  attr {\\n    key: &quot;dtype&quot;\\n    value {\\n      type: DT_INT32\\n    }\\n  }\\n  attr {\\n    key: &quot;value&quot;\\n    value {\\n      tensor {\\n        dtype: DT_INT32\\n        tensor_shape {\\n          dim {\\n            size: 1\\n          }\\n        }\\n        int_val: 0\\n      }\\n    }\\n  }\\n}\\nnode {\\n  name: &quot;case/num_true_conds&quot;\\n  op: &quot;Sum&quot;\\n  input: &quot;case/Cast&quot;\\n  input: &quot;case/Const&quot;\\n  attr {\\n    key: &quot;T&quot;\\n    value {\\n      type: DT_INT32\\n    }\\n  }\\n  attr {\\n    key: &quot;Tidx&quot;\\n    value {\\n      type: DT_INT32\\n    }\\n  }\\n  attr {\\n    key: &quot;keep_dims&quot;\\n    value {\\n      b: false\\n    }\\n  }\\n}\\nnode {\\n  name: &quot;case/two_true_conds&quot;\\n  op: &quot;Const&quot;\\n  attr {\\n    key: &quot;dtype&quot;\\n    value {\\n      type: DT_INT32\\n    }\\n  }\\n  attr {\\n    key: &quot;value&quot;\\n    value {\\n      tensor {\\n        dtype: DT_INT32\\n        tensor_shape {\\n        }\\n        int_val: 2\\n      }\\n    }\\n  }\\n}\\nnode {\\n  name: &quot;case/Less&quot;\\n  op: &quot;Less&quot;\\n  input: &quot;case/num_true_conds&quot;\\n  input: &quot;case/two_true_conds&quot;\\n  attr {\\n    key: &quot;T&quot;\\n    value {\\n      type: DT_INT32\\n    }\\n  }\\n}\\nnode {\\n  name: &quot;case/Assert/Const&quot;\\n  op: &quot;Const&quot;\\n  attr {\\n    key: &quot;dtype&quot;\\n    value {\\n      type: DT_STRING\\n    }\\n  }\\n  attr {\\n    key: &quot;value&quot;\\n    value {\\n      tensor {\\n        dtype: DT_STRING\\n        tensor_shape {\\n        }\\n        string_val: &quot;More than one condition evaluated as True but exclusive=True.  Conditions: (Greater:0, Less:0), Values:&quot;\\n      }\\n    }\\n  }\\n}\\nnode {\\n  name: &quot;case/Assert/AssertGuard/Switch&quot;\\n  op: &quot;Switch&quot;\\n  input: &quot;case/Less&quot;\\n  input: &quot;case/Less&quot;\\n  attr {\\n    key: &quot;T&quot;\\n    value {\\n      type: DT_BOOL\\n    }\\n  }\\n}\\nnode {\\n  name: &quot;case/Assert/AssertGuard/switch_t&quot;\\n  op: &quot;Identity&quot;\\n  input: &quot;case/Assert/AssertGuard/Switch:1&quot;\\n  attr {\\n    key: &quot;T&quot;\\n    value {\\n      type: DT_BOOL\\n    }\\n  }\\n}\\nnode {\\n  name: &quot;case/Assert/AssertGuard/switch_f&quot;\\n  op: &quot;Identity&quot;\\n  input: &quot;case/Assert/AssertGuard/Switch&quot;\\n  attr {\\n    key: &quot;T&quot;\\n    value {\\n      type: DT_BOOL\\n    }\\n  }\\n}\\nnode {\\n  name: &quot;case/Assert/AssertGuard/pred_id&quot;\\n  op: &quot;Identity&quot;\\n  input: &quot;case/Less&quot;\\n  attr {\\n    key: &quot;T&quot;\\n    value {\\n      type: DT_BOOL\\n    }\\n  }\\n}\\nnode {\\n  name: &quot;case/Assert/AssertGuard/NoOp&quot;\\n  op: &quot;NoOp&quot;\\n  input: &quot;^case/Assert/AssertGuard/switch_t&quot;\\n}\\nnode {\\n  name: &quot;case/Assert/AssertGuard/control_dependency&quot;\\n  op: &quot;Identity&quot;\\n  input: &quot;case/Assert/AssertGuard/switch_t&quot;\\n  input: &quot;^case/Assert/AssertGuard/NoOp&quot;\\n  attr {\\n    key: &quot;T&quot;\\n    value {\\n      type: DT_BOOL\\n    }\\n  }\\n  attr {\\n    key: &quot;_class&quot;\\n    value {\\n      list {\\n        s: &quot;loc:@case/Assert/AssertGuard/switch_t&quot;\\n      }\\n    }\\n  }\\n}\\nnode {\\n  name: &quot;case/Assert/AssertGuard/Assert/data_0&quot;\\n  op: &quot;Const&quot;\\n  input: &quot;^case/Assert/AssertGuard/switch_f&quot;\\n  attr {\\n    key: &quot;dtype&quot;\\n    value {\\n      type: DT_STRING\\n    }\\n  }\\n  attr {\\n    key: &quot;value&quot;\\n    value {\\n      tensor {\\n        dtype: DT_STRING\\n        tensor_shape {\\n        }\\n        string_val: &quot;More than one condition evaluated as True but exclusive=True.  Conditions: (Greater:0, Less:0), Values:&quot;\\n      }\\n    }\\n  }\\n}\\nnode {\\n  name: &quot;case/Assert/AssertGuard/Assert/Switch&quot;\\n  op: &quot;Switch&quot;\\n  input: &quot;case/Less&quot;\\n  input: &quot;case/Assert/AssertGuard/pred_id&quot;\\n  attr {\\n    key: &quot;T&quot;\\n    value {\\n      type: DT_BOOL\\n    }\\n  }\\n  attr {\\n    key: &quot;_class&quot;\\n    value {\\n      list {\\n        s: &quot;loc:@case/Less&quot;\\n      }\\n    }\\n  }\\n}\\nnode {\\n  name: &quot;case/Assert/AssertGuard/Assert/Switch_1&quot;\\n  op: &quot;Switch&quot;\\n  input: &quot;case/preds_c&quot;\\n  input: &quot;case/Assert/AssertGuard/pred_id&quot;\\n  attr {\\n    key: &quot;T&quot;\\n    value {\\n      type: DT_BOOL\\n    }\\n  }\\n  attr {\\n    key: &quot;_class&quot;\\n    value {\\n      list {\\n        s: &quot;loc:@case/preds_c&quot;\\n      }\\n    }\\n  }\\n}\\nnode {\\n  name: &quot;case/Assert/AssertGuard/Assert&quot;\\n  op: &quot;Assert&quot;\\n  input: &quot;case/Assert/AssertGuard/Assert/Switch&quot;\\n  input: &quot;case/Assert/AssertGuard/Assert/data_0&quot;\\n  input: &quot;case/Assert/AssertGuard/Assert/Switch_1&quot;\\n  attr {\\n    key: &quot;T&quot;\\n    value {\\n      list {\\n        type: DT_STRING\\n        type: DT_BOOL\\n      }\\n    }\\n  }\\n  attr {\\n    key: &quot;summarize&quot;\\n    value {\\n      i: 2\\n    }\\n  }\\n}\\nnode {\\n  name: &quot;case/Assert/AssertGuard/control_dependency_1&quot;\\n  op: &quot;Identity&quot;\\n  input: &quot;case/Assert/AssertGuard/switch_f&quot;\\n  input: &quot;^case/Assert/AssertGuard/Assert&quot;\\n  attr {\\n    key: &quot;T&quot;\\n    value {\\n      type: DT_BOOL\\n    }\\n  }\\n  attr {\\n    key: &quot;_class&quot;\\n    value {\\n      list {\\n        s: &quot;loc:@case/Assert/AssertGuard/switch_f&quot;\\n      }\\n    }\\n  }\\n}\\nnode {\\n  name: &quot;case/Assert/AssertGuard/Merge&quot;\\n  op: &quot;Merge&quot;\\n  input: &quot;case/Assert/AssertGuard/control_dependency_1&quot;\\n  input: &quot;case/Assert/AssertGuard/control_dependency&quot;\\n  attr {\\n    key: &quot;N&quot;\\n    value {\\n      i: 2\\n    }\\n  }\\n  attr {\\n    key: &quot;T&quot;\\n    value {\\n      type: DT_BOOL\\n    }\\n  }\\n}\\nnode {\\n  name: &quot;case/If_0/Switch&quot;\\n  op: &quot;Switch&quot;\\n  input: &quot;case/and_not_1/LogicalAnd&quot;\\n  input: &quot;case/and_not_1/LogicalAnd&quot;\\n  input: &quot;^case/Assert/AssertGuard/Merge&quot;\\n  attr {\\n    key: &quot;T&quot;\\n    value {\\n      type: DT_BOOL\\n    }\\n  }\\n}\\nnode {\\n  name: &quot;case/If_0/switch_t&quot;\\n  op: &quot;Identity&quot;\\n  input: &quot;case/If_0/Switch:1&quot;\\n  attr {\\n    key: &quot;T&quot;\\n    value {\\n      type: DT_BOOL\\n    }\\n  }\\n}\\nnode {\\n  name: &quot;case/If_0/switch_f&quot;\\n  op: &quot;Identity&quot;\\n  input: &quot;case/If_0/Switch&quot;\\n  attr {\\n    key: &quot;T&quot;\\n    value {\\n      type: DT_BOOL\\n    }\\n  }\\n}\\nnode {\\n  name: &quot;case/If_0/pred_id&quot;\\n  op: &quot;Identity&quot;\\n  input: &quot;case/and_not_1/LogicalAnd&quot;\\n  input: &quot;^case/Assert/AssertGuard/Merge&quot;\\n  attr {\\n    key: &quot;T&quot;\\n    value {\\n      type: DT_BOOL\\n    }\\n  }\\n}\\nnode {\\n  name: &quot;case/If_0/Const&quot;\\n  op: &quot;Const&quot;\\n  input: &quot;^case/Assert/AssertGuard/Merge&quot;\\n  input: &quot;^case/If_0/switch_t&quot;\\n  attr {\\n    key: &quot;dtype&quot;\\n    value {\\n      type: DT_FLOAT\\n    }\\n  }\\n  attr {\\n    key: &quot;value&quot;\\n    value {\\n      tensor {\\n        dtype: DT_FLOAT\\n        tensor_shape {\\n        }\\n        float_val: 0.0\\n      }\\n    }\\n  }\\n}\\nnode {\\n  name: &quot;case/If_0/Const_1&quot;\\n  op: &quot;Const&quot;\\n  input: &quot;^case/Assert/AssertGuard/Merge&quot;\\n  input: &quot;^case/If_0/switch_f&quot;\\n  attr {\\n    key: &quot;dtype&quot;\\n    value {\\n      type: DT_FLOAT\\n    }\\n  }\\n  attr {\\n    key: &quot;value&quot;\\n    value {\\n      tensor {\\n        dtype: DT_FLOAT\\n        tensor_shape {\\n        }\\n        float_val: 0.0\\n      }\\n    }\\n  }\\n}\\nnode {\\n  name: &quot;case/If_0/Merge&quot;\\n  op: &quot;Merge&quot;\\n  input: &quot;case/If_0/Const_1&quot;\\n  input: &quot;case/If_0/Const&quot;\\n  attr {\\n    key: &quot;N&quot;\\n    value {\\n      i: 2\\n    }\\n  }\\n  attr {\\n    key: &quot;T&quot;\\n    value {\\n      type: DT_FLOAT\\n    }\\n  }\\n}\\nnode {\\n  name: &quot;case/If_1/Switch&quot;\\n  op: &quot;Switch&quot;\\n  input: &quot;case/case_1/LogicalAnd&quot;\\n  input: &quot;case/case_1/LogicalAnd&quot;\\n  input: &quot;^case/Assert/AssertGuard/Merge&quot;\\n  attr {\\n    key: &quot;T&quot;\\n    value {\\n      type: DT_BOOL\\n    }\\n  }\\n}\\nnode {\\n  name: &quot;case/If_1/switch_t&quot;\\n  op: &quot;Identity&quot;\\n  input: &quot;case/If_1/Switch:1&quot;\\n  attr {\\n    key: &quot;T&quot;\\n    value {\\n      type: DT_BOOL\\n    }\\n  }\\n}\\nnode {\\n  name: &quot;case/If_1/switch_f&quot;\\n  op: &quot;Identity&quot;\\n  input: &quot;case/If_1/Switch&quot;\\n  attr {\\n    key: &quot;T&quot;\\n    value {\\n      type: DT_BOOL\\n    }\\n  }\\n}\\nnode {\\n  name: &quot;case/If_1/pred_id&quot;\\n  op: &quot;Identity&quot;\\n  input: &quot;case/case_1/LogicalAnd&quot;\\n  input: &quot;^case/Assert/AssertGuard/Merge&quot;\\n  attr {\\n    key: &quot;T&quot;\\n    value {\\n      type: DT_BOOL\\n    }\\n  }\\n}\\nnode {\\n  name: &quot;case/If_1/add/Switch&quot;\\n  op: &quot;Switch&quot;\\n  input: &quot;random_uniform&quot;\\n  input: &quot;case/If_1/pred_id&quot;\\n  attr {\\n    key: &quot;T&quot;\\n    value {\\n      type: DT_FLOAT\\n    }\\n  }\\n  attr {\\n    key: &quot;_class&quot;\\n    value {\\n      list {\\n        s: &quot;loc:@random_uniform&quot;\\n      }\\n    }\\n  }\\n}\\nnode {\\n  name: &quot;case/If_1/add/Switch_1&quot;\\n  op: &quot;Switch&quot;\\n  input: &quot;random_uniform_1&quot;\\n  input: &quot;case/If_1/pred_id&quot;\\n  attr {\\n    key: &quot;T&quot;\\n    value {\\n      type: DT_FLOAT\\n    }\\n  }\\n  attr {\\n    key: &quot;_class&quot;\\n    value {\\n      list {\\n        s: &quot;loc:@random_uniform_1&quot;\\n      }\\n    }\\n  }\\n}\\nnode {\\n  name: &quot;case/If_1/add&quot;\\n  op: &quot;Add&quot;\\n  input: &quot;case/If_1/add/Switch:1&quot;\\n  input: &quot;case/If_1/add/Switch_1:1&quot;\\n  input: &quot;^case/Assert/AssertGuard/Merge&quot;\\n  attr {\\n    key: &quot;T&quot;\\n    value {\\n      type: DT_FLOAT\\n    }\\n  }\\n}\\nnode {\\n  name: &quot;case/If_1/Switch_1&quot;\\n  op: &quot;Switch&quot;\\n  input: &quot;case/If_0/Merge&quot;\\n  input: &quot;case/If_1/pred_id&quot;\\n  attr {\\n    key: &quot;T&quot;\\n    value {\\n      type: DT_FLOAT\\n    }\\n  }\\n  attr {\\n    key: &quot;_class&quot;\\n    value {\\n      list {\\n        s: &quot;loc:@case/If_0/Merge&quot;\\n      }\\n    }\\n  }\\n}\\nnode {\\n  name: &quot;case/If_1/Merge&quot;\\n  op: &quot;Merge&quot;\\n  input: &quot;case/If_1/Switch_1&quot;\\n  input: &quot;case/If_1/add&quot;\\n  attr {\\n    key: &quot;N&quot;\\n    value {\\n      i: 2\\n    }\\n  }\\n  attr {\\n    key: &quot;T&quot;\\n    value {\\n      type: DT_FLOAT\\n    }\\n  }\\n}\\nnode {\\n  name: &quot;case/If_2/Switch&quot;\\n  op: &quot;Switch&quot;\\n  input: &quot;case/case_0/LogicalAnd&quot;\\n  input: &quot;case/case_0/LogicalAnd&quot;\\n  input: &quot;^case/Assert/AssertGuard/Merge&quot;\\n  attr {\\n    key: &quot;T&quot;\\n    value {\\n      type: DT_BOOL\\n    }\\n  }\\n}\\nnode {\\n  name: &quot;case/If_2/switch_t&quot;\\n  op: &quot;Identity&quot;\\n  input: &quot;case/If_2/Switch:1&quot;\\n  attr {\\n    key: &quot;T&quot;\\n    value {\\n      type: DT_BOOL\\n    }\\n  }\\n}\\nnode {\\n  name: &quot;case/If_2/switch_f&quot;\\n  op: &quot;Identity&quot;\\n  input: &quot;case/If_2/Switch&quot;\\n  attr {\\n    key: &quot;T&quot;\\n    value {\\n      type: DT_BOOL\\n    }\\n  }\\n}\\nnode {\\n  name: &quot;case/If_2/pred_id&quot;\\n  op: &quot;Identity&quot;\\n  input: &quot;case/case_0/LogicalAnd&quot;\\n  input: &quot;^case/Assert/AssertGuard/Merge&quot;\\n  attr {\\n    key: &quot;T&quot;\\n    value {\\n      type: DT_BOOL\\n    }\\n  }\\n}\\nnode {\\n  name: &quot;case/If_2/sub/Switch&quot;\\n  op: &quot;Switch&quot;\\n  input: &quot;random_uniform&quot;\\n  input: &quot;case/If_2/pred_id&quot;\\n  attr {\\n    key: &quot;T&quot;\\n    value {\\n      type: DT_FLOAT\\n    }\\n  }\\n  attr {\\n    key: &quot;_class&quot;\\n    value {\\n      list {\\n        s: &quot;loc:@random_uniform&quot;\\n      }\\n    }\\n  }\\n}\\nnode {\\n  name: &quot;case/If_2/sub/Switch_1&quot;\\n  op: &quot;Switch&quot;\\n  input: &quot;random_uniform_1&quot;\\n  input: &quot;case/If_2/pred_id&quot;\\n  attr {\\n    key: &quot;T&quot;\\n    value {\\n      type: DT_FLOAT\\n    }\\n  }\\n  attr {\\n    key: &quot;_class&quot;\\n    value {\\n      list {\\n        s: &quot;loc:@random_uniform_1&quot;\\n      }\\n    }\\n  }\\n}\\nnode {\\n  name: &quot;case/If_2/sub&quot;\\n  op: &quot;Sub&quot;\\n  input: &quot;case/If_2/sub/Switch:1&quot;\\n  input: &quot;case/If_2/sub/Switch_1:1&quot;\\n  input: &quot;^case/Assert/AssertGuard/Merge&quot;\\n  attr {\\n    key: &quot;T&quot;\\n    value {\\n      type: DT_FLOAT\\n    }\\n  }\\n}\\nnode {\\n  name: &quot;case/If_2/Switch_1&quot;\\n  op: &quot;Switch&quot;\\n  input: &quot;case/If_1/Merge&quot;\\n  input: &quot;case/If_2/pred_id&quot;\\n  attr {\\n    key: &quot;T&quot;\\n    value {\\n      type: DT_FLOAT\\n    }\\n  }\\n  attr {\\n    key: &quot;_class&quot;\\n    value {\\n      list {\\n        s: &quot;loc:@case/If_1/Merge&quot;\\n      }\\n    }\\n  }\\n}\\nnode {\\n  name: &quot;case/If_2/Merge&quot;\\n  op: &quot;Merge&quot;\\n  input: &quot;case/If_2/Switch_1&quot;\\n  input: &quot;case/If_2/sub&quot;\\n  attr {\\n    key: &quot;N&quot;\\n    value {\\n      i: 2\\n    }\\n  }\\n  attr {\\n    key: &quot;T&quot;\\n    value {\\n      type: DT_FLOAT\\n    }\\n  }\\n}\\n';\n",
       "          }\n",
       "        </script>\n",
       "        <link rel=&quot;import&quot; href=&quot;https://tensorboard.appspot.com/tf-graph-basic.build.html&quot; onload=load()>\n",
       "        <div style=&quot;height:600px&quot;>\n",
       "          <tf-graph-basic id=&quot;graph0.27128317672464&quot;></tf-graph-basic>\n",
       "        </div>\n",
       "    \"></iframe>\n",
       "    "
      ],
      "text/plain": [
       "<IPython.core.display.HTML object>"
      ]
     },
     "metadata": {},
     "output_type": "display_data"
    }
   ],
   "source": [
    "##############################################################################\n",
    "# 1b: Create two 0-d tensors x and y randomly selected from the range [-1, 1).\n",
    "# Return x + y if x < y, x - y if x > y, 0 otherwise.\n",
    "# Hint: Look up tf.case().\n",
    "###############################################################################\n",
    "\n",
    "# YOUR CODE\n",
    "tf.reset_default_graph()\n",
    "x = tf.random_uniform([],minval=-1,maxval=1,dtype=tf.float32)\n",
    "y = tf.random_uniform([],minval=-1,maxval=1,dtype=tf.float32)\n",
    "def f1(): return x+y\n",
    "def f2(): return x-y\n",
    "def f3(): return 0.0\n",
    "z = tf.case({tf.less(x,y):f1,tf.greater(x,y):f2},default=f3,exclusive=True)\n",
    "with tf.Session() as sess:\n",
    "    writer = tf.summary.FileWriter('./graphs/Assignment1/',sess.graph)\n",
    "    print(sess.run(z),sess.run(x),sess.run(y))\n",
    "show_graph(tf.get_default_graph().as_graph_def())"
   ]
  },
  {
   "cell_type": "code",
   "execution_count": 28,
   "metadata": {
    "collapsed": false
   },
   "outputs": [
    {
     "name": "stdout",
     "output_type": "stream",
     "text": [
      "[[ True False False]\n",
      " [ True False False]]\n"
     ]
    }
   ],
   "source": [
    "###############################################################################\n",
    "# 1c: Create the tensor x of the value [[0, -2, -1], [0, 1, 2]] \n",
    "# and y as a tensor of zeros with the same shape as x.\n",
    "# Return a boolean tensor that yields Trues if x equals y element-wise.\n",
    "# Hint: Look up tf.equal().\n",
    "###############################################################################\n",
    "\n",
    "# YOUR CODE\n",
    "tf.reset_default_graph()\n",
    "x = tf.constant([[0,-2,-1],[0,1,2]])\n",
    "y = tf.zeros_like(x)\n",
    "out = tf.equal(x,y)\n",
    "with tf.Session() as sess:\n",
    "    print(sess.run(out))"
   ]
  },
  {
   "cell_type": "code",
   "execution_count": 38,
   "metadata": {
    "collapsed": false
   },
   "outputs": [
    {
     "name": "stdout",
     "output_type": "stream",
     "text": [
      "[[ 31.19073486]\n",
      " [ 30.97266006]\n",
      " [ 38.08450317]\n",
      " [ 34.94445419]\n",
      " [ 34.45999146]\n",
      " [ 36.01657104]\n",
      " [ 30.20379066]\n",
      " [ 33.71149445]\n",
      " [ 36.05556488]]\n"
     ]
    }
   ],
   "source": [
    "###############################################################################\n",
    "# 1d: Create the tensor x of value \n",
    "# [29.05088806,  27.61298943,  31.19073486,  29.35532951,\n",
    "#  30.97266006,  26.67541885,  38.08450317,  20.74983215,\n",
    "#  34.94445419,  34.45999146,  29.06485367,  36.01657104,\n",
    "#  27.88236427,  20.56035233,  30.20379066,  29.51215172,\n",
    "#  33.71149445,  28.59134293,  36.05556488,  28.66994858].\n",
    "# Get the indices of elements in x whose values are greater than 30.\n",
    "# Hint: Use tf.where().\n",
    "# Then extract elements whose values are greater than 30.\n",
    "# Hint: Use tf.gather().\n",
    "###############################################################################\n",
    "\n",
    "# YOUR CODE\n",
    "tf.reset_default_graph()\n",
    "x = tf.constant([29.05088806,  27.61298943,  31.19073486,  29.35532951,\n",
    "  30.97266006,  26.67541885,  38.08450317,  20.74983215,\n",
    "  34.94445419,  34.45999146,  29.06485367,  36.01657104,\n",
    "  27.88236427,  20.56035233,  30.20379066,  29.51215172,\n",
    "  33.71149445,  28.59134293,  36.05556488,  28.66994858])\n",
    "y=tf.fill(tf.shape(x),30.0)\n",
    "x_indices_more_than_30 = tf.where(x>30)\n",
    "x_values_more_than_30 = tf.gather(x,x_indices_more_than_30)\n",
    "#Graph\n",
    "with tf.Session() as sess:\n",
    "    print(sess.run(x_values_more_than_30))"
   ]
  },
  {
   "cell_type": "code",
   "execution_count": 43,
   "metadata": {
    "collapsed": false
   },
   "outputs": [
    {
     "name": "stdout",
     "output_type": "stream",
     "text": [
      "[[1 0 0 0 0 0]\n",
      " [0 2 0 0 0 0]\n",
      " [0 0 3 0 0 0]\n",
      " [0 0 0 4 0 0]\n",
      " [0 0 0 0 5 0]\n",
      " [0 0 0 0 0 6]]\n"
     ]
    }
   ],
   "source": [
    "###############################################################################\n",
    "# 1e: Create a diagnoal 2-d tensor of size 6 x 6 with the diagonal values of 1,\n",
    "# 2, ..., 6\n",
    "# Hint: Use tf.range() and tf.diag().\n",
    "###############################################################################\n",
    "\n",
    "# YOUR CODE\n",
    "tf.reset_default_graph()\n",
    "diagonal_values = tf.range(1,7)\n",
    "diag = tf.diag(diagonal_values)\n",
    "with tf.Session() as sess:\n",
    "    print(sess.run(diag))\n"
   ]
  },
  {
   "cell_type": "code",
   "execution_count": 48,
   "metadata": {
    "collapsed": false
   },
   "outputs": [
    {
     "name": "stdout",
     "output_type": "stream",
     "text": [
      "-0.857911\n"
     ]
    }
   ],
   "source": [
    "\n",
    "###############################################################################\n",
    "# 1f: Create a random 2-d tensor of size 10 x 10 from any distribution.\n",
    "# Calculate its determinant.\n",
    "# Hint: Look at tf.matrix_determinant().\n",
    "###############################################################################\n",
    "\n",
    "# YOUR CODE\n",
    "tf.reset_default_graph()\n",
    "x = tf.random_normal([10,10])\n",
    "det = tf.matrix_determinant(x)\n",
    "tf.InteractiveSession()\n",
    "print(det.eval())\n"
   ]
  },
  {
   "cell_type": "code",
   "execution_count": 55,
   "metadata": {
    "collapsed": false
   },
   "outputs": [
    {
     "name": "stdout",
     "output_type": "stream",
     "text": [
      "[ 5  2  3 10  6  4  1  0  9]\n"
     ]
    }
   ],
   "source": [
    "###############################################################################\n",
    "# 1g: Create tensor x with value [5, 2, 3, 5, 10, 6, 2, 3, 4, 2, 1, 1, 0, 9].\n",
    "# Return the unique elements in x\n",
    "# Hint: use tf.unique(). Keep in mind that tf.unique() returns a tuple.\n",
    "###############################################################################\n",
    "\n",
    "# YOUR CODE\n",
    "x = tf.constant( [5, 2, 3, 5, 10, 6, 2, 3, 4, 2, 1, 1, 0, 9])\n",
    "y = tf.unique(x)\n",
    "\n",
    "with tf.Session() as sess:\n",
    "    #y[0] as unique returns unique elemetns and their indices but we only need elements\n",
    "    print(sess.run(y[0]))"
   ]
  },
  {
   "cell_type": "code",
   "execution_count": 75,
   "metadata": {
    "collapsed": false
   },
   "outputs": [
    {
     "name": "stdout",
     "output_type": "stream",
     "text": [
      "604.391\n"
     ]
    }
   ],
   "source": [
    "###############################################################################\n",
    "# 1h: Create two tensors x and y of shape 300 from any normal distribution,\n",
    "# as long as they are from the same distribution.\n",
    "# Use tf.cond() to return:\n",
    "# - The mean squared error of (x - y) if the average of all elements in (x - y)\n",
    "#   is negative, or\n",
    "# - The sum of absolute value of all elements in the tensor (x - y) otherwise.\n",
    "# Hint: see the Huber loss function in the lecture slides 3.\n",
    "###############################################################################\n",
    "\n",
    "# YOUR CODE\n",
    "tf.reset_default_graph()\n",
    "x = tf.random_normal([300])\n",
    "y = tf.random_normal([300])\n",
    "loss = tf.cond( tf.reduce_mean(x-y)<=0, \n",
    "                lambda: tf.reduce_sum(tf.square(x-y)),\n",
    "                lambda: tf.reduce_sum(tf.abs(x-y))\n",
    "               )\n",
    "with tf.Session() as sess: \n",
    "    print(sess.run(loss))"
   ]
  },
  {
   "cell_type": "code",
   "execution_count": null,
   "metadata": {
    "collapsed": true
   },
   "outputs": [],
   "source": []
  }
 ],
 "metadata": {
  "kernelspec": {
   "display_name": "Python (tensorflow)",
   "language": "python",
   "name": "tensorflow"
  },
  "language_info": {
   "codemirror_mode": {
    "name": "ipython",
    "version": 3
   },
   "file_extension": ".py",
   "mimetype": "text/x-python",
   "name": "python",
   "nbconvert_exporter": "python",
   "pygments_lexer": "ipython3",
   "version": "3.5.4"
  }
 },
 "nbformat": 4,
 "nbformat_minor": 2
}
