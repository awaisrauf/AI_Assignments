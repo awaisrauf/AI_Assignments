{
 "cells": [
  {
   "cell_type": "markdown",
   "metadata": {},
   "source": [
    "# Efficient iterating\n"
   ]
  },
  {
   "cell_type": "markdown",
   "metadata": {},
   "source": [
    "## Looping using the .iterrows() function\n",
    "\n",
    "- Not faster but cleaner"
   ]
  },
  {
   "cell_type": "code",
   "execution_count": 1,
   "metadata": {},
   "outputs": [],
   "source": [
    "import pandas as pd\n",
    "poker_hands = pd.read_csv(\"data/poker_hand.csv\")"
   ]
  },
  {
   "cell_type": "markdown",
   "metadata": {},
   "source": [
    "### Create a generator for a pandas DataFrame\n",
    "As you've seen in the video, you can easily create a generator out of a pandas DataFrame. Each time you iterate through it, it will yield two elements:\n",
    "\n",
    "- the index of the respective row\n",
    "- a pandas Series with all the elements of that row\n",
    "\n",
    "You are going to create a generator over the poker dataset, imported as poker_hands. Then, you will print all the elements of the 2nd row, using the generator.\n",
    "\n",
    "Remember you can always explore the dataset and see how it changes in the IPython Shell, and refer to the slides in the Slides tab."
   ]
  },
  {
   "cell_type": "code",
   "execution_count": 5,
   "metadata": {},
   "outputs": [
    {
     "name": "stdout",
     "output_type": "stream",
     "text": [
      "(0, S1        1\n",
      "R1       10\n",
      "S2        1\n",
      "R2       11\n",
      "S3        1\n",
      "R3       13\n",
      "S4        1\n",
      "R4       12\n",
      "S5        1\n",
      "R5        1\n",
      "Class     9\n",
      "Name: 0, dtype: int64) S1        1\n",
      "R1       10\n",
      "S2        1\n",
      "R2       11\n",
      "S3        1\n",
      "R3       13\n",
      "S4        1\n",
      "R4       12\n",
      "S5        1\n",
      "R5        1\n",
      "Class     9\n",
      "Name: 0, dtype: int64\n"
     ]
    }
   ],
   "source": [
    "# Create a generator over the rows\n",
    "generator = poker_hands.iterrows()\n",
    "\n",
    "# Access the elements of the 2nd row\n",
    "first_element = next(generator)\n",
    "second_element = first_element[1]\n",
    "print(first_element, second_element)"
   ]
  },
  {
   "cell_type": "markdown",
   "metadata": {},
   "source": [
    "### The iterrows() function for looping\n",
    "You just saw how to create a generator out of a pandas DataFrame. You will now use this generator and see how to take advantage of that method of looping through a pandas DataFrame, still using the poker_hands dataset.\n",
    "\n",
    "Specifically, we want the sum of the ranks of all the cards, if the index of the hand is an odd number. The ranks of the cards are located in the odd columns of the DataFrame.\n"
   ]
  },
  {
   "cell_type": "code",
   "execution_count": 7,
   "metadata": {},
   "outputs": [],
   "source": [
    "data_generator = poker_hands.iterrows()\n",
    "\n",
    "for index, values in data_generator:\n",
    "  \t# Check if index is odd\n",
    "    if index%2 != 0:\n",
    "      \t# Sum the ranks of all the cards\n",
    "        hand_sum = sum([values[1], values[3], values[5], values[7], values[9]])"
   ]
  },
  {
   "cell_type": "markdown",
   "metadata": {},
   "source": [
    "## Looping using the `.apply()` function\n",
    "- apply function on all the dataframe"
   ]
  },
  {
   "cell_type": "markdown",
   "metadata": {},
   "source": [
    "### apply() function in every cell\n",
    "As you saw in the lesson, you can use .apply() to map a function to every cell of the DataFrame, regardless the column or the row.\n",
    "\n",
    "You're going to try it out on the poker_hands dataset. You will use .apply() to square every cell of the DataFrame. The native Python way to square a number n is n**2."
   ]
  },
  {
   "cell_type": "code",
   "execution_count": 8,
   "metadata": {},
   "outputs": [
    {
     "name": "stdout",
     "output_type": "stream",
     "text": [
      "   S1   R1  S2   R2  S3   R3  S4   R4  S5   R5  Class\n",
      "0   1  100   1  121   1  169   1  144   1    1     81\n",
      "1   4  121   4  169   4  100   4  144   4    1     81\n",
      "2   9  144   9  121   9  169   9  100   9    1     81\n",
      "3  16  100  16  121  16    1  16  169  16  144     81\n",
      "4  16    1  16  169  16  144  16  121  16  100     81\n"
     ]
    }
   ],
   "source": [
    "# Define the lambda transformation\n",
    "get_square = lambda x: x**2\n",
    "\n",
    "# Apply the transformation\n",
    "data_sum = poker_hands.apply(get_square)\n",
    "print(data_sum.head())"
   ]
  },
  {
   "cell_type": "markdown",
   "metadata": {},
   "source": [
    "### apply() for rows iteration\n",
    ".apply() is a very useful to iterate through the rows of a DataFrame and apply a specific function.\n",
    "\n",
    "You will work on a subset of the poker_hands dataset, which includes only the rank of all the five cards of each hand in each row (this subset is generated for you in the script). You're going to get the variance of every hand for all ranks, and every rank for all hands."
   ]
  },
  {
   "cell_type": "code",
   "execution_count": 12,
   "metadata": {},
   "outputs": [
    {
     "name": "stdout",
     "output_type": "stream",
     "text": [
      "0    18.64\n",
      "1    18.64\n",
      "2    18.64\n",
      "3    18.64\n",
      "4    18.64\n",
      "dtype: float64\n"
     ]
    }
   ],
   "source": [
    "import numpy as np\n",
    "# Define the lambda transformation\n",
    "get_variance = lambda x: np.var(x)\n",
    "\n",
    "# Apply the transformation\n",
    "data_tr = poker_hands[['R1', 'R2', 'R3', 'R4', 'R5']].apply(get_variance, axis=1)\n",
    "print(data_tr.head())"
   ]
  },
  {
   "cell_type": "markdown",
   "metadata": {},
   "source": [
    "## Vectorization over pandas series\n"
   ]
  },
  {
   "cell_type": "markdown",
   "metadata": {},
   "source": [
    "### pandas vectorization in action\n",
    "In this exercise, you will apply vectorization over pandas series to:\n",
    "\n",
    "calculate the mean rank of all the cards in each hand (row)\n",
    "calculate the mean rank of each of the 5 cards in each hand (column)\n",
    "You will use the poker_hands dataset once again to compare both methods' efficiency."
   ]
  },
  {
   "cell_type": "code",
   "execution_count": 14,
   "metadata": {},
   "outputs": [
    {
     "name": "stdout",
     "output_type": "stream",
     "text": [
      "Time using pandas vectorization for rows: 0.0 sec\n",
      "0    9.4\n",
      "1    9.4\n",
      "2    9.4\n",
      "3    9.4\n",
      "4    9.4\n",
      "dtype: float64\n",
      "Time using pandas vectorization for columns: 0.018814563751220703 sec\n",
      "R1    6.995242\n",
      "R2    7.014194\n",
      "R3    7.014154\n",
      "R4    6.942463\n",
      "R5    6.962735\n",
      "dtype: float64\n"
     ]
    }
   ],
   "source": [
    "import time\n",
    "# Calculate the mean rank in each hand\n",
    "row_start_time = time.time()\n",
    "mean_r = poker_hands[['R1', 'R2', 'R3', 'R4', 'R5']].mean(axis=1)\n",
    "print(\"Time using pandas vectorization for rows: {} sec\".format(time.time() - row_start_time))\n",
    "print(mean_r.head())\n",
    "\n",
    "# Calculate the mean rank of each of the 5 card in all hands\n",
    "col_start_time = time.time()\n",
    "mean_c = poker_hands[['R1', 'R2', 'R3', 'R4', 'R5']].mean(axis=0)\n",
    "print(\"Time using pandas vectorization for columns: {} sec\".format(time.time() - col_start_time))\n",
    "print(mean_c.head())"
   ]
  },
  {
   "cell_type": "markdown",
   "metadata": {},
   "source": [
    "## Vectorization with NumPy arrays using `.values()`"
   ]
  },
  {
   "cell_type": "markdown",
   "metadata": {},
   "source": [
    "### Vectorization methods for looping a DataFrame\n",
    "Now that you're familiar with vectorization in pandas and NumPy, you're going to compare their respective performances yourself.\n",
    "\n",
    "Your task is to calculate the variance of all the hands in each hand using the vectorization over pandas Series and then modify your code using the vectorization over Numpy ndarrays method."
   ]
  },
  {
   "cell_type": "code",
   "execution_count": 15,
   "metadata": {},
   "outputs": [
    {
     "name": "stdout",
     "output_type": "stream",
     "text": [
      "Time using pandas vectorization: 0.005995273590087891 sec\n",
      "R1    14.061035\n",
      "R2    14.190090\n",
      "R3    14.024831\n",
      "R4    14.041113\n",
      "R5    13.999411\n",
      "dtype: float64\n"
     ]
    }
   ],
   "source": [
    "# Calculate the variance in each hand\n",
    "start_time = time.time()\n",
    "poker_var = poker_hands[['R1', 'R2', 'R3', 'R4', 'R5']].var(axis=0)\n",
    "print(\"Time using pandas vectorization: {} sec\".format(time.time() - start_time))\n",
    "print(poker_var.head())"
   ]
  },
  {
   "cell_type": "code",
   "execution_count": 16,
   "metadata": {},
   "outputs": [
    {
     "name": "stdout",
     "output_type": "stream",
     "text": [
      "Time using NumPy vectorization: 0.005997180938720703 sec\n",
      "[23.3 23.3 23.3 23.3 23.3]\n"
     ]
    }
   ],
   "source": [
    "# Calculate the variance in each hand\n",
    "start_time = time.time()\n",
    "poker_var = poker_hands[['R1', 'R2', 'R3', 'R4', 'R5']].values.var(axis=1, ddof=1)\n",
    "print(\"Time using NumPy vectorization: {} sec\".format(time.time() - start_time))\n",
    "print(poker_var[0:5])"
   ]
  },
  {
   "cell_type": "code",
   "execution_count": null,
   "metadata": {},
   "outputs": [],
   "source": []
  }
 ],
 "metadata": {
  "kernelspec": {
   "display_name": "Python 3",
   "language": "python",
   "name": "python3"
  },
  "language_info": {
   "codemirror_mode": {
    "name": "ipython",
    "version": 3
   },
   "file_extension": ".py",
   "mimetype": "text/x-python",
   "name": "python",
   "nbconvert_exporter": "python",
   "pygments_lexer": "ipython3",
   "version": "3.8.2"
  }
 },
 "nbformat": 4,
 "nbformat_minor": 4
}
