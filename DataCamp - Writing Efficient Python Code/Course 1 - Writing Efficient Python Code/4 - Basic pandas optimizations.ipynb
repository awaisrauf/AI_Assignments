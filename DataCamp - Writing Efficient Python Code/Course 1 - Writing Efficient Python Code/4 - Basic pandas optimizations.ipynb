{
 "cells": [
  {
   "cell_type": "markdown",
   "metadata": {},
   "source": [
    "# Basic pandas optimizations\n",
    "This chapter offers a brief introduction on how to efficiently work with pandas DataFrames. You'll learn the various options you have for iterating over a DataFrame. Then, you'll learn how to efficiently apply functions to data stored in a DataFrame.\n",
    "### Syllabus\n",
    "- Intro to pandas DataFrame iteration\n",
    "- Iterating with .iterrows()\n",
    "- Run differentials with .iterrows()\n",
    "- Another iterator method: .itertuples()\n",
    "- Iterating with .itertuples()\n",
    "- Run differentials with .itertuples()\n",
    "- pandas alternative to looping\n",
    "- Analyzing baseball stats with .apply()\n",
    "- Settle a debate with .apply()\n",
    "- Optimal pandas iterating\n",
    "- Replacing .iloc with underlying arrays\n",
    "- Bringing it all together: Predict win percentage"
   ]
  },
  {
   "cell_type": "markdown",
   "metadata": {},
   "source": [
    "- iloc[i]: access each row\n",
    "- .iterrows(): index, row"
   ]
  },
  {
   "cell_type": "markdown",
   "metadata": {},
   "source": [
    "#### Iterating with .iterrows()\n",
    "In the video, we discussed that .iterrows() returns each DataFrame row as a tuple of (index, pandas Series) pairs. But, what does this mean? Let's explore with a few coding exercises.\n",
    "\n",
    "A pandas DataFrame has been loaded into your session called pit_df. This DataFrame contains the stats for the Major League Baseball team named the Pittsburgh Pirates (abbreviated as 'PIT') from the year 2008 to the year 2012. It has been printed into your console for convenience."
   ]
  },
  {
   "cell_type": "code",
   "execution_count": 1,
   "metadata": {},
   "outputs": [],
   "source": [
    "import pandas as pd\n",
    "\n",
    "\n",
    "df_dict = {'Team': {0: 'PIT', 1: 'PIT', 2: 'PIT', 3: 'PIT', 4: 'PIT'},\n",
    " 'League': {0: 'NL', 1: 'NL', 2: 'NL', 3: 'NL', 4: 'NL'},\n",
    " 'Year': {0: 2012, 1: 2011, 2: 2010, 3: 2009, 4: 2008},\n",
    " 'RS': {0: 651, 1: 610, 2: 587, 3: 636, 4: 735},\n",
    " 'RA': {0: 674, 1: 712, 2: 866, 3: 768, 4: 884},\n",
    " 'W': {0: 79, 1: 72, 2: 57, 3: 62, 4: 67},\n",
    " 'G': {0: 162, 1: 162, 2: 162, 3: 161, 4: 162},\n",
    " 'Playoffs': {0: 0, 1: 0, 2: 0, 3: 0, 4: 0}}\n",
    "pit_df = pd.DataFrame(df_dict)"
   ]
  },
  {
   "cell_type": "code",
   "execution_count": 5,
   "metadata": {},
   "outputs": [
    {
     "name": "stdout",
     "output_type": "stream",
     "text": [
      "Team         PIT\n",
      "League        NL\n",
      "Year        2012\n",
      "RS           651\n",
      "RA           674\n",
      "W             79\n",
      "G            162\n",
      "Playoffs       0\n",
      "Name: 0, dtype: object\n",
      "Team         PIT\n",
      "League        NL\n",
      "Year        2011\n",
      "RS           610\n",
      "RA           712\n",
      "W             72\n",
      "G            162\n",
      "Playoffs       0\n",
      "Name: 1, dtype: object\n",
      "Team         PIT\n",
      "League        NL\n",
      "Year        2010\n",
      "RS           587\n",
      "RA           866\n",
      "W             57\n",
      "G            162\n",
      "Playoffs       0\n",
      "Name: 2, dtype: object\n",
      "Team         PIT\n",
      "League        NL\n",
      "Year        2009\n",
      "RS           636\n",
      "RA           768\n",
      "W             62\n",
      "G            161\n",
      "Playoffs       0\n",
      "Name: 3, dtype: object\n",
      "Team         PIT\n",
      "League        NL\n",
      "Year        2008\n",
      "RS           735\n",
      "RA           884\n",
      "W             67\n",
      "G            162\n",
      "Playoffs       0\n",
      "Name: 4, dtype: object\n",
      "(0, Team         PIT\n",
      "League        NL\n",
      "Year        2012\n",
      "RS           651\n",
      "RA           674\n",
      "W             79\n",
      "G            162\n",
      "Playoffs       0\n",
      "Name: 0, dtype: object)\n",
      "(1, Team         PIT\n",
      "League        NL\n",
      "Year        2011\n",
      "RS           610\n",
      "RA           712\n",
      "W             72\n",
      "G            162\n",
      "Playoffs       0\n",
      "Name: 1, dtype: object)\n",
      "(2, Team         PIT\n",
      "League        NL\n",
      "Year        2010\n",
      "RS           587\n",
      "RA           866\n",
      "W             57\n",
      "G            162\n",
      "Playoffs       0\n",
      "Name: 2, dtype: object)\n",
      "(3, Team         PIT\n",
      "League        NL\n",
      "Year        2009\n",
      "RS           636\n",
      "RA           768\n",
      "W             62\n",
      "G            161\n",
      "Playoffs       0\n",
      "Name: 3, dtype: object)\n",
      "(4, Team         PIT\n",
      "League        NL\n",
      "Year        2008\n",
      "RS           735\n",
      "RA           884\n",
      "W             67\n",
      "G            162\n",
      "Playoffs       0\n",
      "Name: 4, dtype: object)\n"
     ]
    }
   ],
   "source": [
    "# Iterate over pit_df and print each row\n",
    "for i,row in pit_df.iterrows():\n",
    "    print(row)\n",
    "\n",
    "# Use one variable instead of two to store the result of .iterrows()\n",
    "for row_tuple in pit_df.iterrows():\n",
    "    print(row_tuple)"
   ]
  },
  {
   "cell_type": "markdown",
   "metadata": {},
   "source": [
    "### Run differentials with .iterrows()\n",
    "You've been hired by the San Francisco Giants as an analyst—congrats! The team's owner wants you to calculate a metric called the run differential for each season from the year 2008 to 2012. This metric is calculated by subtracting the total number of runs a team allowed in a season from the team's total number of runs scored in a season. 'RS' means runs scored and 'RA' means runs allowed.\n",
    "\n",
    "The below function calculates this metric:\n",
    "```python\n",
    "def calc_run_diff(runs_scored, runs_allowed):\n",
    "\n",
    "    run_diff = runs_scored - runs_allowed\n",
    "\n",
    "    return run_diff\n",
    "```\n",
    "A DataFrame has been loaded into your session as giants_df and printed into the console. Let's practice using `.iterrows()` to add a run differential column to this DataFrame."
   ]
  },
  {
   "cell_type": "code",
   "execution_count": 9,
   "metadata": {},
   "outputs": [],
   "source": [
    "giants_dict = {'Team': {0: 'SFG', 1: 'SFG', 2: 'SFG', 3: 'SFG', 4: 'SFG'},\n",
    " 'League': {0: 'NL', 1: 'NL', 2: 'NL', 3: 'NL', 4: 'NL'},\n",
    " 'Year': {0: 2012, 1: 2011, 2: 2010, 3: 2009, 4: 2008},\n",
    " 'RS': {0: 718, 1: 570, 2: 697, 3: 657, 4: 640},\n",
    " 'RA': {0: 649, 1: 578, 2: 583, 3: 611, 4: 759},\n",
    " 'W': {0: 94, 1: 86, 2: 92, 3: 88, 4: 72},\n",
    " 'G': {0: 162, 1: 162, 2: 162, 3: 162, 4: 162},\n",
    " 'Playoffs': {0: 1, 1: 0, 2: 1, 3: 0, 4: 0}}\n",
    "giants_df = pd.DataFrame(giants_dict)"
   ]
  },
  {
   "cell_type": "code",
   "execution_count": 10,
   "metadata": {},
   "outputs": [],
   "source": [
    "def calc_run_diff(runs_scored, runs_allowed):\n",
    "\n",
    "    run_diff = runs_scored - runs_allowed\n",
    "\n",
    "    return run_diff"
   ]
  },
  {
   "cell_type": "code",
   "execution_count": 11,
   "metadata": {},
   "outputs": [
    {
     "name": "stdout",
     "output_type": "stream",
     "text": [
      "  Team League  Year   RS   RA   W    G  Playoffs   RD\n",
      "0  SFG     NL  2012  718  649  94  162         1   69\n",
      "1  SFG     NL  2011  570  578  86  162         0   -8\n",
      "2  SFG     NL  2010  697  583  92  162         1  114\n",
      "3  SFG     NL  2009  657  611  88  162         0   46\n",
      "4  SFG     NL  2008  640  759  72  162         0 -119\n"
     ]
    }
   ],
   "source": [
    "# Create an empty list to store run differentials\n",
    "run_diffs = []\n",
    "\n",
    "# Write a for loop and collect runs allowed and runs scored for each row\n",
    "for i,row in giants_df.iterrows():\n",
    "    runs_scored = row['RS']\n",
    "    runs_allowed = row['RA']\n",
    "    \n",
    "    # Use the provided function to calculate run_diff for each row\n",
    "    run_diff = calc_run_diff(runs_scored, runs_allowed)\n",
    "    \n",
    "    # Append each run differential to the output list\n",
    "    run_diffs.append(run_diff)\n",
    "\n",
    "giants_df['RD'] = run_diffs\n",
    "print(giants_df)"
   ]
  },
  {
   "cell_type": "markdown",
   "metadata": {},
   "source": [
    "## Another iterator method: `.itertuples()`\n",
    "- more effecient \n"
   ]
  },
  {
   "cell_type": "code",
   "execution_count": 14,
   "metadata": {},
   "outputs": [
    {
     "name": "stdout",
     "output_type": "stream",
     "text": [
      "Pandas(Index=0, Team='SFG', League='NL', Year=2012, RS=718, RA=649, W=94, G=162, Playoffs=1, RD=69)\n",
      "Pandas(Index=1, Team='SFG', League='NL', Year=2011, RS=570, RA=578, W=86, G=162, Playoffs=0, RD=-8)\n",
      "Pandas(Index=2, Team='SFG', League='NL', Year=2010, RS=697, RA=583, W=92, G=162, Playoffs=1, RD=114)\n",
      "Pandas(Index=3, Team='SFG', League='NL', Year=2009, RS=657, RA=611, W=88, G=162, Playoffs=0, RD=46)\n",
      "Pandas(Index=4, Team='SFG', League='NL', Year=2008, RS=640, RA=759, W=72, G=162, Playoffs=0, RD=-119)\n",
      "SFG\n"
     ]
    }
   ],
   "source": [
    "for row_namedtuple in giants_df.itertuples():\n",
    "    print(row_namedtuple)\n",
    "# access one column    \n",
    "print(row_namedtuple.Team)    "
   ]
  },
  {
   "cell_type": "markdown",
   "metadata": {},
   "source": [
    "### Iterating with .itertuples()\n",
    "Remember, .itertuples() returns each DataFrame row as a special data type called a namedtuple. You can look up an attribute within a namedtuple with a special syntax. Let's practice working with namedtuples.\n",
    "\n",
    "A pandas DataFrame has been loaded into your session called rangers_df. This DataFrame contains the stats ('Team', 'League', 'Year', 'RS', 'RA', 'W', 'G', and 'Playoffs') for the Major League baseball team named the Texas Rangers (abbreviated as 'TEX')."
   ]
  },
  {
   "cell_type": "code",
   "execution_count": 15,
   "metadata": {},
   "outputs": [],
   "source": []
  },
  {
   "cell_type": "code",
   "execution_count": 18,
   "metadata": {},
   "outputs": [],
   "source": [
    "import json\n",
    "with open('data/rangers_dict.txt', 'r') as file:\n",
    "    rangers_dict = json.load(file)\n",
    "rangers_df = pd.DataFrame(rangers_dict)    "
   ]
  },
  {
   "cell_type": "code",
   "execution_count": 19,
   "metadata": {},
   "outputs": [
    {
     "name": "stdout",
     "output_type": "stream",
     "text": [
      "Pandas(Index='0', Team='TEX', League='AL', Year=2012, RS=808, RA=707, W=93, G=162, Playoffs=1)\n",
      "Pandas(Index='1', Team='TEX', League='AL', Year=2011, RS=855, RA=677, W=96, G=162, Playoffs=1)\n",
      "Pandas(Index='2', Team='TEX', League='AL', Year=2010, RS=787, RA=687, W=90, G=162, Playoffs=1)\n",
      "Pandas(Index='3', Team='TEX', League='AL', Year=2009, RS=784, RA=740, W=87, G=162, Playoffs=0)\n",
      "Pandas(Index='4', Team='TEX', League='AL', Year=2008, RS=901, RA=967, W=79, G=162, Playoffs=0)\n",
      "Pandas(Index='5', Team='TEX', League='AL', Year=2007, RS=816, RA=844, W=75, G=162, Playoffs=0)\n",
      "Pandas(Index='6', Team='TEX', League='AL', Year=2006, RS=835, RA=784, W=80, G=162, Playoffs=0)\n",
      "Pandas(Index='7', Team='TEX', League='AL', Year=2005, RS=865, RA=858, W=79, G=162, Playoffs=0)\n",
      "Pandas(Index='8', Team='TEX', League='AL', Year=2004, RS=860, RA=794, W=89, G=162, Playoffs=0)\n",
      "Pandas(Index='9', Team='TEX', League='AL', Year=2003, RS=826, RA=969, W=71, G=162, Playoffs=0)\n",
      "Pandas(Index='10', Team='TEX', League='AL', Year=2002, RS=843, RA=882, W=72, G=162, Playoffs=0)\n",
      "Pandas(Index='11', Team='TEX', League='AL', Year=2001, RS=890, RA=968, W=73, G=162, Playoffs=0)\n",
      "Pandas(Index='12', Team='TEX', League='AL', Year=2000, RS=848, RA=974, W=71, G=162, Playoffs=0)\n",
      "Pandas(Index='13', Team='TEX', League='AL', Year=1999, RS=945, RA=859, W=95, G=162, Playoffs=1)\n",
      "Pandas(Index='14', Team='TEX', League='AL', Year=1998, RS=940, RA=871, W=88, G=162, Playoffs=1)\n",
      "Pandas(Index='15', Team='TEX', League='AL', Year=1997, RS=807, RA=823, W=77, G=162, Playoffs=0)\n",
      "Pandas(Index='16', Team='TEX', League='AL', Year=1996, RS=928, RA=799, W=90, G=163, Playoffs=1)\n",
      "Pandas(Index='17', Team='TEX', League='AL', Year=1993, RS=835, RA=751, W=86, G=162, Playoffs=0)\n",
      "Pandas(Index='18', Team='TEX', League='AL', Year=1992, RS=682, RA=753, W=77, G=162, Playoffs=0)\n",
      "Pandas(Index='19', Team='TEX', League='AL', Year=1991, RS=829, RA=814, W=85, G=162, Playoffs=0)\n",
      "Pandas(Index='20', Team='TEX', League='AL', Year=1990, RS=676, RA=696, W=83, G=162, Playoffs=0)\n",
      "Pandas(Index='21', Team='TEX', League='AL', Year=1989, RS=695, RA=714, W=83, G=162, Playoffs=0)\n",
      "Pandas(Index='22', Team='TEX', League='AL', Year=1988, RS=637, RA=735, W=70, G=161, Playoffs=0)\n",
      "Pandas(Index='23', Team='TEX', League='AL', Year=1987, RS=823, RA=849, W=75, G=162, Playoffs=0)\n",
      "Pandas(Index='24', Team='TEX', League='AL', Year=1986, RS=771, RA=743, W=87, G=162, Playoffs=0)\n",
      "Pandas(Index='25', Team='TEX', League='AL', Year=1985, RS=617, RA=785, W=62, G=161, Playoffs=0)\n",
      "Pandas(Index='26', Team='TEX', League='AL', Year=1984, RS=656, RA=714, W=69, G=161, Playoffs=0)\n",
      "Pandas(Index='27', Team='TEX', League='AL', Year=1983, RS=639, RA=609, W=77, G=163, Playoffs=0)\n",
      "Pandas(Index='28', Team='TEX', League='AL', Year=1982, RS=590, RA=749, W=64, G=162, Playoffs=0)\n",
      "Pandas(Index='29', Team='TEX', League='AL', Year=1980, RS=756, RA=752, W=76, G=163, Playoffs=0)\n",
      "Pandas(Index='30', Team='TEX', League='AL', Year=1979, RS=750, RA=698, W=83, G=162, Playoffs=0)\n",
      "Pandas(Index='31', Team='TEX', League='AL', Year=1978, RS=692, RA=632, W=87, G=162, Playoffs=0)\n",
      "Pandas(Index='32', Team='TEX', League='AL', Year=1977, RS=767, RA=657, W=94, G=162, Playoffs=0)\n",
      "Pandas(Index='33', Team='TEX', League='AL', Year=1976, RS=616, RA=652, W=76, G=162, Playoffs=0)\n",
      "Pandas(Index='34', Team='TEX', League='AL', Year=1975, RS=714, RA=733, W=79, G=162, Playoffs=0)\n",
      "Pandas(Index='35', Team='TEX', League='AL', Year=1974, RS=690, RA=698, W=83, G=161, Playoffs=0)\n",
      "Pandas(Index='36', Team='TEX', League='AL', Year=1973, RS=619, RA=844, W=57, G=162, Playoffs=0)\n"
     ]
    }
   ],
   "source": [
    "# Loop over the DataFrame and print each row\n",
    "for namedtuple in rangers_df.itertuples():\n",
    "  print(namedtuple)\n",
    "\n",
    "# Loop over the DataFrame and print each row's Index, Year and Wins (W)\n",
    "for row in rangers_df.itertuples():\n",
    "  i = row.Index\n",
    "  year = row.Year\n",
    "  wins = row.W\n",
    "  print(i, year, wins)"
   ]
  },
  {
   "cell_type": "code",
   "execution_count": 20,
   "metadata": {},
   "outputs": [
    {
     "name": "stdout",
     "output_type": "stream",
     "text": [
      "0 2012 93\n",
      "1 2011 96\n",
      "2 2010 90\n",
      "13 1999 95\n",
      "14 1998 88\n",
      "16 1996 90\n"
     ]
    }
   ],
   "source": [
    "# Loop over the DataFrame and print each row's Index, Year and Wins (W)\n",
    "for row in rangers_df.itertuples():\n",
    "  i = row.Index\n",
    "  year = row.Year\n",
    "  wins = row.W\n",
    "  \n",
    "  # Check if rangers made Playoffs (1 means yes; 0 means no)\n",
    "  if row.Playoffs == 1:\n",
    "    print(i, year, wins)"
   ]
  },
  {
   "cell_type": "markdown",
   "metadata": {},
   "source": [
    "### Run differentials with .itertuples()\n",
    "The New York Yankees have made a trade with the San Francisco Giants for your analyst contract— you're a hot commodity! Your new boss has seen your work with the Giants and now wants you to do something similar with the Yankees data. He'd like you to calculate run differentials for the Yankees from the year 1962 to the year 2012 and find which season they had the best run differential.\n",
    "\n",
    "You've remembered the function you used when working with the Giants and quickly write it down:\n",
    "```python\n",
    "def calc_run_diff(runs_scored, runs_allowed):\n",
    "\n",
    "    run_diff = runs_scored - runs_allowed\n",
    "\n",
    "    return run_diff\n",
    "```\n",
    "Let's use `.itertuples()` to loop over the `yankees_df` DataFrame (which has been loaded into your session) and calculate run differentials."
   ]
  },
  {
   "cell_type": "code",
   "execution_count": 24,
   "metadata": {},
   "outputs": [],
   "source": [
    "import json\n",
    "with open('data/yankees_dict.txt', 'r') as file:\n",
    "     yankees_dict = json.load(file)\n",
    "yankees_df = pd.DataFrame(yankees_dict)    "
   ]
  },
  {
   "cell_type": "code",
   "execution_count": 25,
   "metadata": {},
   "outputs": [],
   "source": [
    "def calc_run_diff(runs_scored, runs_allowed):\n",
    "\n",
    "    run_diff = runs_scored - runs_allowed\n",
    "\n",
    "    return run_diff"
   ]
  },
  {
   "cell_type": "code",
   "execution_count": 27,
   "metadata": {},
   "outputs": [
    {
     "name": "stdout",
     "output_type": "stream",
     "text": [
      "   Team League  Year   RS   RA    W    G  Playoffs  Differntial   RD\n",
      "0   NYY     AL  2012  804  668   95  162         1          136  136\n",
      "1   NYY     AL  2011  867  657   97  162         1          210  210\n",
      "2   NYY     AL  2010  859  693   95  162         1          166  166\n",
      "3   NYY     AL  2009  915  753  103  162         1          162  162\n",
      "4   NYY     AL  2008  789  727   89  162         0           62   62\n",
      "5   NYY     AL  2007  968  777   94  162         1          191  191\n",
      "6   NYY     AL  2006  930  767   97  162         1          163  163\n",
      "7   NYY     AL  2005  886  789   95  162         1           97   97\n",
      "8   NYY     AL  2004  897  808  101  162         1           89   89\n",
      "9   NYY     AL  2003  877  716  101  163         1          161  161\n",
      "10  NYY     AL  2002  897  697  103  161         1          200  200\n",
      "11  NYY     AL  2001  804  713   95  161         1           91   91\n",
      "12  NYY     AL  2000  871  814   87  161         1           57   57\n",
      "13  NYY     AL  1999  900  731   98  162         1          169  169\n",
      "14  NYY     AL  1998  965  656  114  162         1          309  309\n",
      "15  NYY     AL  1997  891  688   96  162         1          203  203\n",
      "16  NYY     AL  1996  871  787   92  162         1           84   84\n",
      "17  NYY     AL  1993  821  761   88  162         0           60   60\n",
      "18  NYY     AL  1992  733  746   76  162         0          -13  -13\n",
      "19  NYY     AL  1991  674  777   71  162         0         -103 -103\n",
      "20  NYY     AL  1990  603  749   67  162         0         -146 -146\n",
      "21  NYY     AL  1989  698  792   74  161         0          -94  -94\n",
      "22  NYY     AL  1988  772  748   85  161         0           24   24\n",
      "23  NYY     AL  1987  788  758   89  162         0           30   30\n",
      "24  NYY     AL  1986  797  738   90  162         0           59   59\n",
      "25  NYY     AL  1985  839  660   97  161         0          179  179\n",
      "26  NYY     AL  1984  758  679   87  162         0           79   79\n",
      "27  NYY     AL  1983  770  703   91  162         0           67   67\n",
      "28  NYY     AL  1982  709  716   79  162         0           -7   -7\n",
      "29  NYY     AL  1980  820  662  103  162         1          158  158\n",
      "30  NYY     AL  1979  734  672   89  160         0           62   62\n",
      "31  NYY     AL  1978  735  582  100  163         1          153  153\n",
      "32  NYY     AL  1977  831  651  100  162         1          180  180\n",
      "33  NYY     AL  1976  730  575   97  159         1          155  155\n",
      "34  NYY     AL  1975  681  588   83  160         0           93   93\n",
      "35  NYY     AL  1974  671  623   89  162         0           48   48\n",
      "36  NYY     AL  1973  641  610   80  162         0           31   31\n",
      "37  NYY     AL  1971  648  641   81  162         0            7    7\n",
      "38  NYY     AL  1970  680  612   93  163         0           68   68\n",
      "39  NYY     AL  1969  562  587   80  162         0          -25  -25\n",
      "40  NYY     AL  1968  536  531   83  164         0            5    5\n",
      "41  NYY     AL  1967  522  621   72  163         0          -99  -99\n",
      "42  NYY     AL  1966  611  612   70  160         0           -1   -1\n",
      "43  NYY     AL  1965  611  604   77  162         0            7    7\n",
      "44  NYY     AL  1964  730  577   99  164         1          153  153\n",
      "45  NYY     AL  1963  714  547  104  161         1          167  167\n",
      "46  NYY     AL  1962  817  680   96  162         1          137  137\n"
     ]
    }
   ],
   "source": [
    "run_diffs = []\n",
    "\n",
    "# Loop over the DataFrame and calculate each row's run differential\n",
    "for row in yankees_df.itertuples():\n",
    "    \n",
    "    runs_scored = row.RS\n",
    "    runs_allowed = row.RA\n",
    "\n",
    "    run_diff = calc_run_diff(runs_scored, runs_allowed)\n",
    "    \n",
    "    run_diffs.append(run_diff)\n",
    "\n",
    "# Append new column\n",
    "yankees_df['RD'] = run_diffs\n",
    "print(yankees_df)"
   ]
  },
  {
   "cell_type": "markdown",
   "metadata": {},
   "source": [
    "## pandas alternative to looping\n",
    "- pandas.apply is like a map()\n"
   ]
  },
  {
   "cell_type": "markdown",
   "metadata": {},
   "source": [
    "### Analyzing baseball stats with .apply()\n",
    "The Tampa Bay Rays want you to analyze their data.\n",
    "\n",
    "They'd like the following metrics:\n",
    "\n",
    "The sum of each column in the data\n",
    "The total amount of runs scored in a year ('RS' + 'RA' for each year)\n",
    "The 'Playoffs' column in text format rather than using 1's and 0's\n",
    "The below function can be used to convert the 'Playoffs' column to text:\n",
    "```python\n",
    "def text_playoffs(num_playoffs): \n",
    "    if num_playoffs == 1:\n",
    "        return 'Yes'\n",
    "    else:\n",
    "        return 'No'\n",
    "```    \n",
    "Use .apply() to get these metrics. A DataFrame (rays_df) has been loaded and printed to the console. This DataFrame is indexed on the 'Year' column."
   ]
  },
  {
   "cell_type": "code",
   "execution_count": 29,
   "metadata": {},
   "outputs": [],
   "source": [
    "def text_playoffs(num_playoffs): \n",
    "    if num_playoffs == 1:\n",
    "        return 'Yes'\n",
    "    else:\n",
    "        return 'No'"
   ]
  },
  {
   "cell_type": "code",
   "execution_count": 31,
   "metadata": {},
   "outputs": [],
   "source": [
    "rays_dict = {'RS': {2012: 697, 2011: 707, 2010: 802, 2009: 803, 2008: 774},\n",
    " 'RA': {2012: 577, 2011: 614, 2010: 649, 2009: 754, 2008: 671},\n",
    " 'W': {2012: 90, 2011: 91, 2010: 96, 2009: 84, 2008: 97},\n",
    " 'Playoffs': {2012: 0, 2011: 1, 2010: 1, 2009: 0, 2008: 1}}\n",
    "rays_df = pd.DataFrame(rays_dict)"
   ]
  },
  {
   "cell_type": "code",
   "execution_count": 34,
   "metadata": {},
   "outputs": [
    {
     "name": "stdout",
     "output_type": "stream",
     "text": [
      "RS          3783\n",
      "RA          3265\n",
      "W            458\n",
      "Playoffs       3\n",
      "dtype: int64\n",
      "2012    1274\n",
      "2011    1321\n",
      "2010    1451\n",
      "2009    1557\n",
      "2008    1445\n",
      "dtype: int64\n",
      "2012     No\n",
      "2011    Yes\n",
      "2010    Yes\n",
      "2009     No\n",
      "2008    Yes\n",
      "dtype: object\n"
     ]
    }
   ],
   "source": [
    "# Gather sum of all columns\n",
    "stat_totals = rays_df.apply(sum, axis=0)\n",
    "print(stat_totals)\n",
    "\n",
    "# Gather total runs scored in all games per year\n",
    "total_runs_scored = rays_df[['RS', 'RA']].apply(sum, axis=1)\n",
    "print(total_runs_scored)\n",
    "\n",
    "# Convert numeric playoffs to text\n",
    "textual_playoffs = rays_df.apply(lambda row: text_playoffs(row['Playoffs']), axis=1)\n",
    "print(textual_playoffs)"
   ]
  },
  {
   "cell_type": "markdown",
   "metadata": {},
   "source": [
    "### Settle a debate with .apply()\n",
    "Word has gotten to the Arizona Diamondbacks about your awesome analytics skills. They'd like for you to help settle a debate amongst the managers. One manager claims that the team has made the playoffs every year they have had a win percentage of 0.50 or greater. Another manager says this is not true.\n",
    "\n",
    "Let's use the below function and the .apply() method to see which manager is correct.\n",
    "```python\n",
    "def calc_win_perc(wins, games_played):\n",
    "    win_perc = wins / games_played\n",
    "    return np.round(win_perc,2)\n",
    "```\n",
    "A DataFrame named dbacks_df has been loaded into your session."
   ]
  },
  {
   "cell_type": "code",
   "execution_count": 37,
   "metadata": {},
   "outputs": [],
   "source": [
    "import json\n",
    "with open('data/dbacks.txt', 'r') as file:\n",
    "    dbacks_dict = json.load( file)\n",
    "dbacks_df = pd.DataFrame(dbacks_dict)  "
   ]
  },
  {
   "cell_type": "code",
   "execution_count": 38,
   "metadata": {},
   "outputs": [],
   "source": [
    "def calc_win_perc(wins, games_played):\n",
    "    win_perc = wins / games_played\n",
    "    return np.round(win_perc,2)"
   ]
  },
  {
   "cell_type": "code",
   "execution_count": 40,
   "metadata": {},
   "outputs": [
    {
     "name": "stdout",
     "output_type": "stream",
     "text": [
      "  Team League  Year   RS   RA   W    G  Playoffs\n",
      "0  ARI     NL  2012  734  688  81  162         0\n",
      "1  ARI     NL  2011  731  662  94  162         1\n",
      "2  ARI     NL  2010  713  836  65  162         0\n",
      "3  ARI     NL  2009  720  782  70  162         0\n",
      "4  ARI     NL  2008  720  706  82  162         0\n",
      "0     0.50\n",
      "1     0.58\n",
      "2     0.40\n",
      "3     0.43\n",
      "4     0.51\n",
      "5     0.56\n",
      "6     0.47\n",
      "7     0.48\n",
      "8     0.31\n",
      "9     0.52\n",
      "10    0.60\n",
      "11    0.57\n",
      "12    0.52\n",
      "13    0.62\n",
      "14    0.40\n",
      "dtype: float64 \n",
      "\n",
      "   Team League  Year   RS   RA    W    G  Playoffs    WP\n",
      "0   ARI     NL  2012  734  688   81  162         0  0.50\n",
      "1   ARI     NL  2011  731  662   94  162         1  0.58\n",
      "2   ARI     NL  2010  713  836   65  162         0  0.40\n",
      "3   ARI     NL  2009  720  782   70  162         0  0.43\n",
      "4   ARI     NL  2008  720  706   82  162         0  0.51\n",
      "5   ARI     NL  2007  712  732   90  162         1  0.56\n",
      "6   ARI     NL  2006  773  788   76  162         0  0.47\n",
      "7   ARI     NL  2005  696  856   77  162         0  0.48\n",
      "8   ARI     NL  2004  615  899   51  162         0  0.31\n",
      "9   ARI     NL  2003  717  685   84  162         0  0.52\n",
      "10  ARI     NL  2002  819  674   98  162         1  0.60\n",
      "11  ARI     NL  2001  818  677   92  162         1  0.57\n",
      "12  ARI     NL  2000  792  754   85  162         0  0.52\n",
      "13  ARI     NL  1999  908  676  100  162         1  0.62\n",
      "14  ARI     NL  1998  665  812   65  162         0  0.40 \n",
      "\n",
      "   Team League  Year   RS   RA    W    G  Playoffs    WP\n",
      "0   ARI     NL  2012  734  688   81  162         0  0.50\n",
      "1   ARI     NL  2011  731  662   94  162         1  0.58\n",
      "4   ARI     NL  2008  720  706   82  162         0  0.51\n",
      "5   ARI     NL  2007  712  732   90  162         1  0.56\n",
      "9   ARI     NL  2003  717  685   84  162         0  0.52\n",
      "10  ARI     NL  2002  819  674   98  162         1  0.60\n",
      "11  ARI     NL  2001  818  677   92  162         1  0.57\n",
      "12  ARI     NL  2000  792  754   85  162         0  0.52\n",
      "13  ARI     NL  1999  908  676  100  162         1  0.62\n"
     ]
    }
   ],
   "source": [
    "import numpy as np\n",
    "# Display the first five rows of the DataFrame\n",
    "print(dbacks_df.head())\n",
    "\n",
    "# Create a win percentage Series \n",
    "win_percs = dbacks_df.apply(lambda row: calc_win_perc(row['W'], row['G']), axis=1)\n",
    "print(win_percs, '\\n')\n",
    "\n",
    "# Append a new column to dbacks_df\n",
    "dbacks_df['WP'] = win_percs\n",
    "print(dbacks_df, '\\n')\n",
    "\n",
    "# Display dbacks_df where WP is greater than 0.50\n",
    "print(dbacks_df[dbacks_df['WP'] >= 0.50])"
   ]
  },
  {
   "cell_type": "markdown",
   "metadata": {},
   "source": [
    "## Optimal pandas iterating\n",
    "- can use numpy with pandas"
   ]
  },
  {
   "cell_type": "markdown",
   "metadata": {},
   "source": [
    "### Replacing .iloc with underlying arrays\n",
    "Now that you have a better grasp on a DataFrame's internals let's update one of your previous analyses to leverage a DataFrame's underlying arrays. You'll revisit the win percentage calculations you performed row by row with the .iloc method:\n",
    "```python\n",
    "def calc_win_perc(wins, games_played):\n",
    "    win_perc = wins / games_played\n",
    "    return np.round(win_perc,2)\n",
    "\n",
    "win_percs_list = []\n",
    "\n",
    "for i in range(len(baseball_df)):\n",
    "    row = baseball_df.iloc[i]\n",
    "\n",
    "    wins = row['W']\n",
    "    games_played = row['G']\n",
    "\n",
    "    win_perc = calc_win_perc(wins, games_played)\n",
    "\n",
    "    win_percs_list.append(win_perc)\n",
    "\n",
    "baseball_df['WP'] = win_percs_list\n",
    "```\n",
    "Let's update this analysis to use arrays instead of the .iloc method. A DataFrame (baseball_df) has been loaded into your session."
   ]
  },
  {
   "cell_type": "code",
   "execution_count": 41,
   "metadata": {
    "collapsed": true
   },
   "outputs": [
    {
     "ename": "NameError",
     "evalue": "name 'baseball_df' is not defined",
     "output_type": "error",
     "traceback": [
      "\u001b[1;31m---------------------------------------------------------------------------\u001b[0m",
      "\u001b[1;31mNameError\u001b[0m                                 Traceback (most recent call last)",
      "\u001b[1;32m<ipython-input-41-c41c356d135d>\u001b[0m in \u001b[0;36m<module>\u001b[1;34m\u001b[0m\n\u001b[0;32m      5\u001b[0m \u001b[0mwin_percs_list\u001b[0m \u001b[1;33m=\u001b[0m \u001b[1;33m[\u001b[0m\u001b[1;33m]\u001b[0m\u001b[1;33m\u001b[0m\u001b[1;33m\u001b[0m\u001b[0m\n\u001b[0;32m      6\u001b[0m \u001b[1;33m\u001b[0m\u001b[0m\n\u001b[1;32m----> 7\u001b[1;33m \u001b[1;32mfor\u001b[0m \u001b[0mi\u001b[0m \u001b[1;32min\u001b[0m \u001b[0mrange\u001b[0m\u001b[1;33m(\u001b[0m\u001b[0mlen\u001b[0m\u001b[1;33m(\u001b[0m\u001b[0mbaseball_df\u001b[0m\u001b[1;33m)\u001b[0m\u001b[1;33m)\u001b[0m\u001b[1;33m:\u001b[0m\u001b[1;33m\u001b[0m\u001b[1;33m\u001b[0m\u001b[0m\n\u001b[0m\u001b[0;32m      8\u001b[0m     \u001b[0mrow\u001b[0m \u001b[1;33m=\u001b[0m \u001b[0mbaseball_df\u001b[0m\u001b[1;33m.\u001b[0m\u001b[0miloc\u001b[0m\u001b[1;33m[\u001b[0m\u001b[0mi\u001b[0m\u001b[1;33m]\u001b[0m\u001b[1;33m\u001b[0m\u001b[1;33m\u001b[0m\u001b[0m\n\u001b[0;32m      9\u001b[0m \u001b[1;33m\u001b[0m\u001b[0m\n",
      "\u001b[1;31mNameError\u001b[0m: name 'baseball_df' is not defined"
     ]
    }
   ],
   "source": [
    "def calc_win_perc(wins, games_played):\n",
    "    win_perc = wins / games_played\n",
    "    return np.round(win_perc,2)\n",
    "\n",
    "win_percs_list = []\n",
    "b\n",
    "for i in range(len(baseball_df)):\n",
    "    row = baseball_df.iloc[i]\n",
    "\n",
    "    wins = row['W']\n",
    "    games_played = row['G']\n",
    "\n",
    "    win_perc = calc_win_perc(wins, games_played)\n",
    "\n",
    "    win_percs_list.append(win_perc)\n",
    "\n",
    "baseball_df['WP'] = win_percs_list"
   ]
  },
  {
   "cell_type": "code",
   "execution_count": null,
   "metadata": {},
   "outputs": [],
   "source": [
    "# Use the W array and G array to calculate win percentages\n",
    "win_percs_np = calc_win_perc(baseball_df['W'].values, baseball_df['G'].values)"
   ]
  },
  {
   "cell_type": "code",
   "execution_count": null,
   "metadata": {},
   "outputs": [],
   "source": [
    "win_perc_preds_loop = []\n",
    "\n",
    "# Use a loop and .itertuples() to collect each row's predicted win percentage\n",
    "for row in baseball_df.itertuples():\n",
    "    runs_scored = row.RS\n",
    "    runs_allowed = row.RA\n",
    "    win_perc_pred = predict_win_perc(runs_scored, runs_allowed)\n",
    "    win_perc_preds_loop.append(win_perc_pred)\n",
    "\n",
    "# Apply predict_win_perc to each row of the DataFrame\n",
    "win_perc_preds_apply = baseball_df.apply(lambda row: predict_win_perc(row['RS'], row['RA']), axis=1)\n",
    "\n",
    "# Calculate the win percentage predictions using NumPy arrays\n",
    "win_perc_preds_np = predict_win_perc(baseball_df['RA'].values, baseball_df['RS'].values)\n",
    "baseball_df['WP_preds'] = win_perc_preds_np\n",
    "print(baseball_df.head())"
   ]
  },
  {
   "cell_type": "code",
   "execution_count": null,
   "metadata": {},
   "outputs": [],
   "source": []
  }
 ],
 "metadata": {
  "kernelspec": {
   "display_name": "Python 3",
   "language": "python",
   "name": "python3"
  },
  "language_info": {
   "codemirror_mode": {
    "name": "ipython",
    "version": 3
   },
   "file_extension": ".py",
   "mimetype": "text/x-python",
   "name": "python",
   "nbconvert_exporter": "python",
   "pygments_lexer": "ipython3",
   "version": "3.8.2"
  }
 },
 "nbformat": 4,
 "nbformat_minor": 4
}
