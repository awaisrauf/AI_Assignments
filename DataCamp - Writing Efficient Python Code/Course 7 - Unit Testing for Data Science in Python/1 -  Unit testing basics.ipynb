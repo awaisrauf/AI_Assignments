{
 "cells": [
  {
   "cell_type": "markdown",
   "metadata": {},
   "source": [
    "# Unit testing basics\n",
    "- writing tests in console is repetative time consuming\n",
    "- `pytest`: start test files with test_....py\n",
    "  A simple example\n",
    "\n",
    "    ```python\n",
    "    # Import the pytest package\n",
    "    import pytest\n",
    "\n",
    "    # Import the function convert_to_int()\n",
    "    from preprocessing_helpers import convert_to_int\n",
    "\n",
    "    # Complete the unit test name by adding a prefix\n",
    "    def test_on_string_with_one_comma():\n",
    "      # Complete the assert statement\n",
    "\n",
    "      assert convert_to_int(\"2,081\") == 2081\n",
    "    ```"
   ]
  },
  {
   "cell_type": "markdown",
   "metadata": {},
   "source": [
    "## Understanding Test Results\n",
    "- unit tests error can also cause failures\n"
   ]
  },
  {
   "cell_type": "code",
   "execution_count": null,
   "metadata": {},
   "outputs": [],
   "source": []
  }
 ],
 "metadata": {
  "kernelspec": {
   "display_name": "Python 3",
   "language": "python",
   "name": "python3"
  },
  "language_info": {
   "codemirror_mode": {
    "name": "ipython",
    "version": 3
   },
   "file_extension": ".py",
   "mimetype": "text/x-python",
   "name": "python",
   "nbconvert_exporter": "python",
   "pygments_lexer": "ipython3",
   "version": "3.8.2"
  }
 },
 "nbformat": 4,
 "nbformat_minor": 4
}
